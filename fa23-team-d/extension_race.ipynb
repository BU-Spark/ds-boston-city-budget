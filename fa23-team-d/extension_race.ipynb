{
 "cells": [
  {
   "cell_type": "markdown",
   "metadata": {},
   "source": [
    "### Race"
   ]
  },
  {
   "cell_type": "code",
   "execution_count": null,
   "metadata": {},
   "outputs": [],
   "source": [
    "import pandas as pd\n",
    "\n",
    "# Load data from a specific sheet\n",
    "import pandas as pd\n",
    "\n",
    "# Load data from a specific sheet in an xlsm file\n",
    "sheet_name = 'Race'  # Replace with the actual sheet name\n",
    "df = pd.read_excel('./data/2015-2019_neighborhood_tables_2021.12.21.xlsm', sheet_name=sheet_name, engine='openpyxl')"
   ]
  }
 ],
 "metadata": {
  "language_info": {
   "name": "python"
  }
 },
 "nbformat": 4,
 "nbformat_minor": 2
}
