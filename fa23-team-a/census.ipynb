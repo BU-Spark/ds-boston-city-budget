{
 "cells": [
  {
   "cell_type": "code",
   "execution_count": 29,
   "id": "412b5683",
   "metadata": {},
   "outputs": [],
   "source": [
    "import pandas as pd\n",
    "df = pd.read_csv('data/census.csv')\n",
    "\n",
    "df = df.drop(0)\n",
    "df = df.rename(columns={\n",
    "    'tract20_nbhd': 'Neighborhood',\n",
    "    'P0020001': 'Pop Total',\n",
    "    'P0020005': 'Pop White',\n",
    "    'P0020006': 'Pop Black',\n",
    "    'P0020002': 'Pop Latino',\n",
    "    'P002aapi': 'Pop AAPI',\n",
    "    'P002others': 'Pop Other',\n",
    "    'P0040001': 'Adults',\n",
    "    'P0040005': 'Adults White',\n",
    "    'P0040006': 'Adults Black',\n",
    "    'P0040002': 'Adults Latino',\n",
    "    'P004aapi': 'Adults AAPI',\n",
    "    'P004others': 'Adults Other',\n",
    "    'P00x0001': 'Children',\n",
    "    'P00x0005': 'Children White',\n",
    "    'P00x0006': 'Children Black',\n",
    "    'P00x0002': 'Children Latino',\n",
    "    'P00xaapi': 'Children AAPI',\n",
    "    'P00xothers': 'Children Other',\n",
    "    'hhpop': 'Household Population',\n",
    "    'P0050001': 'Unknown',\n",
    "    'P0050002': 'Institutionalized',\n",
    "    'P0050007': 'Noninstitutionalized',\n",
    "    'hhsize': 'Household Size'\n",
    "})\n",
    "df['Neighborhood'] = df['Neighborhood'].str.strip()\n",
    "df = df.set_index('Neighborhood')\n",
    "df = df.apply(pd.to_numeric)"
   ]
  },
  {
   "cell_type": "code",
   "execution_count": 2,
   "id": "e1e0889d",
   "metadata": {},
   "outputs": [
    {
     "data": {
      "text/html": [
       "<div>\n",
       "<style scoped>\n",
       "    .dataframe tbody tr th:only-of-type {\n",
       "        vertical-align: middle;\n",
       "    }\n",
       "\n",
       "    .dataframe tbody tr th {\n",
       "        vertical-align: top;\n",
       "    }\n",
       "\n",
       "    .dataframe thead th {\n",
       "        text-align: right;\n",
       "    }\n",
       "</style>\n",
       "<table border=\"1\" class=\"dataframe\">\n",
       "  <thead>\n",
       "    <tr style=\"text-align: right;\">\n",
       "      <th></th>\n",
       "      <th>Pop Total</th>\n",
       "      <th>Pop White</th>\n",
       "      <th>Pop Black</th>\n",
       "      <th>Pop Latino</th>\n",
       "      <th>Pop AAPI</th>\n",
       "      <th>Pop Other</th>\n",
       "      <th>Adults</th>\n",
       "      <th>Adults White</th>\n",
       "      <th>Adults Black</th>\n",
       "      <th>Adults Latino</th>\n",
       "      <th>...</th>\n",
       "      <th>P0050005</th>\n",
       "      <th>P0050006</th>\n",
       "      <th>Noninstitutionalized</th>\n",
       "      <th>P0050008</th>\n",
       "      <th>P0050009</th>\n",
       "      <th>P0050010</th>\n",
       "      <th>H0010001</th>\n",
       "      <th>H0010002</th>\n",
       "      <th>H0010003</th>\n",
       "      <th>Household Size</th>\n",
       "    </tr>\n",
       "    <tr>\n",
       "      <th>Neighborhood</th>\n",
       "      <th></th>\n",
       "      <th></th>\n",
       "      <th></th>\n",
       "      <th></th>\n",
       "      <th></th>\n",
       "      <th></th>\n",
       "      <th></th>\n",
       "      <th></th>\n",
       "      <th></th>\n",
       "      <th></th>\n",
       "      <th></th>\n",
       "      <th></th>\n",
       "      <th></th>\n",
       "      <th></th>\n",
       "      <th></th>\n",
       "      <th></th>\n",
       "      <th></th>\n",
       "      <th></th>\n",
       "      <th></th>\n",
       "      <th></th>\n",
       "      <th></th>\n",
       "    </tr>\n",
       "  </thead>\n",
       "  <tbody>\n",
       "    <tr>\n",
       "      <th>Allston</th>\n",
       "      <td>24904</td>\n",
       "      <td>12536</td>\n",
       "      <td>1326</td>\n",
       "      <td>3259</td>\n",
       "      <td>6271</td>\n",
       "      <td>1512</td>\n",
       "      <td>23140</td>\n",
       "      <td>11976</td>\n",
       "      <td>1184</td>\n",
       "      <td>2726</td>\n",
       "      <td>...</td>\n",
       "      <td>0</td>\n",
       "      <td>0</td>\n",
       "      <td>3281</td>\n",
       "      <td>3214</td>\n",
       "      <td>0</td>\n",
       "      <td>67</td>\n",
       "      <td>10748</td>\n",
       "      <td>10027</td>\n",
       "      <td>721</td>\n",
       "      <td>2.156478</td>\n",
       "    </tr>\n",
       "    <tr>\n",
       "      <th>Back Bay</th>\n",
       "      <td>18190</td>\n",
       "      <td>13065</td>\n",
       "      <td>690</td>\n",
       "      <td>1208</td>\n",
       "      <td>2410</td>\n",
       "      <td>817</td>\n",
       "      <td>17042</td>\n",
       "      <td>12349</td>\n",
       "      <td>641</td>\n",
       "      <td>1091</td>\n",
       "      <td>...</td>\n",
       "      <td>269</td>\n",
       "      <td>0</td>\n",
       "      <td>1610</td>\n",
       "      <td>1487</td>\n",
       "      <td>0</td>\n",
       "      <td>123</td>\n",
       "      <td>11524</td>\n",
       "      <td>10006</td>\n",
       "      <td>1518</td>\n",
       "      <td>1.630122</td>\n",
       "    </tr>\n",
       "    <tr>\n",
       "      <th>Beacon Hill</th>\n",
       "      <td>9336</td>\n",
       "      <td>7521</td>\n",
       "      <td>252</td>\n",
       "      <td>537</td>\n",
       "      <td>630</td>\n",
       "      <td>396</td>\n",
       "      <td>8603</td>\n",
       "      <td>6980</td>\n",
       "      <td>231</td>\n",
       "      <td>475</td>\n",
       "      <td>...</td>\n",
       "      <td>0</td>\n",
       "      <td>0</td>\n",
       "      <td>33</td>\n",
       "      <td>0</td>\n",
       "      <td>0</td>\n",
       "      <td>33</td>\n",
       "      <td>6037</td>\n",
       "      <td>5485</td>\n",
       "      <td>552</td>\n",
       "      <td>1.696080</td>\n",
       "    </tr>\n",
       "    <tr>\n",
       "      <th>Brighton</th>\n",
       "      <td>52047</td>\n",
       "      <td>32694</td>\n",
       "      <td>2414</td>\n",
       "      <td>5376</td>\n",
       "      <td>8703</td>\n",
       "      <td>2860</td>\n",
       "      <td>47657</td>\n",
       "      <td>30752</td>\n",
       "      <td>2076</td>\n",
       "      <td>4388</td>\n",
       "      <td>...</td>\n",
       "      <td>266</td>\n",
       "      <td>56</td>\n",
       "      <td>3796</td>\n",
       "      <td>3493</td>\n",
       "      <td>0</td>\n",
       "      <td>303</td>\n",
       "      <td>23653</td>\n",
       "      <td>22535</td>\n",
       "      <td>1118</td>\n",
       "      <td>2.126292</td>\n",
       "    </tr>\n",
       "    <tr>\n",
       "      <th>Charlestown</th>\n",
       "      <td>19120</td>\n",
       "      <td>13626</td>\n",
       "      <td>990</td>\n",
       "      <td>2075</td>\n",
       "      <td>1650</td>\n",
       "      <td>779</td>\n",
       "      <td>15661</td>\n",
       "      <td>11689</td>\n",
       "      <td>662</td>\n",
       "      <td>1387</td>\n",
       "      <td>...</td>\n",
       "      <td>55</td>\n",
       "      <td>0</td>\n",
       "      <td>55</td>\n",
       "      <td>0</td>\n",
       "      <td>30</td>\n",
       "      <td>25</td>\n",
       "      <td>9525</td>\n",
       "      <td>8932</td>\n",
       "      <td>593</td>\n",
       "      <td>2.128303</td>\n",
       "    </tr>\n",
       "  </tbody>\n",
       "</table>\n",
       "<p>5 rows × 33 columns</p>\n",
       "</div>"
      ],
      "text/plain": [
       "              Pop Total  Pop White  Pop Black  Pop Latino  Pop AAPI  \\\n",
       "Neighborhood                                                          \n",
       "Allston           24904      12536       1326        3259      6271   \n",
       "Back Bay          18190      13065        690        1208      2410   \n",
       "Beacon Hill        9336       7521        252         537       630   \n",
       "Brighton          52047      32694       2414        5376      8703   \n",
       "Charlestown       19120      13626        990        2075      1650   \n",
       "\n",
       "              Pop Other  Adults  Adults White  Adults Black  Adults Latino  \\\n",
       "Neighborhood                                                                 \n",
       "Allston            1512   23140         11976          1184           2726   \n",
       "Back Bay            817   17042         12349           641           1091   \n",
       "Beacon Hill         396    8603          6980           231            475   \n",
       "Brighton           2860   47657         30752          2076           4388   \n",
       "Charlestown         779   15661         11689           662           1387   \n",
       "\n",
       "              ...  P0050005  P0050006  Noninstitutionalized  P0050008  \\\n",
       "Neighborhood  ...                                                       \n",
       "Allston       ...         0         0                  3281      3214   \n",
       "Back Bay      ...       269         0                  1610      1487   \n",
       "Beacon Hill   ...         0         0                    33         0   \n",
       "Brighton      ...       266        56                  3796      3493   \n",
       "Charlestown   ...        55         0                    55         0   \n",
       "\n",
       "              P0050009  P0050010  H0010001  H0010002  H0010003  Household Size  \n",
       "Neighborhood                                                                    \n",
       "Allston              0        67     10748     10027       721        2.156478  \n",
       "Back Bay             0       123     11524     10006      1518        1.630122  \n",
       "Beacon Hill          0        33      6037      5485       552        1.696080  \n",
       "Brighton             0       303     23653     22535      1118        2.126292  \n",
       "Charlestown         30        25      9525      8932       593        2.128303  \n",
       "\n",
       "[5 rows x 33 columns]"
      ]
     },
     "execution_count": 2,
     "metadata": {},
     "output_type": "execute_result"
    }
   ],
   "source": [
    "df.head()"
   ]
  },
  {
   "cell_type": "code",
   "execution_count": 34,
   "id": "74a1e0ee",
   "metadata": {},
   "outputs": [
    {
     "data": {
      "image/png": "[encoded data removed]",
      "text/plain": [
       "<Figure size 864x648 with 1 Axes>"
      ]
     },
     "metadata": {
      "needs_background": "light"
     },
     "output_type": "display_data"
    }
   ],
   "source": [
    "import matplotlib.pyplot as plt\n",
    "\n",
    "plt.figure(figsize=(12, 9))\n",
    "df['Pop Total'].sort_values().plot.bar()\n",
    "plt.ylabel('Population')\n",
    "plt.xticks(rotation=45, ha='right');"
   ]
  },
  {
   "cell_type": "code",
   "execution_count": 4,
   "id": "e93333d9",
   "metadata": {},
   "outputs": [
    {
     "data": {
      "image/png": "[encoded data removed]",
      "text/plain": [
       "<Figure size 432x432 with 1 Axes>"
      ]
     },
     "metadata": {},
     "output_type": "display_data"
    }
   ],
   "source": [
    "plt.figure(figsize=(6, 6))\n",
    "dot = df.loc['Dorchester'][['Pop White', 'Pop Black', 'Pop Latino', 'Pop AAPI', 'Pop Other']]\n",
    "dot.plot.pie();"
   ]
  },
  {
   "cell_type": "code",
   "execution_count": 5,
   "id": "687ef277",
   "metadata": {},
   "outputs": [
    {
     "data": {
      "image/png": "[encoded data removed]",
      "text/plain": [
       "<Figure size 432x288 with 1 Axes>"
      ]
     },
     "metadata": {
      "needs_background": "light"
     },
     "output_type": "display_data"
    }
   ],
   "source": [
    "mvne = df.loc[['Mattapan', 'North End']][['Pop White', 'Pop Black', 'Pop Latino', 'Pop AAPI', 'Pop Other']]\n",
    "mvne = mvne.T / df.loc[['Mattapan', 'North End']]['Pop Total']\n",
    "\n",
    "mvne.plot.bar()\n",
    "plt.ylabel('Proportion of Residents');"
   ]
  },
  {
   "cell_type": "code",
   "execution_count": 6,
   "id": "925704e0",
   "metadata": {},
   "outputs": [
    {
     "data": {
      "image/png": "[encoded data removed]",
      "text/plain": [
       "<Figure size 432x432 with 1 Axes>"
      ]
     },
     "metadata": {},
     "output_type": "display_data"
    }
   ],
   "source": [
    "plt.figure(figsize=(6, 6))\n",
    "bb = df.loc['Back Bay'][['Pop White', 'Pop Black', 'Pop Latino', 'Pop AAPI', 'Pop Other']]\n",
    "bb.plot.pie();"
   ]
  },
  {
   "cell_type": "code",
   "execution_count": 30,
   "id": "939168ee",
   "metadata": {},
   "outputs": [
    {
     "data": {
      "text/html": [
       "<div>\n",
       "<style scoped>\n",
       "    .dataframe tbody tr th:only-of-type {\n",
       "        vertical-align: middle;\n",
       "    }\n",
       "\n",
       "    .dataframe tbody tr th {\n",
       "        vertical-align: top;\n",
       "    }\n",
       "\n",
       "    .dataframe thead th {\n",
       "        text-align: right;\n",
       "    }\n",
       "</style>\n",
       "<table border=\"1\" class=\"dataframe\">\n",
       "  <thead>\n",
       "    <tr style=\"text-align: right;\">\n",
       "      <th></th>\n",
       "      <th>Total_Project_Budget</th>\n",
       "      <th>Percentage</th>\n",
       "      <th>Budget_Percentage</th>\n",
       "    </tr>\n",
       "    <tr>\n",
       "      <th>Neighborhood</th>\n",
       "      <th></th>\n",
       "      <th></th>\n",
       "      <th></th>\n",
       "    </tr>\n",
       "  </thead>\n",
       "  <tbody>\n",
       "    <tr>\n",
       "      <th>Charlestown</th>\n",
       "      <td>531212390.0</td>\n",
       "      <td>18.848537</td>\n",
       "      <td>18.848537</td>\n",
       "    </tr>\n",
       "    <tr>\n",
       "      <th>Downtown</th>\n",
       "      <td>318415000.0</td>\n",
       "      <td>11.298036</td>\n",
       "      <td>11.298036</td>\n",
       "    </tr>\n",
       "    <tr>\n",
       "      <th>Chinatown</th>\n",
       "      <td>271272172.0</td>\n",
       "      <td>9.625309</td>\n",
       "      <td>9.625309</td>\n",
       "    </tr>\n",
       "    <tr>\n",
       "      <th>Dorchester</th>\n",
       "      <td>239411239.0</td>\n",
       "      <td>8.494816</td>\n",
       "      <td>8.494816</td>\n",
       "    </tr>\n",
       "    <tr>\n",
       "      <th>Roxbury</th>\n",
       "      <td>237308325.0</td>\n",
       "      <td>8.420200</td>\n",
       "      <td>8.420200</td>\n",
       "    </tr>\n",
       "    <tr>\n",
       "      <th>South Boston</th>\n",
       "      <td>200249965.0</td>\n",
       "      <td>7.105291</td>\n",
       "      <td>7.105291</td>\n",
       "    </tr>\n",
       "    <tr>\n",
       "      <th>South End</th>\n",
       "      <td>182957034.0</td>\n",
       "      <td>6.491702</td>\n",
       "      <td>6.491702</td>\n",
       "    </tr>\n",
       "    <tr>\n",
       "      <th>Harbor Islands</th>\n",
       "      <td>171778144.0</td>\n",
       "      <td>6.095051</td>\n",
       "      <td>6.095051</td>\n",
       "    </tr>\n",
       "    <tr>\n",
       "      <th>Roslindale</th>\n",
       "      <td>102470000.0</td>\n",
       "      <td>3.635852</td>\n",
       "      <td>3.635852</td>\n",
       "    </tr>\n",
       "    <tr>\n",
       "      <th>North End</th>\n",
       "      <td>95445000.0</td>\n",
       "      <td>3.386590</td>\n",
       "      <td>3.386590</td>\n",
       "    </tr>\n",
       "    <tr>\n",
       "      <th>Mattapan</th>\n",
       "      <td>87935000.0</td>\n",
       "      <td>3.120119</td>\n",
       "      <td>3.120119</td>\n",
       "    </tr>\n",
       "    <tr>\n",
       "      <th>Jamaica Plain</th>\n",
       "      <td>81700000.0</td>\n",
       "      <td>2.898888</td>\n",
       "      <td>2.898888</td>\n",
       "    </tr>\n",
       "    <tr>\n",
       "      <th>Back Bay</th>\n",
       "      <td>65442299.0</td>\n",
       "      <td>2.322031</td>\n",
       "      <td>2.322031</td>\n",
       "    </tr>\n",
       "    <tr>\n",
       "      <th>East Boston</th>\n",
       "      <td>62457890.0</td>\n",
       "      <td>2.216138</td>\n",
       "      <td>2.216138</td>\n",
       "    </tr>\n",
       "    <tr>\n",
       "      <th>Allston/Brighton</th>\n",
       "      <td>57605000.0</td>\n",
       "      <td>2.043947</td>\n",
       "      <td>2.043947</td>\n",
       "    </tr>\n",
       "    <tr>\n",
       "      <th>West Roxbury</th>\n",
       "      <td>48645000.0</td>\n",
       "      <td>1.726027</td>\n",
       "      <td>1.726027</td>\n",
       "    </tr>\n",
       "    <tr>\n",
       "      <th>Beacon Hill</th>\n",
       "      <td>34410000.0</td>\n",
       "      <td>1.220939</td>\n",
       "      <td>1.220939</td>\n",
       "    </tr>\n",
       "    <tr>\n",
       "      <th>Fenway</th>\n",
       "      <td>12750000.0</td>\n",
       "      <td>0.452397</td>\n",
       "      <td>0.452397</td>\n",
       "    </tr>\n",
       "    <tr>\n",
       "      <th>Hyde Park</th>\n",
       "      <td>6615000.0</td>\n",
       "      <td>0.234714</td>\n",
       "      <td>0.234714</td>\n",
       "    </tr>\n",
       "    <tr>\n",
       "      <th>Mission Hill</th>\n",
       "      <td>5242212.0</td>\n",
       "      <td>0.186005</td>\n",
       "      <td>0.186005</td>\n",
       "    </tr>\n",
       "    <tr>\n",
       "      <th>West End</th>\n",
       "      <td>5000000.0</td>\n",
       "      <td>0.177411</td>\n",
       "      <td>0.177411</td>\n",
       "    </tr>\n",
       "  </tbody>\n",
       "</table>\n",
       "</div>"
      ],
      "text/plain": [
       "                  Total_Project_Budget  Percentage  Budget_Percentage\n",
       "Neighborhood                                                         \n",
       "Charlestown                531212390.0   18.848537          18.848537\n",
       "Downtown                   318415000.0   11.298036          11.298036\n",
       "Chinatown                  271272172.0    9.625309           9.625309\n",
       "Dorchester                 239411239.0    8.494816           8.494816\n",
       "Roxbury                    237308325.0    8.420200           8.420200\n",
       "South Boston               200249965.0    7.105291           7.105291\n",
       "South End                  182957034.0    6.491702           6.491702\n",
       "Harbor Islands             171778144.0    6.095051           6.095051\n",
       "Roslindale                 102470000.0    3.635852           3.635852\n",
       "North End                   95445000.0    3.386590           3.386590\n",
       "Mattapan                    87935000.0    3.120119           3.120119\n",
       "Jamaica Plain               81700000.0    2.898888           2.898888\n",
       "Back Bay                    65442299.0    2.322031           2.322031\n",
       "East Boston                 62457890.0    2.216138           2.216138\n",
       "Allston/Brighton            57605000.0    2.043947           2.043947\n",
       "West Roxbury                48645000.0    1.726027           1.726027\n",
       "Beacon Hill                 34410000.0    1.220939           1.220939\n",
       "Fenway                      12750000.0    0.452397           0.452397\n",
       "Hyde Park                    6615000.0    0.234714           0.234714\n",
       "Mission Hill                 5242212.0    0.186005           0.186005\n",
       "West End                     5000000.0    0.177411           0.177411"
      ]
     },
     "execution_count": 30,
     "metadata": {},
     "output_type": "execute_result"
    }
   ],
   "source": [
    "proj = pd.read_csv('data/projects_by_location.csv')\n",
    "proj.index = proj['Neighborhood']\n",
    "proj = proj.drop('Neighborhood', axis=1)\n",
    "\n",
    "# edits to the neighborhood classifications, as determined by census methodology\n",
    "# https://data.boston.gov/dataset/neighborhood-demographics/resource/f2112b0b-a650-4c6b-a723-cfdaf5f817a6\n",
    "proj.loc['South End'] += proj.loc['Bay Village']\n",
    "proj = proj.drop('Bay Village')\n",
    "proj = proj.rename(index={\n",
    "    'Downtown/Government Center': 'Downtown',\n",
    "    'Fenway-Kenmore': 'Fenway'\n",
    "})\n",
    "\n",
    "# recalc percentages\n",
    "proj['Budget_Percentage'] = proj['Total_Project_Budget'] * 100 / proj['Total_Project_Budget'].sum()\n",
    "\n",
    "proj"
   ]
  },
  {
   "cell_type": "code",
   "execution_count": 9,
   "id": "415f9087",
   "metadata": {},
   "outputs": [
    {
     "data": {
      "text/plain": [
       "Index(['Downtown/Government Center', 'South EndBay Village', 'Harbor Islands',\n",
       "       'Allston/Brighton', 'Fenway-Kenmore', 'Bay Village'],\n",
       "      dtype='object', name='Neighborhood')"
      ]
     },
     "execution_count": 9,
     "metadata": {},
     "output_type": "execute_result"
    }
   ],
   "source": [
    "proj.index[~proj.index.isin(df.index)]"
   ]
  },
  {
   "cell_type": "code",
   "execution_count": 10,
   "id": "1906b29e",
   "metadata": {},
   "outputs": [
    {
     "data": {
      "text/plain": [
       "Index(['Allston', 'Brighton', 'Downtown', 'Fenway', 'Longwood',\n",
       "       'South Boston Waterfront', 'South End'],\n",
       "      dtype='object', name='Neighborhood')"
      ]
     },
     "execution_count": 10,
     "metadata": {},
     "output_type": "execute_result"
    }
   ],
   "source": [
    "df.index[~df.index.isin(proj.index)]"
   ]
  },
  {
   "cell_type": "code",
   "execution_count": 31,
   "id": "d3512d80",
   "metadata": {},
   "outputs": [],
   "source": [
    "df.loc['Allston/Brighton'] = df.loc['Allston'] + df.loc['Brighton']\n",
    "df.loc['Allston/Brighton']['Household Size'] /= 2\n",
    "df.loc['Allston/Brighton']['Household Population'] /= 2"
   ]
  },
  {
   "cell_type": "code",
   "execution_count": 32,
   "id": "39d8b96b",
   "metadata": {},
   "outputs": [
    {
     "data": {
      "text/html": [
       "<div>\n",
       "<style scoped>\n",
       "    .dataframe tbody tr th:only-of-type {\n",
       "        vertical-align: middle;\n",
       "    }\n",
       "\n",
       "    .dataframe tbody tr th {\n",
       "        vertical-align: top;\n",
       "    }\n",
       "\n",
       "    .dataframe thead th {\n",
       "        text-align: right;\n",
       "    }\n",
       "</style>\n",
       "<table border=\"1\" class=\"dataframe\">\n",
       "  <thead>\n",
       "    <tr style=\"text-align: right;\">\n",
       "      <th></th>\n",
       "      <th>Pop Total</th>\n",
       "      <th>Pop White</th>\n",
       "      <th>Pop Black</th>\n",
       "      <th>Pop Latino</th>\n",
       "      <th>Pop AAPI</th>\n",
       "      <th>Pop Other</th>\n",
       "      <th>Adults</th>\n",
       "      <th>Adults White</th>\n",
       "      <th>Adults Black</th>\n",
       "      <th>Adults Latino</th>\n",
       "      <th>...</th>\n",
       "      <th>P0050008</th>\n",
       "      <th>P0050009</th>\n",
       "      <th>P0050010</th>\n",
       "      <th>H0010001</th>\n",
       "      <th>H0010002</th>\n",
       "      <th>H0010003</th>\n",
       "      <th>Household Size</th>\n",
       "      <th>Total_Project_Budget</th>\n",
       "      <th>Percentage</th>\n",
       "      <th>Budget_Percentage</th>\n",
       "    </tr>\n",
       "    <tr>\n",
       "      <th>Neighborhood</th>\n",
       "      <th></th>\n",
       "      <th></th>\n",
       "      <th></th>\n",
       "      <th></th>\n",
       "      <th></th>\n",
       "      <th></th>\n",
       "      <th></th>\n",
       "      <th></th>\n",
       "      <th></th>\n",
       "      <th></th>\n",
       "      <th></th>\n",
       "      <th></th>\n",
       "      <th></th>\n",
       "      <th></th>\n",
       "      <th></th>\n",
       "      <th></th>\n",
       "      <th></th>\n",
       "      <th></th>\n",
       "      <th></th>\n",
       "      <th></th>\n",
       "      <th></th>\n",
       "    </tr>\n",
       "  </thead>\n",
       "  <tbody>\n",
       "    <tr>\n",
       "      <th>Back Bay</th>\n",
       "      <td>18190.0</td>\n",
       "      <td>13065.0</td>\n",
       "      <td>690.0</td>\n",
       "      <td>1208.0</td>\n",
       "      <td>2410.0</td>\n",
       "      <td>817.0</td>\n",
       "      <td>17042.0</td>\n",
       "      <td>12349.0</td>\n",
       "      <td>641.0</td>\n",
       "      <td>1091.0</td>\n",
       "      <td>...</td>\n",
       "      <td>1487.0</td>\n",
       "      <td>0.0</td>\n",
       "      <td>123.0</td>\n",
       "      <td>11524.0</td>\n",
       "      <td>10006.0</td>\n",
       "      <td>1518.0</td>\n",
       "      <td>1.630122</td>\n",
       "      <td>65442299.0</td>\n",
       "      <td>2.322031</td>\n",
       "      <td>2.322031</td>\n",
       "    </tr>\n",
       "    <tr>\n",
       "      <th>Beacon Hill</th>\n",
       "      <td>9336.0</td>\n",
       "      <td>7521.0</td>\n",
       "      <td>252.0</td>\n",
       "      <td>537.0</td>\n",
       "      <td>630.0</td>\n",
       "      <td>396.0</td>\n",
       "      <td>8603.0</td>\n",
       "      <td>6980.0</td>\n",
       "      <td>231.0</td>\n",
       "      <td>475.0</td>\n",
       "      <td>...</td>\n",
       "      <td>0.0</td>\n",
       "      <td>0.0</td>\n",
       "      <td>33.0</td>\n",
       "      <td>6037.0</td>\n",
       "      <td>5485.0</td>\n",
       "      <td>552.0</td>\n",
       "      <td>1.696080</td>\n",
       "      <td>34410000.0</td>\n",
       "      <td>1.220939</td>\n",
       "      <td>1.220939</td>\n",
       "    </tr>\n",
       "    <tr>\n",
       "      <th>Charlestown</th>\n",
       "      <td>19120.0</td>\n",
       "      <td>13626.0</td>\n",
       "      <td>990.0</td>\n",
       "      <td>2075.0</td>\n",
       "      <td>1650.0</td>\n",
       "      <td>779.0</td>\n",
       "      <td>15661.0</td>\n",
       "      <td>11689.0</td>\n",
       "      <td>662.0</td>\n",
       "      <td>1387.0</td>\n",
       "      <td>...</td>\n",
       "      <td>0.0</td>\n",
       "      <td>30.0</td>\n",
       "      <td>25.0</td>\n",
       "      <td>9525.0</td>\n",
       "      <td>8932.0</td>\n",
       "      <td>593.0</td>\n",
       "      <td>2.128303</td>\n",
       "      <td>531212390.0</td>\n",
       "      <td>18.848537</td>\n",
       "      <td>18.848537</td>\n",
       "    </tr>\n",
       "    <tr>\n",
       "      <th>Chinatown</th>\n",
       "      <td>6211.0</td>\n",
       "      <td>1844.0</td>\n",
       "      <td>254.0</td>\n",
       "      <td>451.0</td>\n",
       "      <td>3480.0</td>\n",
       "      <td>182.0</td>\n",
       "      <td>5477.0</td>\n",
       "      <td>1741.0</td>\n",
       "      <td>216.0</td>\n",
       "      <td>390.0</td>\n",
       "      <td>...</td>\n",
       "      <td>443.0</td>\n",
       "      <td>0.0</td>\n",
       "      <td>3.0</td>\n",
       "      <td>3272.0</td>\n",
       "      <td>2937.0</td>\n",
       "      <td>335.0</td>\n",
       "      <td>1.962887</td>\n",
       "      <td>271272172.0</td>\n",
       "      <td>9.625309</td>\n",
       "      <td>9.625309</td>\n",
       "    </tr>\n",
       "    <tr>\n",
       "      <th>Dorchester</th>\n",
       "      <td>122191.0</td>\n",
       "      <td>27411.0</td>\n",
       "      <td>42714.0</td>\n",
       "      <td>25285.0</td>\n",
       "      <td>13360.0</td>\n",
       "      <td>13421.0</td>\n",
       "      <td>95365.0</td>\n",
       "      <td>24327.0</td>\n",
       "      <td>32678.0</td>\n",
       "      <td>17390.0</td>\n",
       "      <td>...</td>\n",
       "      <td>0.0</td>\n",
       "      <td>0.0</td>\n",
       "      <td>936.0</td>\n",
       "      <td>47965.0</td>\n",
       "      <td>44823.0</td>\n",
       "      <td>3142.0</td>\n",
       "      <td>2.692323</td>\n",
       "      <td>239411239.0</td>\n",
       "      <td>8.494816</td>\n",
       "      <td>8.494816</td>\n",
       "    </tr>\n",
       "  </tbody>\n",
       "</table>\n",
       "<p>5 rows × 36 columns</p>\n",
       "</div>"
      ],
      "text/plain": [
       "              Pop Total  Pop White  Pop Black  Pop Latino  Pop AAPI  \\\n",
       "Neighborhood                                                          \n",
       "Back Bay        18190.0    13065.0      690.0      1208.0    2410.0   \n",
       "Beacon Hill      9336.0     7521.0      252.0       537.0     630.0   \n",
       "Charlestown     19120.0    13626.0      990.0      2075.0    1650.0   \n",
       "Chinatown        6211.0     1844.0      254.0       451.0    3480.0   \n",
       "Dorchester     122191.0    27411.0    42714.0     25285.0   13360.0   \n",
       "\n",
       "              Pop Other   Adults  Adults White  Adults Black  Adults Latino  \\\n",
       "Neighborhood                                                                  \n",
       "Back Bay          817.0  17042.0       12349.0         641.0         1091.0   \n",
       "Beacon Hill       396.0   8603.0        6980.0         231.0          475.0   \n",
       "Charlestown       779.0  15661.0       11689.0         662.0         1387.0   \n",
       "Chinatown         182.0   5477.0        1741.0         216.0          390.0   \n",
       "Dorchester      13421.0  95365.0       24327.0       32678.0        17390.0   \n",
       "\n",
       "              ...  P0050008  P0050009  P0050010  H0010001  H0010002  H0010003  \\\n",
       "Neighborhood  ...                                                               \n",
       "Back Bay      ...    1487.0       0.0     123.0   11524.0   10006.0    1518.0   \n",
       "Beacon Hill   ...       0.0       0.0      33.0    6037.0    5485.0     552.0   \n",
       "Charlestown   ...       0.0      30.0      25.0    9525.0    8932.0     593.0   \n",
       "Chinatown     ...     443.0       0.0       3.0    3272.0    2937.0     335.0   \n",
       "Dorchester    ...       0.0       0.0     936.0   47965.0   44823.0    3142.0   \n",
       "\n",
       "              Household Size  Total_Project_Budget  Percentage  \\\n",
       "Neighborhood                                                     \n",
       "Back Bay            1.630122            65442299.0    2.322031   \n",
       "Beacon Hill         1.696080            34410000.0    1.220939   \n",
       "Charlestown         2.128303           531212390.0   18.848537   \n",
       "Chinatown           1.962887           271272172.0    9.625309   \n",
       "Dorchester          2.692323           239411239.0    8.494816   \n",
       "\n",
       "              Budget_Percentage  \n",
       "Neighborhood                     \n",
       "Back Bay               2.322031  \n",
       "Beacon Hill            1.220939  \n",
       "Charlestown           18.848537  \n",
       "Chinatown              9.625309  \n",
       "Dorchester             8.494816  \n",
       "\n",
       "[5 rows x 36 columns]"
      ]
     },
     "execution_count": 32,
     "metadata": {},
     "output_type": "execute_result"
    }
   ],
   "source": [
    "df2 = pd.merge(df, proj, how='inner', left_index=True, right_index=True)\n",
    "df2.head()"
   ]
  },
  {
   "cell_type": "code",
   "execution_count": 33,
   "id": "d07ad476",
   "metadata": {},
   "outputs": [
    {
     "data": {
      "text/plain": [
       "Neighborhood\n",
       "Chinatown           43676.086299\n",
       "Charlestown         27783.074791\n",
       "Downtown            23127.178966\n",
       "North End            8833.410458\n",
       "South End            5920.173246\n",
       "South Boston         5281.271329\n",
       "Roxbury              4351.646251\n",
       "Mattapan             3688.548658\n",
       "Beacon Hill          3685.732648\n",
       "Back Bay             3597.707477\n",
       "Roslindale           3463.462448\n",
       "Jamaica Plain        2041.734350\n",
       "Dorchester           1959.319745\n",
       "West Roxbury         1541.300973\n",
       "East Boston          1450.283054\n",
       "Allston/Brighton      748.593261\n",
       "West End              648.929267\n",
       "Fenway                340.063479\n",
       "Mission Hill          299.247174\n",
       "Hyde Park             193.579539\n",
       "Name: Budget_PC, dtype: float64"
      ]
     },
     "execution_count": 33,
     "metadata": {},
     "output_type": "execute_result"
    }
   ],
   "source": [
    "df2['Budget_PC'] = df2['Total_Project_Budget'] / df2['Pop Total']\n",
    "df2['Budget_PC'].sort_values(ascending=False)"
   ]
  },
  {
   "cell_type": "code",
   "execution_count": 35,
   "id": "e9393eef",
   "metadata": {},
   "outputs": [
    {
     "data": {
      "text/plain": [
       "3980.4710098934847"
      ]
     },
     "execution_count": 35,
     "metadata": {},
     "output_type": "execute_result"
    }
   ],
   "source": [
    "avg_budget_pc = df2['Total_Project_Budget'].sum() / df2['Pop Total'].sum()\n",
    "avg_budget_pc"
   ]
  },
  {
   "cell_type": "code",
   "execution_count": 39,
   "id": "a9bcf38a",
   "metadata": {},
   "outputs": [
    {
     "data": {
      "image/png": "[encoded data removed]",
      "text/plain": [
       "<Figure size 864x648 with 1 Axes>"
      ]
     },
     "metadata": {
      "needs_background": "light"
     },
     "output_type": "display_data"
    }
   ],
   "source": [
    "plt.figure(figsize=(12, 9))\n",
    "df2['Budget_PC'].sort_values().plot.bar()\n",
    "plt.ylabel('Population')\n",
    "plt.axhline(y = avg_budget_pc, color = 'r', linestyle = '--')\n",
    "plt.xticks(rotation=45, ha='right');"
   ]
  },
  {
   "cell_type": "code",
   "execution_count": 54,
   "id": "2c514743",
   "metadata": {},
   "outputs": [
    {
     "data": {
      "text/plain": [
       "% White       0.041067\n",
       "% Black      -0.247969\n",
       "% Latino     -0.320478\n",
       "% AAPI        0.627505\n",
       "% Other      -0.413424\n",
       "% Children   -0.091185\n",
       "Budget_PC     1.000000\n",
       "Name: Budget_PC, dtype: float64"
      ]
     },
     "execution_count": 54,
     "metadata": {},
     "output_type": "execute_result"
    }
   ],
   "source": [
    "df2['% White'] = df2['Pop White'] / df2['Pop Total']\n",
    "df2['% Black'] = df2['Pop Black'] / df2['Pop Total']\n",
    "df2['% Latino'] = df2['Pop Latino'] / df2['Pop Total']\n",
    "df2['% AAPI'] = df2['Pop AAPI'] / df2['Pop Total']\n",
    "df2['% Other'] = df2['Pop Other'] / df2['Pop Total']\n",
    "\n",
    "df2[['% White', '% Black', '% Latino', '% AAPI', '% Other', '% Children', 'Budget_PC']].corr()['Budget_PC']"
   ]
  },
  {
   "cell_type": "code",
   "execution_count": 53,
   "id": "86fed41f",
   "metadata": {},
   "outputs": [
    {
     "data": {
      "text/plain": [
       "<Axes: xlabel='Neighborhood'>"
      ]
     },
     "execution_count": 53,
     "metadata": {},
     "output_type": "execute_result"
    },
    {
     "data": {
      "image/png": "[encoded data removed]",
      "text/plain": [
       "<Figure size 432x288 with 1 Axes>"
      ]
     },
     "metadata": {
      "needs_background": "light"
     },
     "output_type": "display_data"
    }
   ],
   "source": [
    "df2['% Children'] = df2['Children'] / df2['Pop Total']\n",
    "df2['% Children'].sort_values().plot.bar()"
   ]
  },
  {
   "cell_type": "code",
   "execution_count": 62,
   "id": "03f6d589",
   "metadata": {},
   "outputs": [
    {
     "data": {
      "image/png": "[encoded data removed]",
      "text/plain": [
       "<Figure size 432x288 with 1 Axes>"
      ]
     },
     "metadata": {
      "needs_background": "light"
     },
     "output_type": "display_data"
    }
   ],
   "source": [
    "df2.plot.scatter('% White', 'Budget_PC');\n",
    "# differently shaped than below"
   ]
  },
  {
   "cell_type": "code",
   "execution_count": 58,
   "id": "8dc1985f",
   "metadata": {},
   "outputs": [
    {
     "data": {
      "image/png": "[encoded data removed]",
      "text/plain": [
       "<Figure size 432x288 with 1 Axes>"
      ]
     },
     "metadata": {
      "needs_background": "light"
     },
     "output_type": "display_data"
    }
   ],
   "source": [
    "df2.plot.scatter('% Black', 'Budget_PC');"
   ]
  },
  {
   "cell_type": "code",
   "execution_count": 59,
   "id": "1117727f",
   "metadata": {},
   "outputs": [
    {
     "data": {
      "image/png": "[encoded data removed]",
      "text/plain": [
       "<Figure size 432x288 with 1 Axes>"
      ]
     },
     "metadata": {
      "needs_background": "light"
     },
     "output_type": "display_data"
    }
   ],
   "source": [
    "df2.plot.scatter('% Latino', 'Budget_PC');"
   ]
  },
  {
   "cell_type": "code",
   "execution_count": 60,
   "id": "6ca0e261",
   "metadata": {},
   "outputs": [
    {
     "data": {
      "image/png": "[encoded data removed]",
      "text/plain": [
       "<Figure size 432x288 with 1 Axes>"
      ]
     },
     "metadata": {
      "needs_background": "light"
     },
     "output_type": "display_data"
    }
   ],
   "source": [
    "df2.plot.scatter('% AAPI', 'Budget_PC');\n",
    "# notably different shaped graph than other minority race groups"
   ]
  },
  {
   "cell_type": "code",
   "execution_count": 61,
   "id": "137f26bf",
   "metadata": {},
   "outputs": [
    {
     "data": {
      "image/png": "[encoded data removed]",
      "text/plain": [
       "<Figure size 432x288 with 1 Axes>"
      ]
     },
     "metadata": {
      "needs_background": "light"
     },
     "output_type": "display_data"
    }
   ],
   "source": [
    "df2.plot.scatter('% Other', 'Budget_PC');"
   ]
  },
  {
   "cell_type": "code",
   "execution_count": 63,
   "id": "5fd950a5",
   "metadata": {},
   "outputs": [
    {
     "data": {
      "image/png": "[encoded data removed]",
      "text/plain": [
       "<Figure size 432x288 with 1 Axes>"
      ]
     },
     "metadata": {
      "needs_background": "light"
     },
     "output_type": "display_data"
    }
   ],
   "source": [
    "df2.plot.scatter('% Children', 'Budget_PC');"
   ]
  }
 ],
 "metadata": {
  "kernelspec": {
   "display_name": "Python 3 (ipykernel)",
   "language": "python",
   "name": "python3"
  },
  "language_info": {
   "codemirror_mode": {
    "name": "ipython",
    "version": 3
   },
   "file_extension": ".py",
   "mimetype": "text/x-python",
   "name": "python",
   "nbconvert_exporter": "python",
   "pygments_lexer": "ipython3",
   "version": "3.9.7"
  }
 },
 "nbformat": 4,
 "nbformat_minor": 5
}
