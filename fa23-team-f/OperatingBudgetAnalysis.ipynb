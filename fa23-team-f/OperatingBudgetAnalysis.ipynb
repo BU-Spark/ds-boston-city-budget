{
 "cells": [
  {
   "cell_type": "code",
   "execution_count": 1,
   "metadata": {},
   "outputs": [],
   "source": [
    "import numpy as np \n",
    "import pandas as pd "
   ]
  },
  {
   "cell_type": "code",
   "execution_count": 2,
   "metadata": {},
   "outputs": [],
   "source": [
    "df = pd.read_csv('/Users/gauravbindra/desktop/DS_Project/data/fy24-adopted-operating-budget.csv')"
   ]
  },
  {
   "cell_type": "code",
   "execution_count": 3,
   "metadata": {},
   "outputs": [
    {
     "data": {
      "text/html": [
       "<div>\n",
       "<style scoped>\n",
       "    .dataframe tbody tr th:only-of-type {\n",
       "        vertical-align: middle;\n",
       "    }\n",
       "\n",
       "    .dataframe tbody tr th {\n",
       "        vertical-align: top;\n",
       "    }\n",
       "\n",
       "    .dataframe thead th {\n",
       "        text-align: right;\n",
       "    }\n",
       "</style>\n",
       "<table border=\"1\" class=\"dataframe\">\n",
       "  <thead>\n",
       "    <tr style=\"text-align: right;\">\n",
       "      <th></th>\n",
       "      <th>Cabinet</th>\n",
       "      <th>Dept</th>\n",
       "      <th>Program</th>\n",
       "      <th>Expense Category</th>\n",
       "      <th>FY21 Actual Expense</th>\n",
       "      <th>FY22 Actual Expense</th>\n",
       "      <th>FY23 Appropriation</th>\n",
       "      <th>FY24 Adopted</th>\n",
       "    </tr>\n",
       "  </thead>\n",
       "  <tbody>\n",
       "    <tr>\n",
       "      <th>count</th>\n",
       "      <td>900</td>\n",
       "      <td>900</td>\n",
       "      <td>900</td>\n",
       "      <td>900</td>\n",
       "      <td>900</td>\n",
       "      <td>900</td>\n",
       "      <td>900</td>\n",
       "      <td>900</td>\n",
       "    </tr>\n",
       "    <tr>\n",
       "      <th>unique</th>\n",
       "      <td>21</td>\n",
       "      <td>82</td>\n",
       "      <td>220</td>\n",
       "      <td>7</td>\n",
       "      <td>710</td>\n",
       "      <td>755</td>\n",
       "      <td>698</td>\n",
       "      <td>738</td>\n",
       "    </tr>\n",
       "    <tr>\n",
       "      <th>top</th>\n",
       "      <td>Finance Cabinet</td>\n",
       "      <td>Boston Public Schools</td>\n",
       "      <td>Film &amp; Special Events</td>\n",
       "      <td>Personnel Services</td>\n",
       "      <td>#Missing</td>\n",
       "      <td>#Missing</td>\n",
       "      <td>#Missing</td>\n",
       "      <td>#Missing</td>\n",
       "    </tr>\n",
       "    <tr>\n",
       "      <th>freq</th>\n",
       "      <td>115</td>\n",
       "      <td>90</td>\n",
       "      <td>6</td>\n",
       "      <td>201</td>\n",
       "      <td>176</td>\n",
       "      <td>141</td>\n",
       "      <td>115</td>\n",
       "      <td>88</td>\n",
       "    </tr>\n",
       "  </tbody>\n",
       "</table>\n",
       "</div>"
      ],
      "text/plain": [
       "                Cabinet                   Dept                Program  \\\n",
       "count               900                    900                    900   \n",
       "unique               21                     82                    220   \n",
       "top     Finance Cabinet  Boston Public Schools  Film & Special Events   \n",
       "freq                115                     90                      6   \n",
       "\n",
       "          Expense Category FY21 Actual Expense FY22 Actual Expense  \\\n",
       "count                  900                 900                 900   \n",
       "unique                   7                 710                 755   \n",
       "top     Personnel Services            #Missing            #Missing   \n",
       "freq                   201                 176                 141   \n",
       "\n",
       "       FY23 Appropriation FY24 Adopted  \n",
       "count                 900          900  \n",
       "unique                698          738  \n",
       "top              #Missing     #Missing  \n",
       "freq                  115           88  "
      ]
     },
     "execution_count": 3,
     "metadata": {},
     "output_type": "execute_result"
    }
   ],
   "source": [
    "df.describe()"
   ]
  },
  {
   "cell_type": "code",
   "execution_count": 4,
   "metadata": {},
   "outputs": [
    {
     "data": {
      "text/html": [
       "<div>\n",
       "<style scoped>\n",
       "    .dataframe tbody tr th:only-of-type {\n",
       "        vertical-align: middle;\n",
       "    }\n",
       "\n",
       "    .dataframe tbody tr th {\n",
       "        vertical-align: top;\n",
       "    }\n",
       "\n",
       "    .dataframe thead th {\n",
       "        text-align: right;\n",
       "    }\n",
       "</style>\n",
       "<table border=\"1\" class=\"dataframe\">\n",
       "  <thead>\n",
       "    <tr style=\"text-align: right;\">\n",
       "      <th></th>\n",
       "      <th>Cabinet</th>\n",
       "      <th>Dept</th>\n",
       "      <th>Program</th>\n",
       "      <th>Expense Category</th>\n",
       "      <th>FY21 Actual Expense</th>\n",
       "      <th>FY22 Actual Expense</th>\n",
       "      <th>FY23 Appropriation</th>\n",
       "      <th>FY24 Adopted</th>\n",
       "    </tr>\n",
       "  </thead>\n",
       "  <tbody>\n",
       "    <tr>\n",
       "      <th>0</th>\n",
       "      <td>Mayor's Cabinet</td>\n",
       "      <td>Mayor's Office</td>\n",
       "      <td>Mayor's Administration</td>\n",
       "      <td>Personnel Services</td>\n",
       "      <td>1820538.46</td>\n",
       "      <td>1624903.69</td>\n",
       "      <td>1584054.209</td>\n",
       "      <td>1921403.81</td>\n",
       "    </tr>\n",
       "    <tr>\n",
       "      <th>1</th>\n",
       "      <td>Mayor's Cabinet</td>\n",
       "      <td>Mayor's Office</td>\n",
       "      <td>Mayor's Administration</td>\n",
       "      <td>Contractual Services</td>\n",
       "      <td>127557.82</td>\n",
       "      <td>284597.9</td>\n",
       "      <td>99314</td>\n",
       "      <td>219633.42</td>\n",
       "    </tr>\n",
       "    <tr>\n",
       "      <th>2</th>\n",
       "      <td>Mayor's Cabinet</td>\n",
       "      <td>Mayor's Office</td>\n",
       "      <td>Mayor's Administration</td>\n",
       "      <td>Supplies &amp; Materials</td>\n",
       "      <td>27318.17</td>\n",
       "      <td>28541.55</td>\n",
       "      <td>44938</td>\n",
       "      <td>55573.65</td>\n",
       "    </tr>\n",
       "    <tr>\n",
       "      <th>3</th>\n",
       "      <td>Mayor's Cabinet</td>\n",
       "      <td>Mayor's Office</td>\n",
       "      <td>Mayor's Administration</td>\n",
       "      <td>Current Charges &amp; Obligations</td>\n",
       "      <td>11365.77</td>\n",
       "      <td>19410.3</td>\n",
       "      <td>29630</td>\n",
       "      <td>16734.29</td>\n",
       "    </tr>\n",
       "    <tr>\n",
       "      <th>4</th>\n",
       "      <td>Mayor's Cabinet</td>\n",
       "      <td>Mayor's Office</td>\n",
       "      <td>Mayor's Administration</td>\n",
       "      <td>Equipment</td>\n",
       "      <td>39040.6</td>\n",
       "      <td>16164.36</td>\n",
       "      <td>24900</td>\n",
       "      <td>36115</td>\n",
       "    </tr>\n",
       "  </tbody>\n",
       "</table>\n",
       "</div>"
      ],
      "text/plain": [
       "           Cabinet            Dept                 Program  \\\n",
       "0  Mayor's Cabinet  Mayor's Office  Mayor's Administration   \n",
       "1  Mayor's Cabinet  Mayor's Office  Mayor's Administration   \n",
       "2  Mayor's Cabinet  Mayor's Office  Mayor's Administration   \n",
       "3  Mayor's Cabinet  Mayor's Office  Mayor's Administration   \n",
       "4  Mayor's Cabinet  Mayor's Office  Mayor's Administration   \n",
       "\n",
       "                Expense Category FY21 Actual Expense FY22 Actual Expense  \\\n",
       "0             Personnel Services          1820538.46          1624903.69   \n",
       "1           Contractual Services           127557.82            284597.9   \n",
       "2           Supplies & Materials            27318.17            28541.55   \n",
       "3  Current Charges & Obligations            11365.77             19410.3   \n",
       "4                      Equipment             39040.6            16164.36   \n",
       "\n",
       "  FY23 Appropriation FY24 Adopted  \n",
       "0        1584054.209   1921403.81  \n",
       "1              99314    219633.42  \n",
       "2              44938     55573.65  \n",
       "3              29630     16734.29  \n",
       "4              24900        36115  "
      ]
     },
     "execution_count": 4,
     "metadata": {},
     "output_type": "execute_result"
    }
   ],
   "source": [
    "df.head()"
   ]
  },
  {
   "cell_type": "code",
   "execution_count": 5,
   "metadata": {},
   "outputs": [
    {
     "data": {
      "text/plain": [
       "Index(['Cabinet', 'Dept', 'Program', 'Expense Category', 'FY21 Actual Expense',\n",
       "       'FY22 Actual Expense', 'FY23 Appropriation', 'FY24 Adopted'],\n",
       "      dtype='object')"
      ]
     },
     "execution_count": 5,
     "metadata": {},
     "output_type": "execute_result"
    }
   ],
   "source": [
    "df.columns"
   ]
  },
  {
   "cell_type": "code",
   "execution_count": 6,
   "metadata": {},
   "outputs": [
    {
     "data": {
      "text/plain": [
       "Cabinet                0\n",
       "Dept                   0\n",
       "Program                0\n",
       "Expense Category       0\n",
       "FY21 Actual Expense    0\n",
       "FY22 Actual Expense    0\n",
       "FY23 Appropriation     0\n",
       "FY24 Adopted           0\n",
       "dtype: int64"
      ]
     },
     "execution_count": 6,
     "metadata": {},
     "output_type": "execute_result"
    }
   ],
   "source": [
    "df.isna().sum()\n",
    "# No Null values in any columns"
   ]
  },
  {
   "cell_type": "code",
   "execution_count": 7,
   "metadata": {},
   "outputs": [
    {
     "data": {
      "text/html": [
       "<div>\n",
       "<style scoped>\n",
       "    .dataframe tbody tr th:only-of-type {\n",
       "        vertical-align: middle;\n",
       "    }\n",
       "\n",
       "    .dataframe tbody tr th {\n",
       "        vertical-align: top;\n",
       "    }\n",
       "\n",
       "    .dataframe thead th {\n",
       "        text-align: right;\n",
       "    }\n",
       "</style>\n",
       "<table border=\"1\" class=\"dataframe\">\n",
       "  <thead>\n",
       "    <tr style=\"text-align: right;\">\n",
       "      <th></th>\n",
       "      <th>Cabinet</th>\n",
       "      <th>Dept</th>\n",
       "      <th>Program</th>\n",
       "      <th>Expense Category</th>\n",
       "      <th>FY21 Actual Expense</th>\n",
       "      <th>FY22 Actual Expense</th>\n",
       "      <th>FY23 Appropriation</th>\n",
       "      <th>FY24 Adopted</th>\n",
       "    </tr>\n",
       "  </thead>\n",
       "  <tbody>\n",
       "    <tr>\n",
       "      <th>count</th>\n",
       "      <td>900</td>\n",
       "      <td>900</td>\n",
       "      <td>900</td>\n",
       "      <td>900</td>\n",
       "      <td>900</td>\n",
       "      <td>900</td>\n",
       "      <td>900</td>\n",
       "      <td>900</td>\n",
       "    </tr>\n",
       "    <tr>\n",
       "      <th>unique</th>\n",
       "      <td>21</td>\n",
       "      <td>82</td>\n",
       "      <td>220</td>\n",
       "      <td>7</td>\n",
       "      <td>710</td>\n",
       "      <td>755</td>\n",
       "      <td>698</td>\n",
       "      <td>738</td>\n",
       "    </tr>\n",
       "    <tr>\n",
       "      <th>top</th>\n",
       "      <td>Finance Cabinet</td>\n",
       "      <td>Boston Public Schools</td>\n",
       "      <td>Film &amp; Special Events</td>\n",
       "      <td>Personnel Services</td>\n",
       "      <td>#Missing</td>\n",
       "      <td>#Missing</td>\n",
       "      <td>#Missing</td>\n",
       "      <td>#Missing</td>\n",
       "    </tr>\n",
       "    <tr>\n",
       "      <th>freq</th>\n",
       "      <td>115</td>\n",
       "      <td>90</td>\n",
       "      <td>6</td>\n",
       "      <td>201</td>\n",
       "      <td>176</td>\n",
       "      <td>141</td>\n",
       "      <td>115</td>\n",
       "      <td>88</td>\n",
       "    </tr>\n",
       "  </tbody>\n",
       "</table>\n",
       "</div>"
      ],
      "text/plain": [
       "                Cabinet                   Dept                Program  \\\n",
       "count               900                    900                    900   \n",
       "unique               21                     82                    220   \n",
       "top     Finance Cabinet  Boston Public Schools  Film & Special Events   \n",
       "freq                115                     90                      6   \n",
       "\n",
       "          Expense Category FY21 Actual Expense FY22 Actual Expense  \\\n",
       "count                  900                 900                 900   \n",
       "unique                   7                 710                 755   \n",
       "top     Personnel Services            #Missing            #Missing   \n",
       "freq                   201                 176                 141   \n",
       "\n",
       "       FY23 Appropriation FY24 Adopted  \n",
       "count                 900          900  \n",
       "unique                698          738  \n",
       "top              #Missing     #Missing  \n",
       "freq                  115           88  "
      ]
     },
     "execution_count": 7,
     "metadata": {},
     "output_type": "execute_result"
    }
   ],
   "source": [
    "df.describe()"
   ]
  },
  {
   "cell_type": "code",
   "execution_count": 8,
   "metadata": {},
   "outputs": [
    {
     "data": {
      "text/plain": [
       "Cabinet                object\n",
       "Dept                   object\n",
       "Program                object\n",
       "Expense Category       object\n",
       "FY21 Actual Expense    object\n",
       "FY22 Actual Expense    object\n",
       "FY23 Appropriation     object\n",
       "FY24 Adopted           object\n",
       "dtype: object"
      ]
     },
     "execution_count": 8,
     "metadata": {},
     "output_type": "execute_result"
    }
   ],
   "source": [
    "df.dtypes"
   ]
  },
  {
   "cell_type": "code",
   "execution_count": 9,
   "metadata": {},
   "outputs": [
    {
     "data": {
      "text/html": [
       "<div>\n",
       "<style scoped>\n",
       "    .dataframe tbody tr th:only-of-type {\n",
       "        vertical-align: middle;\n",
       "    }\n",
       "\n",
       "    .dataframe tbody tr th {\n",
       "        vertical-align: top;\n",
       "    }\n",
       "\n",
       "    .dataframe thead th {\n",
       "        text-align: right;\n",
       "    }\n",
       "</style>\n",
       "<table border=\"1\" class=\"dataframe\">\n",
       "  <thead>\n",
       "    <tr style=\"text-align: right;\">\n",
       "      <th></th>\n",
       "      <th>Cabinet</th>\n",
       "      <th>Dept</th>\n",
       "      <th>Program</th>\n",
       "      <th>Expense Category</th>\n",
       "      <th>FY21 Actual Expense</th>\n",
       "      <th>FY22 Actual Expense</th>\n",
       "      <th>FY23 Appropriation</th>\n",
       "      <th>FY24 Adopted</th>\n",
       "    </tr>\n",
       "  </thead>\n",
       "  <tbody>\n",
       "    <tr>\n",
       "      <th>0</th>\n",
       "      <td>Mayor's Cabinet</td>\n",
       "      <td>Mayor's Office</td>\n",
       "      <td>Mayor's Administration</td>\n",
       "      <td>Personnel Services</td>\n",
       "      <td>1820538.46</td>\n",
       "      <td>1624903.69</td>\n",
       "      <td>1584054.209</td>\n",
       "      <td>1921403.81</td>\n",
       "    </tr>\n",
       "    <tr>\n",
       "      <th>1</th>\n",
       "      <td>Mayor's Cabinet</td>\n",
       "      <td>Mayor's Office</td>\n",
       "      <td>Mayor's Administration</td>\n",
       "      <td>Contractual Services</td>\n",
       "      <td>127557.82</td>\n",
       "      <td>284597.9</td>\n",
       "      <td>99314</td>\n",
       "      <td>219633.42</td>\n",
       "    </tr>\n",
       "    <tr>\n",
       "      <th>2</th>\n",
       "      <td>Mayor's Cabinet</td>\n",
       "      <td>Mayor's Office</td>\n",
       "      <td>Mayor's Administration</td>\n",
       "      <td>Supplies &amp; Materials</td>\n",
       "      <td>27318.17</td>\n",
       "      <td>28541.55</td>\n",
       "      <td>44938</td>\n",
       "      <td>55573.65</td>\n",
       "    </tr>\n",
       "    <tr>\n",
       "      <th>3</th>\n",
       "      <td>Mayor's Cabinet</td>\n",
       "      <td>Mayor's Office</td>\n",
       "      <td>Mayor's Administration</td>\n",
       "      <td>Current Charges &amp; Obligations</td>\n",
       "      <td>11365.77</td>\n",
       "      <td>19410.3</td>\n",
       "      <td>29630</td>\n",
       "      <td>16734.29</td>\n",
       "    </tr>\n",
       "    <tr>\n",
       "      <th>4</th>\n",
       "      <td>Mayor's Cabinet</td>\n",
       "      <td>Mayor's Office</td>\n",
       "      <td>Mayor's Administration</td>\n",
       "      <td>Equipment</td>\n",
       "      <td>39040.6</td>\n",
       "      <td>16164.36</td>\n",
       "      <td>24900</td>\n",
       "      <td>36115</td>\n",
       "    </tr>\n",
       "    <tr>\n",
       "      <th>...</th>\n",
       "      <td>...</td>\n",
       "      <td>...</td>\n",
       "      <td>...</td>\n",
       "      <td>...</td>\n",
       "      <td>...</td>\n",
       "      <td>...</td>\n",
       "      <td>...</td>\n",
       "      <td>...</td>\n",
       "    </tr>\n",
       "    <tr>\n",
       "      <th>95</th>\n",
       "      <td>Equity &amp; Inclusion Cabinet</td>\n",
       "      <td>Fair Housing &amp; Equity</td>\n",
       "      <td>Fair Housing Commission</td>\n",
       "      <td>Contractual Services</td>\n",
       "      <td>7476.45</td>\n",
       "      <td>168529.03</td>\n",
       "      <td>113240</td>\n",
       "      <td>166240</td>\n",
       "    </tr>\n",
       "    <tr>\n",
       "      <th>96</th>\n",
       "      <td>Equity &amp; Inclusion Cabinet</td>\n",
       "      <td>Fair Housing &amp; Equity</td>\n",
       "      <td>Human Rights History</td>\n",
       "      <td>Contractual Services</td>\n",
       "      <td>#Missing</td>\n",
       "      <td>143.43</td>\n",
       "      <td>#Missing</td>\n",
       "      <td>#Missing</td>\n",
       "    </tr>\n",
       "    <tr>\n",
       "      <th>97</th>\n",
       "      <td>Equity &amp; Inclusion Cabinet</td>\n",
       "      <td>Fair Housing &amp; Equity</td>\n",
       "      <td>Fair Housing Commission</td>\n",
       "      <td>Supplies &amp; Materials</td>\n",
       "      <td>3061.46</td>\n",
       "      <td>6572.16</td>\n",
       "      <td>11822</td>\n",
       "      <td>11822</td>\n",
       "    </tr>\n",
       "    <tr>\n",
       "      <th>98</th>\n",
       "      <td>Equity &amp; Inclusion Cabinet</td>\n",
       "      <td>Fair Housing &amp; Equity</td>\n",
       "      <td>Fair Housing Commission</td>\n",
       "      <td>Current Charges &amp; Obligations</td>\n",
       "      <td>590.46</td>\n",
       "      <td>42021.83</td>\n",
       "      <td>2150</td>\n",
       "      <td>235</td>\n",
       "    </tr>\n",
       "    <tr>\n",
       "      <th>99</th>\n",
       "      <td>Equity &amp; Inclusion Cabinet</td>\n",
       "      <td>Fair Housing &amp; Equity</td>\n",
       "      <td>Fair Housing Commission</td>\n",
       "      <td>Equipment</td>\n",
       "      <td>1700</td>\n",
       "      <td>16760</td>\n",
       "      <td>#Missing</td>\n",
       "      <td>#Missing</td>\n",
       "    </tr>\n",
       "  </tbody>\n",
       "</table>\n",
       "<p>100 rows × 8 columns</p>\n",
       "</div>"
      ],
      "text/plain": [
       "                       Cabinet                   Dept  \\\n",
       "0              Mayor's Cabinet         Mayor's Office   \n",
       "1              Mayor's Cabinet         Mayor's Office   \n",
       "2              Mayor's Cabinet         Mayor's Office   \n",
       "3              Mayor's Cabinet         Mayor's Office   \n",
       "4              Mayor's Cabinet         Mayor's Office   \n",
       "..                         ...                    ...   \n",
       "95  Equity & Inclusion Cabinet  Fair Housing & Equity   \n",
       "96  Equity & Inclusion Cabinet  Fair Housing & Equity   \n",
       "97  Equity & Inclusion Cabinet  Fair Housing & Equity   \n",
       "98  Equity & Inclusion Cabinet  Fair Housing & Equity   \n",
       "99  Equity & Inclusion Cabinet  Fair Housing & Equity   \n",
       "\n",
       "                    Program               Expense Category  \\\n",
       "0    Mayor's Administration             Personnel Services   \n",
       "1    Mayor's Administration           Contractual Services   \n",
       "2    Mayor's Administration           Supplies & Materials   \n",
       "3    Mayor's Administration  Current Charges & Obligations   \n",
       "4    Mayor's Administration                      Equipment   \n",
       "..                      ...                            ...   \n",
       "95  Fair Housing Commission           Contractual Services   \n",
       "96     Human Rights History           Contractual Services   \n",
       "97  Fair Housing Commission           Supplies & Materials   \n",
       "98  Fair Housing Commission  Current Charges & Obligations   \n",
       "99  Fair Housing Commission                      Equipment   \n",
       "\n",
       "   FY21 Actual Expense FY22 Actual Expense FY23 Appropriation FY24 Adopted  \n",
       "0           1820538.46          1624903.69        1584054.209   1921403.81  \n",
       "1            127557.82            284597.9              99314    219633.42  \n",
       "2             27318.17            28541.55              44938     55573.65  \n",
       "3             11365.77             19410.3              29630     16734.29  \n",
       "4              39040.6            16164.36              24900        36115  \n",
       "..                 ...                 ...                ...          ...  \n",
       "95             7476.45           168529.03             113240       166240  \n",
       "96            #Missing              143.43           #Missing     #Missing  \n",
       "97             3061.46             6572.16              11822        11822  \n",
       "98              590.46            42021.83               2150          235  \n",
       "99                1700               16760           #Missing     #Missing  \n",
       "\n",
       "[100 rows x 8 columns]"
      ]
     },
     "execution_count": 9,
     "metadata": {},
     "output_type": "execute_result"
    }
   ],
   "source": [
    "df.head(100)"
   ]
  },
  {
   "cell_type": "code",
   "execution_count": 11,
   "metadata": {},
   "outputs": [],
   "source": [
    "# df.groupby('Cabinet')"
   ]
  },
  {
   "cell_type": "code",
   "execution_count": 12,
   "metadata": {},
   "outputs": [],
   "source": [
    "df.columns = ['Cabinet', 'Dept', 'Program', 'ExpenseCategory', 'FY21ActualExpense',\n",
    "       'FY22ActualExpense', 'FY23Appropriation', 'FY24Adopted']"
   ]
  },
  {
   "cell_type": "code",
   "execution_count": 13,
   "metadata": {},
   "outputs": [
    {
     "name": "stderr",
     "output_type": "stream",
     "text": [
      "/var/folders/3f/x95cmnkn57s5pfth5lygr5k00000gn/T/ipykernel_93562/599078144.py:1: FutureWarning: DataFrame.applymap has been deprecated. Use DataFrame.map instead.\n",
      "  df = df.applymap(lambda x: x.strip())\n"
     ]
    }
   ],
   "source": [
    "df = df.applymap(lambda x: x.strip())\n"
   ]
  },
  {
   "cell_type": "code",
   "execution_count": 14,
   "metadata": {},
   "outputs": [],
   "source": [
    "# df.groupby('Cabinet')['FY21ActualExpense'].sum()"
   ]
  },
  {
   "cell_type": "code",
   "execution_count": 15,
   "metadata": {},
   "outputs": [],
   "source": [
    "df['FY21ActualExpense'] = df['FY21ActualExpense'].replace('#Missing', np.nan)\n",
    "df['FY22ActualExpense'] = df['FY22ActualExpense'].replace('#Missing', np.nan)\n",
    "df['FY23Appropriation'] = df['FY23Appropriation'].replace('#Missing', np.nan)\n",
    "df['FY24Adopted'] = df['FY24Adopted'].replace('#Missing', np.nan)"
   ]
  },
  {
   "cell_type": "code",
   "execution_count": 16,
   "metadata": {},
   "outputs": [],
   "source": [
    "df['FY21ActualExpense'] = df['FY21ActualExpense'].replace(',', np.nan, regex=True)\n",
    "df['FY22ActualExpense'] = df['FY22ActualExpense'].replace(',', np.nan, regex=True)\n",
    "df['FY23Appropriation'] = df['FY23Appropriation'].replace(',', np.nan, regex=True)\n",
    "df['FY24Adopted'] = df['FY24Adopted'].replace(',', np.nan, regex=True)"
   ]
  },
  {
   "cell_type": "code",
   "execution_count": 17,
   "metadata": {},
   "outputs": [],
   "source": [
    "df['FY21ActualExpense'] = df['FY21ActualExpense'].astype(float)\n",
    "df['FY22ActualExpense'] = df['FY22ActualExpense'].astype(float)\n",
    "df['FY23Appropriation'] = df['FY23Appropriation'].astype(float)\n",
    "df['FY24Adopted'] = df['FY24Adopted'].astype(float)"
   ]
  },
  {
   "cell_type": "code",
   "execution_count": 18,
   "metadata": {},
   "outputs": [
    {
     "data": {
      "text/plain": [
       "Cabinet                0\n",
       "Dept                   0\n",
       "Program                0\n",
       "ExpenseCategory        0\n",
       "FY21ActualExpense    181\n",
       "FY22ActualExpense    146\n",
       "FY23Appropriation    120\n",
       "FY24Adopted           93\n",
       "dtype: int64"
      ]
     },
     "execution_count": 18,
     "metadata": {},
     "output_type": "execute_result"
    }
   ],
   "source": [
    "df.isna().sum()"
   ]
  },
  {
   "cell_type": "code",
   "execution_count": 19,
   "metadata": {},
   "outputs": [],
   "source": [
    "df = df.dropna()"
   ]
  },
  {
   "cell_type": "code",
   "execution_count": 20,
   "metadata": {},
   "outputs": [
    {
     "data": {
      "text/plain": [
       "Cabinet              0\n",
       "Dept                 0\n",
       "Program              0\n",
       "ExpenseCategory      0\n",
       "FY21ActualExpense    0\n",
       "FY22ActualExpense    0\n",
       "FY23Appropriation    0\n",
       "FY24Adopted          0\n",
       "dtype: int64"
      ]
     },
     "execution_count": 20,
     "metadata": {},
     "output_type": "execute_result"
    }
   ],
   "source": [
    "df.isna().sum()"
   ]
  },
  {
   "cell_type": "code",
   "execution_count": 21,
   "metadata": {},
   "outputs": [
    {
     "data": {
      "text/plain": [
       "(652, 8)"
      ]
     },
     "execution_count": 21,
     "metadata": {},
     "output_type": "execute_result"
    }
   ],
   "source": [
    "df.shape"
   ]
  },
  {
   "cell_type": "code",
   "execution_count": 22,
   "metadata": {},
   "outputs": [
    {
     "data": {
      "text/plain": [
       "Index(['Cabinet', 'Dept', 'Program', 'ExpenseCategory', 'FY21ActualExpense',\n",
       "       'FY22ActualExpense', 'FY23Appropriation', 'FY24Adopted'],\n",
       "      dtype='object')"
      ]
     },
     "execution_count": 22,
     "metadata": {},
     "output_type": "execute_result"
    }
   ],
   "source": [
    "df.columns"
   ]
  },
  {
   "cell_type": "code",
   "execution_count": 23,
   "metadata": {},
   "outputs": [
    {
     "data": {
      "text/plain": [
       "array(['Personnel Services', 'Contractual Services',\n",
       "       'Supplies & Materials', 'Current Charges & Obligations',\n",
       "       'Equipment', 'Other Expenses'], dtype=object)"
      ]
     },
     "execution_count": 23,
     "metadata": {},
     "output_type": "execute_result"
    }
   ],
   "source": [
    "df.ExpenseCategory.unique()"
   ]
  },
  {
   "cell_type": "code",
   "execution_count": 24,
   "metadata": {},
   "outputs": [
    {
     "data": {
      "text/plain": [
       "ExpenseCategory\n",
       "Personnel Services               171\n",
       "Contractual Services             154\n",
       "Supplies & Materials             131\n",
       "Current Charges & Obligations    113\n",
       "Equipment                         64\n",
       "Other Expenses                    19\n",
       "Name: count, dtype: int64"
      ]
     },
     "execution_count": 24,
     "metadata": {},
     "output_type": "execute_result"
    }
   ],
   "source": [
    "df['ExpenseCategory'].value_counts()"
   ]
  },
  {
   "cell_type": "code",
   "execution_count": 25,
   "metadata": {},
   "outputs": [
    {
     "data": {
      "text/plain": [
       "Cabinet\n",
       "Finance Cabinet                             90\n",
       "Streets Cabinet                             77\n",
       "Public Safety Cabinet                       76\n",
       "Education Cabinet                           70\n",
       "Operations Cabinet                          50\n",
       "Human Services Cabinet                      44\n",
       "Mayor's Cabinet                             39\n",
       "People Operations Cabinet                   34\n",
       "Environment, Energy & Open Space Cabinet    33\n",
       "Economic Opportunity & Inclusion Cabinet    30\n",
       "Non-Mayoral Departments                     25\n",
       "Information & Technology Cabinet            21\n",
       "Equity & Inclusion Cabinet                  17\n",
       "Housing Cabinet                             13\n",
       "Community Engagement Cabinet                 9\n",
       "OPAT Cabinet                                 7\n",
       "Other                                        7\n",
       "Worker Empowerment Cabinet                   5\n",
       "Arts & Culture Cabinet                       4\n",
       "Public Health Cabinet                        1\n",
       "Name: count, dtype: int64"
      ]
     },
     "execution_count": 25,
     "metadata": {},
     "output_type": "execute_result"
    }
   ],
   "source": [
    "df['Cabinet'].value_counts()"
   ]
  },
  {
   "cell_type": "code",
   "execution_count": 26,
   "metadata": {},
   "outputs": [
    {
     "data": {
      "text/plain": [
       "Program\n",
       "Cemetery                  6\n",
       "BFD Maintenance           6\n",
       "Film & Special Events     6\n",
       "Parks Operations          6\n",
       "Street Lights             6\n",
       "                         ..\n",
       "Execution of Courts       1\n",
       "Consumer Affairs          1\n",
       "Revenue Monitoring        1\n",
       "Capital Planning Unit     1\n",
       "Risk Retention Reserve    1\n",
       "Name: count, Length: 183, dtype: int64"
      ]
     },
     "execution_count": 26,
     "metadata": {},
     "output_type": "execute_result"
    }
   ],
   "source": [
    "df['Program'].value_counts()"
   ]
  },
  {
   "cell_type": "code",
   "execution_count": 27,
   "metadata": {},
   "outputs": [
    {
     "data": {
      "text/plain": [
       "Dept\n",
       "Boston Public Schools                     70\n",
       "Public Works Department                   39\n",
       "Police Department                         38\n",
       "Fire Department                           34\n",
       "Parks & Recreation Department             29\n",
       "                                          ..\n",
       "Annual Audit Costs                         1\n",
       "Housing Trust Fund                         1\n",
       "Reserve for Collective Bargaining City     1\n",
       "OPEB                                       1\n",
       "Risk Retention Reserve                     1\n",
       "Name: count, Length: 63, dtype: int64"
      ]
     },
     "execution_count": 27,
     "metadata": {},
     "output_type": "execute_result"
    }
   ],
   "source": [
    "df['Dept'].value_counts()"
   ]
  },
  {
   "cell_type": "code",
   "execution_count": 102,
   "metadata": {},
   "outputs": [
    {
     "data": {
      "text/plain": [
       "array([\"Mayor's Cabinet\", 'Equity & Inclusion Cabinet', 'OPAT Cabinet',\n",
       "       'Operations Cabinet', 'Community Engagement Cabinet',\n",
       "       'Arts & Culture Cabinet',\n",
       "       'Economic Opportunity & Inclusion Cabinet',\n",
       "       'Worker Empowerment Cabinet', 'Education Cabinet',\n",
       "       'Environment, Energy & Open Space Cabinet', 'Finance Cabinet',\n",
       "       'People Operations Cabinet', 'Human Services Cabinet',\n",
       "       'Public Health Cabinet', 'Housing Cabinet',\n",
       "       'Information & Technology Cabinet', 'Public Safety Cabinet',\n",
       "       'Streets Cabinet', 'Non-Mayoral Departments', 'Other'],\n",
       "      dtype=object)"
      ]
     },
     "execution_count": 102,
     "metadata": {},
     "output_type": "execute_result"
    }
   ],
   "source": [
    "df.Cabinet.unique()"
   ]
  },
  {
   "cell_type": "code",
   "execution_count": 103,
   "metadata": {},
   "outputs": [
    {
     "data": {
      "text/plain": [
       "183"
      ]
     },
     "execution_count": 103,
     "metadata": {},
     "output_type": "execute_result"
    }
   ],
   "source": [
    "len(df.Program.unique())"
   ]
  },
  {
   "cell_type": "markdown",
   "metadata": {},
   "source": [
    "Cabinet - bar chart - showing distribution "
   ]
  },
  {
   "cell_type": "code",
   "execution_count": 104,
   "metadata": {},
   "outputs": [
    {
     "data": {
      "text/plain": [
       "array([\"Mayor's Administration\", \"Mayor's Executive\",\n",
       "       \"Mayor's Policy & Planning\", 'New Urban Mechanics',\n",
       "       \"Mayor's Communications\", 'Election Division', 'Listing Board',\n",
       "       'IGR', 'Grants Administration', 'Law Operations', 'Litigation',\n",
       "       'Government Services', 'Human Rights', 'Immigrant Advancement',\n",
       "       \"Women's Commission Program\", 'Fair Housing Commission',\n",
       "       'Disabilities', 'OPAT Commission', 'Civilian Review Board (CRB)',\n",
       "       'Internal Affairs Oversight Panel (IOAP)', 'PM Administration',\n",
       "       'Building Operations', 'Alterations & Repair', 'Enforcement',\n",
       "       'Security Systems', 'Building Systems', 'PFD Capital Construction',\n",
       "       \"ISD Commissioner's Office\", 'ISD Administration & Finance',\n",
       "       'Buildings & Structures', 'Field Services', 'ONS Administration',\n",
       "       'Neighborhood Serv', 'Office of Civic Organizing', 'Boston 311',\n",
       "       'Arts and Culture', 'Economic Development',\n",
       "       'Small & Local Business', 'Consumer Licensing', 'Consumer Affairs',\n",
       "       'Licensing_Board', 'Tourism Administration',\n",
       "       'Film & Special Events', 'Tourism',\n",
       "       'Youth Employment and Opportunity Admin', 'Alternative',\n",
       "       'Early Learning Center', 'Elementary', 'Exam', 'High', 'K-12',\n",
       "       'K-8', 'Middle', 'Middle/High', 'Special Ed, K-12',\n",
       "       'Superintendent', 'Student Support Services (C)', 'Strategy',\n",
       "       'School Committee', 'BPS Finance', 'Chief of Schools', 'ASSET',\n",
       "       'BPS Operations', 'Capital Planning Unit', 'Environment',\n",
       "       'Parks & Recreation Administration', 'Parks Operations',\n",
       "       'Citywide Recreation', 'Parks Design & Construction',\n",
       "       'Animal Care & Control', 'Cemetery', 'A&F', 'Assessing Operations',\n",
       "       'Valuation', 'Executive', 'Auditing Administration', 'Accounting',\n",
       "       'Central Payroll', 'Grants Monitoring', 'Accounts Payable',\n",
       "       'Budget Administration', 'Budget & Management',\n",
       "       'Revenue Monitoring', 'Capital Budgeting', 'Risk Management',\n",
       "       'Execution of Courts', 'Pensions & Annuities - City',\n",
       "       'Purchasing Administration', 'Goods Procurement',\n",
       "       'Central Services', 'General Management', 'Special Collections',\n",
       "       'Payment Services', 'Accounting/Quality Control',\n",
       "       'Treasury Administration', 'General Service/Payroll',\n",
       "       'Treasury Accounting', 'Accounts Receivable', 'Trust',\n",
       "       'Health Insurance', 'Personnel', 'Affirmative Action',\n",
       "       'Health Benefits & Insurance', 'Employee Assistance',\n",
       "       \"Workers' Comp\", 'Medicare Payments', 'Labor Relations',\n",
       "       'Administration', 'Vital Statistics', 'Depositions',\n",
       "       'Unemployment Comp', \"Workers' Compensation Fund\",\n",
       "       'Human Services Office', 'Administration & Policy',\n",
       "       'Sports & Fitness', 'Youth & Family Services',\n",
       "       'Child Care & Out-of-School', 'Age Strong Administration',\n",
       "       'Age Strong Operations', 'Age Strong Transportation',\n",
       "       'Program & Partnerships', 'Library Administration',\n",
       "       'Community Library Services', 'Research Services',\n",
       "       \"Veterans' Services\", 'Public Health Commission',\n",
       "       \"Mayor's Office of Housing Administration\",\n",
       "       'Real Estate Management & Sales', 'Housing Development & Services',\n",
       "       'DoIT Operations', 'Enterprise Applications',\n",
       "       'Digital Engagement & Services', 'Core Infrastructure',\n",
       "       'Data & Analytics', 'Broadband & Digital Equity',\n",
       "       'Homeland Security', 'BFD Administration',\n",
       "       'Boston Fire Suppression', 'Fire Alarm', 'BFD Training',\n",
       "       'BFD Maintenance', 'BFD Fire Prevention',\n",
       "       'Firefighter Safety, Health and Wellness',\n",
       "       \"Police Commissioner's Office\", 'Bureau of Community Engagement',\n",
       "       'BAT-Operations', 'BAT-Admin & Technology',\n",
       "       'Bureau of Professional Development', 'Bureau of Field Services',\n",
       "       'Bureau of Professional Standards',\n",
       "       'Bureau of Investigative Services',\n",
       "       'Bureau of Intelligence & Analysis', 'Fleet Services',\n",
       "       'Admin & Finance', \"PWD Commissioner's Office\",\n",
       "       'Building/Facility Maintenance', 'Engineering',\n",
       "       'Construction Management', 'Highway Field Operations',\n",
       "       'Bridge Operations/Maintenance', 'Street Lights',\n",
       "       'Waste Reduction', 'Snow & Winter Management',\n",
       "       \"Traffic Commissioner's Office\",\n",
       "       'Traffic Management & Engineering', 'Policy & Planning',\n",
       "       'Traffic Enforcement', 'Traffic Operations', 'Parking Clerk',\n",
       "       'Legislative Support', 'Document Filing', 'Archives',\n",
       "       'City Council Administration', 'City Councilors',\n",
       "       'Legislative Financial Support', 'Finance Commission Program',\n",
       "       'MBTA', 'Other State Assessments', 'Annual Audit Costs',\n",
       "       'Housing Trust Fund', 'Reserve for Collective Bargaining City',\n",
       "       'OPEB', 'Risk Retention Reserve'], dtype=object)"
      ]
     },
     "execution_count": 104,
     "metadata": {},
     "output_type": "execute_result"
    }
   ],
   "source": [
    "df.Program.unique()"
   ]
  },
  {
   "cell_type": "code",
   "execution_count": 28,
   "metadata": {},
   "outputs": [
    {
     "data": {
      "text/html": [
       "<div>\n",
       "<style scoped>\n",
       "    .dataframe tbody tr th:only-of-type {\n",
       "        vertical-align: middle;\n",
       "    }\n",
       "\n",
       "    .dataframe tbody tr th {\n",
       "        vertical-align: top;\n",
       "    }\n",
       "\n",
       "    .dataframe thead th {\n",
       "        text-align: right;\n",
       "    }\n",
       "</style>\n",
       "<table border=\"1\" class=\"dataframe\">\n",
       "  <thead>\n",
       "    <tr style=\"text-align: right;\">\n",
       "      <th></th>\n",
       "      <th>Cabinet</th>\n",
       "      <th>Dept</th>\n",
       "      <th>Program</th>\n",
       "      <th>ExpenseCategory</th>\n",
       "      <th>FY21ActualExpense</th>\n",
       "      <th>FY22ActualExpense</th>\n",
       "      <th>FY23Appropriation</th>\n",
       "      <th>FY24Adopted</th>\n",
       "    </tr>\n",
       "  </thead>\n",
       "  <tbody>\n",
       "    <tr>\n",
       "      <th>894</th>\n",
       "      <td>Other</td>\n",
       "      <td>Annual Audit Costs</td>\n",
       "      <td>Annual Audit Costs</td>\n",
       "      <td>Other Expenses</td>\n",
       "      <td>142850.00</td>\n",
       "      <td>708203.00</td>\n",
       "      <td>750000.0</td>\n",
       "      <td>750000.0</td>\n",
       "    </tr>\n",
       "    <tr>\n",
       "      <th>895</th>\n",
       "      <td>Other</td>\n",
       "      <td>Housing Trust Fund</td>\n",
       "      <td>Housing Trust Fund</td>\n",
       "      <td>Other Expenses</td>\n",
       "      <td>576195.84</td>\n",
       "      <td>525404.86</td>\n",
       "      <td>618000.0</td>\n",
       "      <td>618000.0</td>\n",
       "    </tr>\n",
       "    <tr>\n",
       "      <th>896</th>\n",
       "      <td>Other</td>\n",
       "      <td>Reserve for Collective Bargaining City</td>\n",
       "      <td>Reserve for Collective Bargaining City</td>\n",
       "      <td>Personnel Services</td>\n",
       "      <td>14000000.00</td>\n",
       "      <td>52000000.00</td>\n",
       "      <td>36185938.0</td>\n",
       "      <td>76212679.0</td>\n",
       "    </tr>\n",
       "    <tr>\n",
       "      <th>897</th>\n",
       "      <td>Other</td>\n",
       "      <td>OPEB</td>\n",
       "      <td>OPEB</td>\n",
       "      <td>Other Expenses</td>\n",
       "      <td>40000000.00</td>\n",
       "      <td>40000000.00</td>\n",
       "      <td>40000000.0</td>\n",
       "      <td>40000000.0</td>\n",
       "    </tr>\n",
       "    <tr>\n",
       "      <th>898</th>\n",
       "      <td>Other</td>\n",
       "      <td>Risk Retention Reserve</td>\n",
       "      <td>Risk Retention Reserve</td>\n",
       "      <td>Other Expenses</td>\n",
       "      <td>2500000.00</td>\n",
       "      <td>3800000.00</td>\n",
       "      <td>2500000.0</td>\n",
       "      <td>2500000.0</td>\n",
       "    </tr>\n",
       "  </tbody>\n",
       "</table>\n",
       "</div>"
      ],
      "text/plain": [
       "    Cabinet                                    Dept  \\\n",
       "894   Other                      Annual Audit Costs   \n",
       "895   Other                      Housing Trust Fund   \n",
       "896   Other  Reserve for Collective Bargaining City   \n",
       "897   Other                                    OPEB   \n",
       "898   Other                  Risk Retention Reserve   \n",
       "\n",
       "                                    Program     ExpenseCategory  \\\n",
       "894                      Annual Audit Costs      Other Expenses   \n",
       "895                      Housing Trust Fund      Other Expenses   \n",
       "896  Reserve for Collective Bargaining City  Personnel Services   \n",
       "897                                    OPEB      Other Expenses   \n",
       "898                  Risk Retention Reserve      Other Expenses   \n",
       "\n",
       "     FY21ActualExpense  FY22ActualExpense  FY23Appropriation  FY24Adopted  \n",
       "894          142850.00          708203.00           750000.0     750000.0  \n",
       "895          576195.84          525404.86           618000.0     618000.0  \n",
       "896        14000000.00        52000000.00         36185938.0   76212679.0  \n",
       "897        40000000.00        40000000.00         40000000.0   40000000.0  \n",
       "898         2500000.00         3800000.00          2500000.0    2500000.0  "
      ]
     },
     "execution_count": 28,
     "metadata": {},
     "output_type": "execute_result"
    }
   ],
   "source": [
    "df.tail()"
   ]
  },
  {
   "cell_type": "code",
   "execution_count": 29,
   "metadata": {},
   "outputs": [],
   "source": [
    "df.to_csv('OperatingBudgetCleaned.csv')"
   ]
  },
  {
   "cell_type": "code",
   "execution_count": 118,
   "metadata": {},
   "outputs": [],
   "source": [
    "cabinet =df.groupby('Cabinet')['FY21ActualExpense'].sum().sort_values()"
   ]
  },
  {
   "cell_type": "code",
   "execution_count": 119,
   "metadata": {},
   "outputs": [
    {
     "data": {
      "text/plain": [
       "Cabinet\n",
       "OPAT Cabinet                                0.000000e+00\n",
       "Arts & Culture Cabinet                      2.091082e+06\n",
       "Equity & Inclusion Cabinet                  2.451776e+06\n",
       "Community Engagement Cabinet                3.589165e+06\n",
       "Economic Opportunity & Inclusion Cabinet    3.846275e+06\n",
       "Worker Empowerment Cabinet                  7.147400e+06\n",
       "Non-Mayoral Departments                     7.231623e+06\n",
       "Mayor's Cabinet                             1.899482e+07\n",
       "Housing Cabinet                             2.905397e+07\n",
       "Environment, Energy & Open Space Cabinet    3.123729e+07\n",
       "Finance Cabinet                             3.283653e+07\n",
       "Information & Technology Cabinet            4.122348e+07\n",
       "Operations Cabinet                          4.586153e+07\n",
       "Human Services Cabinet                      7.460680e+07\n",
       "Public Health Cabinet                       1.064735e+08\n",
       "Streets Cabinet                             1.555357e+08\n",
       "Other                                       1.558954e+08\n",
       "People Operations Cabinet                   2.311869e+08\n",
       "Public Safety Cabinet                       6.928271e+08\n",
       "Education Cabinet                           1.260001e+09\n",
       "Name: FY21ActualExpense, dtype: float64"
      ]
     },
     "execution_count": 119,
     "metadata": {},
     "output_type": "execute_result"
    }
   ],
   "source": [
    "cabinet"
   ]
  },
  {
   "cell_type": "code",
   "execution_count": 120,
   "metadata": {},
   "outputs": [],
   "source": [
    "import matplotlib.pyplot as plt"
   ]
  },
  {
   "cell_type": "code",
   "execution_count": 121,
   "metadata": {},
   "outputs": [
    {
     "data": {
      "text/plain": [
       "(array([0.0e+00, 2.0e+08, 4.0e+08, 6.0e+08, 8.0e+08, 1.0e+09, 1.2e+09,\n",
       "        1.4e+09]),\n",
       " [Text(0.0, 0, '0.0'),\n",
       "  Text(200000000.0, 0, '0.2'),\n",
       "  Text(400000000.0, 0, '0.4'),\n",
       "  Text(600000000.0, 0, '0.6'),\n",
       "  Text(800000000.0, 0, '0.8'),\n",
       "  Text(1000000000.0, 0, '1.0'),\n",
       "  Text(1200000000.0, 0, '1.2'),\n",
       "  Text(1400000000.0, 0, '1.4')])"
      ]
     },
     "execution_count": 121,
     "metadata": {},
     "output_type": "execute_result"
    },
    {
     "data": {
      "image/png": "[encoded data removed]",
      "text/plain": [
       "<Figure size 640x480 with 1 Axes>"
      ]
     },
     "metadata": {},
     "output_type": "display_data"
    }
   ],
   "source": [
    "\n",
    "plt.barh(y=cabinet.index, width=cabinet.values)\n",
    "plt.xlabel('Survived')\n",
    "plt.ylabel('Average Age')\n",
    "plt.title('Average Age of Survivors and Non-Survivors on the Titanic')\n",
    "plt.xticks(rotation=45)\n",
    "plt.xticks(fontsize=9)\n",
    "# plt.xticks(ticks=[0,1], labels=['No', 'Yes'])"
   ]
  },
  {
   "cell_type": "code",
   "execution_count": null,
   "metadata": {},
   "outputs": [],
   "source": []
  },
  {
   "cell_type": "code",
   "execution_count": null,
   "metadata": {},
   "outputs": [],
   "source": []
  },
  {
   "cell_type": "code",
   "execution_count": null,
   "metadata": {},
   "outputs": [],
   "source": []
  },
  {
   "cell_type": "code",
   "execution_count": null,
   "metadata": {},
   "outputs": [],
   "source": []
  },
  {
   "cell_type": "code",
   "execution_count": 6,
   "metadata": {},
   "outputs": [],
   "source": [
    "df2 = pd.read_csv('/Users/gauravbindra/desktop/DS_Project/data/fy24-capital-budget-plan-recommended.csv')"
   ]
  },
  {
   "cell_type": "code",
   "execution_count": 37,
   "metadata": {},
   "outputs": [
    {
     "data": {
      "text/plain": [
       "array(['Boston Centers for Youth and Families',\n",
       "       'Boston Planning and Development Agency', 'Boston Public Library',\n",
       "       'Boston Public Schools', 'Department of Innovation and Technology',\n",
       "       'Emergency Management', 'Environment Department',\n",
       "       'Fire Department', \"Mayor's Office of Housing\",\n",
       "       'Office of Arts & Culture', 'Office of New Urban Mechanics',\n",
       "       'Parks and Recreation Department', 'Police Department',\n",
       "       'Property Management Department', 'Public Health Commission',\n",
       "       'Public Works Department', 'Transportation Department'],\n",
       "      dtype=object)"
      ]
     },
     "execution_count": 37,
     "metadata": {},
     "output_type": "execute_result"
    }
   ],
   "source": [
    "df2.Department.unique()"
   ]
  },
  {
   "cell_type": "code",
   "execution_count": null,
   "metadata": {},
   "outputs": [],
   "source": []
  },
  {
   "cell_type": "markdown",
   "metadata": {},
   "source": [
    "df - department to PM Department "
   ]
  },
  {
   "cell_type": "code",
   "execution_count": 7,
   "metadata": {},
   "outputs": [
    {
     "data": {
      "text/html": [
       "<div>\n",
       "<style scoped>\n",
       "    .dataframe tbody tr th:only-of-type {\n",
       "        vertical-align: middle;\n",
       "    }\n",
       "\n",
       "    .dataframe tbody tr th {\n",
       "        vertical-align: top;\n",
       "    }\n",
       "\n",
       "    .dataframe thead th {\n",
       "        text-align: right;\n",
       "    }\n",
       "</style>\n",
       "<table border=\"1\" class=\"dataframe\">\n",
       "  <thead>\n",
       "    <tr style=\"text-align: right;\">\n",
       "      <th></th>\n",
       "      <th>Department</th>\n",
       "      <th>Project_Name</th>\n",
       "      <th>Scope_Of_Work</th>\n",
       "      <th>PM_Department</th>\n",
       "      <th>Project_Status</th>\n",
       "      <th>Neighborhood</th>\n",
       "      <th>Authorization_Existing</th>\n",
       "      <th>Authorization_FY</th>\n",
       "      <th>Authorization_Future</th>\n",
       "      <th>Grant_Existing</th>\n",
       "      <th>...</th>\n",
       "      <th>GO_Expended</th>\n",
       "      <th>Capital_Year_0</th>\n",
       "      <th>CapitalYear_1</th>\n",
       "      <th>Capital_Year_25</th>\n",
       "      <th>Grant_Expended</th>\n",
       "      <th>Grant_Year_0</th>\n",
       "      <th>Grant_Year_1</th>\n",
       "      <th>GrantYear_25</th>\n",
       "      <th>External_Funds</th>\n",
       "      <th>Total_Project_Budget</th>\n",
       "    </tr>\n",
       "  </thead>\n",
       "  <tbody>\n",
       "    <tr>\n",
       "      <th>0</th>\n",
       "      <td>Boston Centers for Youth and Families</td>\n",
       "      <td>BCYF Security and Technology Upgrades</td>\n",
       "      <td>Improvements to technology infrastructure and ...</td>\n",
       "      <td>Boston Centers for Youth and Families</td>\n",
       "      <td>To Be Scheduled</td>\n",
       "      <td>Citywide</td>\n",
       "      <td>750000</td>\n",
       "      <td>1250000</td>\n",
       "      <td>0</td>\n",
       "      <td>0</td>\n",
       "      <td>...</td>\n",
       "      <td>0</td>\n",
       "      <td>0</td>\n",
       "      <td>100000</td>\n",
       "      <td>1900000</td>\n",
       "      <td>0</td>\n",
       "      <td>0</td>\n",
       "      <td>0</td>\n",
       "      <td>0</td>\n",
       "      <td>0</td>\n",
       "      <td>2000000</td>\n",
       "    </tr>\n",
       "    <tr>\n",
       "      <th>1</th>\n",
       "      <td>Boston Centers for Youth and Families</td>\n",
       "      <td>BCYF Tobin Community Center Retaining Wall</td>\n",
       "      <td>Repair or replace the retaining wall adjacent ...</td>\n",
       "      <td>Public Facilities Department</td>\n",
       "      <td>In Design</td>\n",
       "      <td>Mission Hill</td>\n",
       "      <td>1800000</td>\n",
       "      <td>0</td>\n",
       "      <td>0</td>\n",
       "      <td>0</td>\n",
       "      <td>...</td>\n",
       "      <td>0</td>\n",
       "      <td>100000</td>\n",
       "      <td>1500000</td>\n",
       "      <td>200000</td>\n",
       "      <td>0</td>\n",
       "      <td>0</td>\n",
       "      <td>0</td>\n",
       "      <td>0</td>\n",
       "      <td>0</td>\n",
       "      <td>1800000</td>\n",
       "    </tr>\n",
       "    <tr>\n",
       "      <th>2</th>\n",
       "      <td>Boston Centers for Youth and Families</td>\n",
       "      <td>BCYF North End Community Center</td>\n",
       "      <td>Develop a design for a new North End Community...</td>\n",
       "      <td>Public Facilities Department</td>\n",
       "      <td>In Design</td>\n",
       "      <td>North End</td>\n",
       "      <td>5000000</td>\n",
       "      <td>63000000</td>\n",
       "      <td>0</td>\n",
       "      <td>0</td>\n",
       "      <td>...</td>\n",
       "      <td>0</td>\n",
       "      <td>400000</td>\n",
       "      <td>3000000</td>\n",
       "      <td>64600000</td>\n",
       "      <td>0</td>\n",
       "      <td>0</td>\n",
       "      <td>0</td>\n",
       "      <td>0</td>\n",
       "      <td>20000000</td>\n",
       "      <td>88000000</td>\n",
       "    </tr>\n",
       "    <tr>\n",
       "      <th>3</th>\n",
       "      <td>Boston Centers for Youth and Families</td>\n",
       "      <td>Pool Repairs</td>\n",
       "      <td>Renovate and upgrade locker rooms and pools in...</td>\n",
       "      <td>Boston Centers for Youth and Families</td>\n",
       "      <td>Annual Program</td>\n",
       "      <td>Citywide</td>\n",
       "      <td>1300000</td>\n",
       "      <td>1000000</td>\n",
       "      <td>0</td>\n",
       "      <td>0</td>\n",
       "      <td>...</td>\n",
       "      <td>383450</td>\n",
       "      <td>450000</td>\n",
       "      <td>700000</td>\n",
       "      <td>766550</td>\n",
       "      <td>0</td>\n",
       "      <td>0</td>\n",
       "      <td>0</td>\n",
       "      <td>0</td>\n",
       "      <td>0</td>\n",
       "      <td>2300000</td>\n",
       "    </tr>\n",
       "    <tr>\n",
       "      <th>4</th>\n",
       "      <td>Boston Centers for Youth and Families</td>\n",
       "      <td>Youth Budget Round 4</td>\n",
       "      <td>Engage youth across the City to create a capit...</td>\n",
       "      <td>Youth Engagement and Employment</td>\n",
       "      <td>Implementation Underway</td>\n",
       "      <td>Citywide</td>\n",
       "      <td>1000000</td>\n",
       "      <td>0</td>\n",
       "      <td>0</td>\n",
       "      <td>0</td>\n",
       "      <td>...</td>\n",
       "      <td>17140</td>\n",
       "      <td>25000</td>\n",
       "      <td>250000</td>\n",
       "      <td>707860</td>\n",
       "      <td>0</td>\n",
       "      <td>0</td>\n",
       "      <td>0</td>\n",
       "      <td>0</td>\n",
       "      <td>0</td>\n",
       "      <td>1000000</td>\n",
       "    </tr>\n",
       "  </tbody>\n",
       "</table>\n",
       "<p>5 rows × 22 columns</p>\n",
       "</div>"
      ],
      "text/plain": [
       "                              Department  \\\n",
       "0  Boston Centers for Youth and Families   \n",
       "1  Boston Centers for Youth and Families   \n",
       "2  Boston Centers for Youth and Families   \n",
       "3  Boston Centers for Youth and Families   \n",
       "4  Boston Centers for Youth and Families   \n",
       "\n",
       "                                 Project_Name  \\\n",
       "0       BCYF Security and Technology Upgrades   \n",
       "1  BCYF Tobin Community Center Retaining Wall   \n",
       "2             BCYF North End Community Center   \n",
       "3                                Pool Repairs   \n",
       "4                        Youth Budget Round 4   \n",
       "\n",
       "                                       Scope_Of_Work  \\\n",
       "0  Improvements to technology infrastructure and ...   \n",
       "1  Repair or replace the retaining wall adjacent ...   \n",
       "2  Develop a design for a new North End Community...   \n",
       "3  Renovate and upgrade locker rooms and pools in...   \n",
       "4  Engage youth across the City to create a capit...   \n",
       "\n",
       "                           PM_Department           Project_Status  \\\n",
       "0  Boston Centers for Youth and Families          To Be Scheduled   \n",
       "1           Public Facilities Department                In Design   \n",
       "2           Public Facilities Department                In Design   \n",
       "3  Boston Centers for Youth and Families           Annual Program   \n",
       "4        Youth Engagement and Employment  Implementation Underway   \n",
       "\n",
       "   Neighborhood  Authorization_Existing  Authorization_FY  \\\n",
       "0      Citywide                  750000           1250000   \n",
       "1  Mission Hill                 1800000                 0   \n",
       "2     North End                 5000000          63000000   \n",
       "3      Citywide                 1300000           1000000   \n",
       "4      Citywide                 1000000                 0   \n",
       "\n",
       "   Authorization_Future   Grant_Existing   ...  GO_Expended  Capital_Year_0  \\\n",
       "0                     0                 0  ...            0               0   \n",
       "1                     0                 0  ...            0          100000   \n",
       "2                     0                 0  ...            0          400000   \n",
       "3                     0                 0  ...       383450          450000   \n",
       "4                     0                 0  ...        17140           25000   \n",
       "\n",
       "    CapitalYear_1   Capital_Year_25  Grant_Expended  Grant_Year_0  \\\n",
       "0           100000          1900000               0             0   \n",
       "1          1500000           200000               0             0   \n",
       "2          3000000         64600000               0             0   \n",
       "3           700000           766550               0             0   \n",
       "4           250000           707860               0             0   \n",
       "\n",
       "    Grant_Year_1   GrantYear_25  External_Funds  Total_Project_Budget  \n",
       "0               0             0               0               2000000  \n",
       "1               0             0               0               1800000  \n",
       "2               0             0        20000000              88000000  \n",
       "3               0             0               0               2300000  \n",
       "4               0             0               0               1000000  \n",
       "\n",
       "[5 rows x 22 columns]"
      ]
     },
     "execution_count": 7,
     "metadata": {},
     "output_type": "execute_result"
    }
   ],
   "source": [
    "df2.head()"
   ]
  },
  {
   "cell_type": "code",
   "execution_count": 36,
   "metadata": {},
   "outputs": [
    {
     "data": {
      "text/plain": [
       "array(['Citywide', 'Mission Hill', 'North End', 'South Boston',\n",
       "       'Back Bay', 'Chinatown', 'Dorchester', 'Allston/Brighton',\n",
       "       'South End', 'East Boston', 'Jamaica Plain', 'Charlestown',\n",
       "       'Roxbury', 'Mattapan', 'Multiple Neighborhoods', 'Fenway-Kenmore',\n",
       "       'Harbor Islands', 'West Roxbury', 'Beacon Hill', 'Hyde Park',\n",
       "       'Downtown/Government Center', 'Roslindale', 'West End',\n",
       "       'Bay Village'], dtype=object)"
      ]
     },
     "execution_count": 36,
     "metadata": {},
     "output_type": "execute_result"
    }
   ],
   "source": [
    "df2.Neighborhood.unique() By Status "
   ]
  },
  {
   "cell_type": "markdown",
   "metadata": {},
   "source": [
    "Main 2 components - Operation and Capital budget \n",
    "Capital Budget has more funding sources. \n",
    "Funds major improvements to facilities and infrastructure. Funding sources are bonds and warrants \n",
    "Operating Budget - personnel costs and annual facility operating costs. "
   ]
  },
  {
   "cell_type": "code",
   "execution_count": 8,
   "metadata": {},
   "outputs": [
    {
     "data": {
      "text/html": [
       "<div>\n",
       "<style scoped>\n",
       "    .dataframe tbody tr th:only-of-type {\n",
       "        vertical-align: middle;\n",
       "    }\n",
       "\n",
       "    .dataframe tbody tr th {\n",
       "        vertical-align: top;\n",
       "    }\n",
       "\n",
       "    .dataframe thead th {\n",
       "        text-align: right;\n",
       "    }\n",
       "</style>\n",
       "<table border=\"1\" class=\"dataframe\">\n",
       "  <thead>\n",
       "    <tr style=\"text-align: right;\">\n",
       "      <th></th>\n",
       "      <th>Authorization_Existing</th>\n",
       "      <th>Authorization_FY</th>\n",
       "      <th>Authorization_Future</th>\n",
       "      <th>Grant_Existing</th>\n",
       "      <th>Grant_FY</th>\n",
       "      <th>Grant_Future</th>\n",
       "      <th>GO_Expended</th>\n",
       "      <th>Capital_Year_0</th>\n",
       "      <th>CapitalYear_1</th>\n",
       "      <th>Capital_Year_25</th>\n",
       "      <th>Grant_Expended</th>\n",
       "      <th>Grant_Year_0</th>\n",
       "      <th>Grant_Year_1</th>\n",
       "      <th>GrantYear_25</th>\n",
       "      <th>External_Funds</th>\n",
       "    </tr>\n",
       "  </thead>\n",
       "  <tbody>\n",
       "    <tr>\n",
       "      <th>count</th>\n",
       "      <td>4.330000e+02</td>\n",
       "      <td>4.330000e+02</td>\n",
       "      <td>4.330000e+02</td>\n",
       "      <td>4.330000e+02</td>\n",
       "      <td>4.330000e+02</td>\n",
       "      <td>4.330000e+02</td>\n",
       "      <td>4.330000e+02</td>\n",
       "      <td>4.330000e+02</td>\n",
       "      <td>4.330000e+02</td>\n",
       "      <td>4.330000e+02</td>\n",
       "      <td>4.330000e+02</td>\n",
       "      <td>4.330000e+02</td>\n",
       "      <td>4.330000e+02</td>\n",
       "      <td>4.330000e+02</td>\n",
       "      <td>4.330000e+02</td>\n",
       "    </tr>\n",
       "    <tr>\n",
       "      <th>mean</th>\n",
       "      <td>4.716730e+06</td>\n",
       "      <td>2.252930e+06</td>\n",
       "      <td>3.961802e+05</td>\n",
       "      <td>9.986818e+05</td>\n",
       "      <td>2.409092e+05</td>\n",
       "      <td>1.269912e+05</td>\n",
       "      <td>6.490808e+05</td>\n",
       "      <td>5.372785e+05</td>\n",
       "      <td>1.701792e+06</td>\n",
       "      <td>4.477688e+06</td>\n",
       "      <td>2.106991e+05</td>\n",
       "      <td>8.049017e+04</td>\n",
       "      <td>3.155854e+05</td>\n",
       "      <td>7.598076e+05</td>\n",
       "      <td>9.284619e+05</td>\n",
       "    </tr>\n",
       "    <tr>\n",
       "      <th>std</th>\n",
       "      <td>1.414201e+07</td>\n",
       "      <td>8.086866e+06</td>\n",
       "      <td>2.813432e+06</td>\n",
       "      <td>4.977345e+06</td>\n",
       "      <td>1.923920e+06</td>\n",
       "      <td>1.312542e+06</td>\n",
       "      <td>3.218987e+06</td>\n",
       "      <td>1.962540e+06</td>\n",
       "      <td>6.557024e+06</td>\n",
       "      <td>1.068706e+07</td>\n",
       "      <td>1.273365e+06</td>\n",
       "      <td>4.936327e+05</td>\n",
       "      <td>2.068122e+06</td>\n",
       "      <td>3.363599e+06</td>\n",
       "      <td>1.163901e+07</td>\n",
       "    </tr>\n",
       "    <tr>\n",
       "      <th>min</th>\n",
       "      <td>0.000000e+00</td>\n",
       "      <td>0.000000e+00</td>\n",
       "      <td>0.000000e+00</td>\n",
       "      <td>0.000000e+00</td>\n",
       "      <td>0.000000e+00</td>\n",
       "      <td>0.000000e+00</td>\n",
       "      <td>-1.840000e+04</td>\n",
       "      <td>0.000000e+00</td>\n",
       "      <td>0.000000e+00</td>\n",
       "      <td>0.000000e+00</td>\n",
       "      <td>0.000000e+00</td>\n",
       "      <td>0.000000e+00</td>\n",
       "      <td>0.000000e+00</td>\n",
       "      <td>0.000000e+00</td>\n",
       "      <td>0.000000e+00</td>\n",
       "    </tr>\n",
       "    <tr>\n",
       "      <th>25%</th>\n",
       "      <td>1.250000e+05</td>\n",
       "      <td>0.000000e+00</td>\n",
       "      <td>0.000000e+00</td>\n",
       "      <td>0.000000e+00</td>\n",
       "      <td>0.000000e+00</td>\n",
       "      <td>0.000000e+00</td>\n",
       "      <td>0.000000e+00</td>\n",
       "      <td>0.000000e+00</td>\n",
       "      <td>4.000000e+04</td>\n",
       "      <td>1.000000e+05</td>\n",
       "      <td>0.000000e+00</td>\n",
       "      <td>0.000000e+00</td>\n",
       "      <td>0.000000e+00</td>\n",
       "      <td>0.000000e+00</td>\n",
       "      <td>0.000000e+00</td>\n",
       "    </tr>\n",
       "    <tr>\n",
       "      <th>50%</th>\n",
       "      <td>9.917200e+05</td>\n",
       "      <td>0.000000e+00</td>\n",
       "      <td>0.000000e+00</td>\n",
       "      <td>0.000000e+00</td>\n",
       "      <td>0.000000e+00</td>\n",
       "      <td>0.000000e+00</td>\n",
       "      <td>0.000000e+00</td>\n",
       "      <td>0.000000e+00</td>\n",
       "      <td>2.000000e+05</td>\n",
       "      <td>9.500000e+05</td>\n",
       "      <td>0.000000e+00</td>\n",
       "      <td>0.000000e+00</td>\n",
       "      <td>0.000000e+00</td>\n",
       "      <td>0.000000e+00</td>\n",
       "      <td>0.000000e+00</td>\n",
       "    </tr>\n",
       "    <tr>\n",
       "      <th>75%</th>\n",
       "      <td>3.050000e+06</td>\n",
       "      <td>5.000000e+05</td>\n",
       "      <td>0.000000e+00</td>\n",
       "      <td>0.000000e+00</td>\n",
       "      <td>0.000000e+00</td>\n",
       "      <td>0.000000e+00</td>\n",
       "      <td>2.239200e+04</td>\n",
       "      <td>2.482950e+05</td>\n",
       "      <td>1.000000e+06</td>\n",
       "      <td>3.540000e+06</td>\n",
       "      <td>0.000000e+00</td>\n",
       "      <td>0.000000e+00</td>\n",
       "      <td>0.000000e+00</td>\n",
       "      <td>0.000000e+00</td>\n",
       "      <td>0.000000e+00</td>\n",
       "    </tr>\n",
       "    <tr>\n",
       "      <th>max</th>\n",
       "      <td>1.650000e+08</td>\n",
       "      <td>8.557000e+07</td>\n",
       "      <td>5.000000e+07</td>\n",
       "      <td>6.707597e+07</td>\n",
       "      <td>2.650000e+07</td>\n",
       "      <td>2.200000e+07</td>\n",
       "      <td>4.569213e+07</td>\n",
       "      <td>3.000000e+07</td>\n",
       "      <td>8.700000e+07</td>\n",
       "      <td>9.600000e+07</td>\n",
       "      <td>1.424462e+07</td>\n",
       "      <td>7.000000e+06</td>\n",
       "      <td>3.500000e+07</td>\n",
       "      <td>2.785681e+07</td>\n",
       "      <td>1.780675e+08</td>\n",
       "    </tr>\n",
       "  </tbody>\n",
       "</table>\n",
       "</div>"
      ],
      "text/plain": [
       "       Authorization_Existing  Authorization_FY  Authorization_Future  \\\n",
       "count            4.330000e+02      4.330000e+02          4.330000e+02   \n",
       "mean             4.716730e+06      2.252930e+06          3.961802e+05   \n",
       "std              1.414201e+07      8.086866e+06          2.813432e+06   \n",
       "min              0.000000e+00      0.000000e+00          0.000000e+00   \n",
       "25%              1.250000e+05      0.000000e+00          0.000000e+00   \n",
       "50%              9.917200e+05      0.000000e+00          0.000000e+00   \n",
       "75%              3.050000e+06      5.000000e+05          0.000000e+00   \n",
       "max              1.650000e+08      8.557000e+07          5.000000e+07   \n",
       "\n",
       "        Grant_Existing      Grant_FY    Grant_Future    GO_Expended  \\\n",
       "count      4.330000e+02  4.330000e+02    4.330000e+02  4.330000e+02   \n",
       "mean       9.986818e+05  2.409092e+05    1.269912e+05  6.490808e+05   \n",
       "std        4.977345e+06  1.923920e+06    1.312542e+06  3.218987e+06   \n",
       "min        0.000000e+00  0.000000e+00    0.000000e+00 -1.840000e+04   \n",
       "25%        0.000000e+00  0.000000e+00    0.000000e+00  0.000000e+00   \n",
       "50%        0.000000e+00  0.000000e+00    0.000000e+00  0.000000e+00   \n",
       "75%        0.000000e+00  0.000000e+00    0.000000e+00  2.239200e+04   \n",
       "max        6.707597e+07  2.650000e+07    2.200000e+07  4.569213e+07   \n",
       "\n",
       "       Capital_Year_0   CapitalYear_1   Capital_Year_25  Grant_Expended  \\\n",
       "count    4.330000e+02     4.330000e+02     4.330000e+02    4.330000e+02   \n",
       "mean     5.372785e+05     1.701792e+06     4.477688e+06    2.106991e+05   \n",
       "std      1.962540e+06     6.557024e+06     1.068706e+07    1.273365e+06   \n",
       "min      0.000000e+00     0.000000e+00     0.000000e+00    0.000000e+00   \n",
       "25%      0.000000e+00     4.000000e+04     1.000000e+05    0.000000e+00   \n",
       "50%      0.000000e+00     2.000000e+05     9.500000e+05    0.000000e+00   \n",
       "75%      2.482950e+05     1.000000e+06     3.540000e+06    0.000000e+00   \n",
       "max      3.000000e+07     8.700000e+07     9.600000e+07    1.424462e+07   \n",
       "\n",
       "       Grant_Year_0   Grant_Year_1   GrantYear_25  External_Funds  \n",
       "count  4.330000e+02    4.330000e+02  4.330000e+02    4.330000e+02  \n",
       "mean   8.049017e+04    3.155854e+05  7.598076e+05    9.284619e+05  \n",
       "std    4.936327e+05    2.068122e+06  3.363599e+06    1.163901e+07  \n",
       "min    0.000000e+00    0.000000e+00  0.000000e+00    0.000000e+00  \n",
       "25%    0.000000e+00    0.000000e+00  0.000000e+00    0.000000e+00  \n",
       "50%    0.000000e+00    0.000000e+00  0.000000e+00    0.000000e+00  \n",
       "75%    0.000000e+00    0.000000e+00  0.000000e+00    0.000000e+00  \n",
       "max    7.000000e+06    3.500000e+07  2.785681e+07    1.780675e+08  "
      ]
     },
     "execution_count": 8,
     "metadata": {},
     "output_type": "execute_result"
    }
   ],
   "source": [
    "df2.describe()"
   ]
  },
  {
   "cell_type": "code",
   "execution_count": 9,
   "metadata": {},
   "outputs": [
    {
     "data": {
      "text/plain": [
       "433"
      ]
     },
     "execution_count": 9,
     "metadata": {},
     "output_type": "execute_result"
    }
   ],
   "source": [
    "len(df2)"
   ]
  },
  {
   "cell_type": "code",
   "execution_count": 12,
   "metadata": {},
   "outputs": [
    {
     "data": {
      "text/plain": [
       "8"
      ]
     },
     "execution_count": 12,
     "metadata": {},
     "output_type": "execute_result"
    }
   ],
   "source": [
    "count = 0\n",
    "for i in df2.PM_Department.unique():\n",
    "    if i in df.Dept.unique():\n",
    "        count+=1\n",
    "count"
   ]
  },
  {
   "cell_type": "code",
   "execution_count": 38,
   "metadata": {},
   "outputs": [
    {
     "data": {
      "text/plain": [
       "12"
      ]
     },
     "execution_count": 38,
     "metadata": {},
     "output_type": "execute_result"
    }
   ],
   "source": [
    "count = 0\n",
    "common_departments = []\n",
    "for i in df.Dept.unique():\n",
    "    if i in df2.Department.unique():\n",
    "        count+=1\n",
    "        common_departments.append(i)\n",
    "count"
   ]
  },
  {
   "cell_type": "code",
   "execution_count": 19,
   "metadata": {},
   "outputs": [
    {
     "data": {
      "text/plain": [
       "['Property Management Department',\n",
       " 'Public Facilities Department',\n",
       " 'Boston Public Schools',\n",
       " 'Environment Department',\n",
       " \"Mayor's Office of Housing\",\n",
       " 'Department of Innovation and Technology',\n",
       " 'Police Department',\n",
       " 'Public Works Department']"
      ]
     },
     "execution_count": 19,
     "metadata": {},
     "output_type": "execute_result"
    }
   ],
   "source": [
    "common_departments"
   ]
  },
  {
   "cell_type": "markdown",
   "metadata": {},
   "source": [
    "neighbourhood in operation budget"
   ]
  },
  {
   "cell_type": "code",
   "execution_count": 16,
   "metadata": {},
   "outputs": [
    {
     "name": "stdout",
     "output_type": "stream",
     "text": [
      "20\n"
     ]
    },
    {
     "data": {
      "text/plain": [
       "array(['Boston Centers for Youth and Families',\n",
       "       'Public Facilities Department', 'Youth Engagement and Employment',\n",
       "       'Boston Planning and Development Agency', 'Boston Public Library',\n",
       "       'Boston Public Schools', 'Department of Innovation and Technology',\n",
       "       'Environment Department', 'Boston Fire Department',\n",
       "       \"Mayor's Office of Housing\", 'Office of Arts and Culture',\n",
       "       'Office of New Urban Mechanics', 'Parks and Recreation Department',\n",
       "       'Boston Police Department', 'Boston Public Health Commission',\n",
       "       'Public Works Department', 'Boston Transportation Department',\n",
       "       'Boston Housing Authority', 'Police Department',\n",
       "       'Property Management Department'], dtype=object)"
      ]
     },
     "execution_count": 16,
     "metadata": {},
     "output_type": "execute_result"
    }
   ],
   "source": [
    "print(len(df2.PM_Department.unique()))\n",
    "df2.PM_Department.unique()\n"
   ]
  },
  {
   "cell_type": "code",
   "execution_count": 17,
   "metadata": {},
   "outputs": [
    {
     "name": "stdout",
     "output_type": "stream",
     "text": [
      "82\n"
     ]
    },
    {
     "data": {
      "text/plain": [
       "array([\"Mayor's Office\", 'Election Department',\n",
       "       'Intergovernmental Relations', 'Law Department',\n",
       "       'Office of Equity', 'Office of Diversity',\n",
       "       'Office of Resiliency & Racial Equity',\n",
       "       'Office of Language & Communications Access',\n",
       "       'Human Right Commission', 'Office for Immigrant Advancement',\n",
       "       \"Women's Advancement\", 'Black Male Advancement',\n",
       "       'Fair Housing & Equity', 'LGBTQ+ Advancement',\n",
       "       'Commission for Persons with Disabilities',\n",
       "       'Office of Police Accountability & Transparency',\n",
       "       'Property Management Department', 'Public Facilities Department',\n",
       "       'Inspectional Services Department', 'Neighborhood Services',\n",
       "       'Office of Arts & Culture',\n",
       "       'Office of Economic Opportunity & Inclusion',\n",
       "       'Consumer Affairs & Licensing', 'Supplier Diversity',\n",
       "       'Office of Tourism', 'Labor Compliance and Worker Protection',\n",
       "       'Youth Employment and Opportunity', 'Boston Public Schools',\n",
       "       'Environment Department', 'Parks & Recreation Department',\n",
       "       'Office of Historic Preservation', 'Office of Food Justice',\n",
       "       'Office of Finance', 'Assessing Department', 'Auditing Department',\n",
       "       'Budget Management', 'Office of Participatory Budgeting',\n",
       "       'Execution of Courts', 'Pensions & Annuities - City',\n",
       "       'Procurement', 'Treasury Department',\n",
       "       'Office of People Operations', 'Health Insurance',\n",
       "       'Human Resources', 'Medicare', 'Office of Labor Relations',\n",
       "       'Registry Division', 'Unemployment Compensation',\n",
       "       \"Workers' Compensation Fund\", 'Office of Human Services',\n",
       "       'Boston Center for Youth & Families', 'Age Strong',\n",
       "       'Library Department', 'Boston VETS', 'Public Health Commission',\n",
       "       \"Mayor's Office of Housing\",\n",
       "       'Department of Innovation and Technology', 'Emergency Management',\n",
       "       'Fire Department', 'Police Department', 'Central Fleet Management',\n",
       "       'Office of Streets', 'Public Works Department',\n",
       "       'Snow & Winter Management', 'Transportation Department',\n",
       "       'Planning & Design', 'City Clerk', 'City Council',\n",
       "       'Finance Commission', 'Pensions', 'Debt Service',\n",
       "       'Charter School Tuition', 'MBTA', 'Other State Assessments',\n",
       "       'Suffolk County Sheriff Dept', 'Reserve', 'Annual Audit Costs',\n",
       "       'Housing Trust Fund', 'Reserve for Collective Bargaining City',\n",
       "       'OPEB', 'Risk Retention Reserve', 'Tax Title'], dtype=object)"
      ]
     },
     "execution_count": 17,
     "metadata": {},
     "output_type": "execute_result"
    }
   ],
   "source": [
    "print(len(df.Dept.unique()))\n",
    "df.Dept.unique()"
   ]
  },
  {
   "cell_type": "code",
   "execution_count": null,
   "metadata": {},
   "outputs": [],
   "source": [
    "Capital - heat map, histogram, worm \n",
    "Operation - heat map, histogram, worm \n"
   ]
  },
  {
   "cell_type": "code",
   "execution_count": null,
   "metadata": {},
   "outputs": [],
   "source": [
    "Department, Program, Year - Capital \n"
   ]
  },
  {
   "cell_type": "code",
   "execution_count": 20,
   "metadata": {},
   "outputs": [
    {
     "data": {
      "text/plain": [
       "Index(['Cabinet', 'Dept', 'Program', 'Expense Category', 'FY21 Actual Expense',\n",
       "       'FY22 Actual Expense', 'FY23 Appropriation', 'FY24 Adopted'],\n",
       "      dtype='object')"
      ]
     },
     "execution_count": 20,
     "metadata": {},
     "output_type": "execute_result"
    }
   ],
   "source": [
    "df.columns"
   ]
  },
  {
   "cell_type": "code",
   "execution_count": 21,
   "metadata": {},
   "outputs": [
    {
     "data": {
      "text/plain": [
       "Index(['Department', 'Project_Name', 'Scope_Of_Work', 'PM_Department',\n",
       "       'Project_Status', 'Neighborhood', 'Authorization_Existing',\n",
       "       'Authorization_FY', 'Authorization_Future', ' Grant_Existing ',\n",
       "       ' Grant_FY ', ' Grant_Future ', 'GO_Expended', 'Capital_Year_0',\n",
       "       ' CapitalYear_1 ', 'Capital_Year_25', 'Grant_Expended', 'Grant_Year_0',\n",
       "       ' Grant_Year_1 ', 'GrantYear_25', 'External_Funds',\n",
       "       'Total_Project_Budget'],\n",
       "      dtype='object')"
      ]
     },
     "execution_count": 21,
     "metadata": {},
     "output_type": "execute_result"
    }
   ],
   "source": [
    "df2.columns"
   ]
  },
  {
   "cell_type": "code",
   "execution_count": null,
   "metadata": {},
   "outputs": [],
   "source": [
    "Project, Department, Completed/Not Completed, Grant patterns"
   ]
  },
  {
   "cell_type": "markdown",
   "metadata": {},
   "source": [
    "Distribution expense by"
   ]
  },
  {
   "cell_type": "markdown",
   "metadata": {},
   "source": [
    "Adopted revenue budget "
   ]
  },
  {
   "cell_type": "markdown",
   "metadata": {},
   "source": []
  }
 ],
 "metadata": {
  "kernelspec": {
   "display_name": "Python 3",
   "language": "python",
   "name": "python3"
  },
  "language_info": {
   "codemirror_mode": {
    "name": "ipython",
    "version": 3
   },
   "file_extension": ".py",
   "mimetype": "text/x-python",
   "name": "python",
   "nbconvert_exporter": "python",
   "pygments_lexer": "ipython3",
   "version": "3.11.6"
  },
  "orig_nbformat": 4
 },
 "nbformat": 4,
 "nbformat_minor": 2
}
