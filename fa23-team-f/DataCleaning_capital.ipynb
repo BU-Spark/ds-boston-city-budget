{
  "cells": [
    {
      "cell_type": "code",
      "execution_count": null,
      "metadata": {
        "colab": {
          "base_uri": "https://localhost:8080/"
        },
        "id": "m2u7V_kHUw_t",
        "outputId": "a0402b16-bab8-44f0-b3f8-bd359c9d5aa5"
      },
      "outputs": [
        {
          "name": "stdout",
          "output_type": "stream",
          "text": [
            "Drive already mounted at /content/drive; to attempt to forcibly remount, call drive.mount(\"/content/drive\", force_remount=True).\n"
          ]
        }
      ],
      "source": [
        "from google.colab import drive\n",
        "drive.mount('/content/drive')"
      ]
    },
    {
      "cell_type": "code",
      "execution_count": 22,
      "metadata": {
        "id": "wq_ftl3VVJuG"
      },
      "outputs": [],
      "source": [
        "import pandas as pd\n",
        "df = pd.read_csv(\"data/fy24-capital-budget-plan-recommended.csv\")"
      ]
    },
    {
      "cell_type": "code",
      "execution_count": 23,
      "metadata": {
        "colab": {
          "base_uri": "https://localhost:8080/"
        },
        "id": "RGesVlrDVc09",
        "outputId": "5b2372f2-0936-4e7e-b314-37cb0d6f4b12"
      },
      "outputs": [
        {
          "name": "stdout",
          "output_type": "stream",
          "text": [
            "(433, 22)\n"
          ]
        }
      ],
      "source": [
        "print(df.shape)"
      ]
    },
    {
      "cell_type": "code",
      "execution_count": 24,
      "metadata": {
        "colab": {
          "base_uri": "https://localhost:8080/"
        },
        "id": "ycqHhUwsVgiT",
        "outputId": "ca613654-93ef-4a55-8e78-bbb8bf9e5135"
      },
      "outputs": [
        {
          "data": {
            "text/plain": [
              "Index(['Department', 'Project_Name', 'Scope_Of_Work', 'PM_Department',\n",
              "       'Project_Status', 'Neighborhood', 'Authorization_Existing',\n",
              "       'Authorization_FY', 'Authorization_Future', ' Grant_Existing ',\n",
              "       ' Grant_FY ', ' Grant_Future ', 'GO_Expended', 'Capital_Year_0',\n",
              "       ' CapitalYear_1 ', 'Capital_Year_25', 'Grant_Expended', 'Grant_Year_0',\n",
              "       ' Grant_Year_1 ', 'GrantYear_25', 'External_Funds',\n",
              "       'Total_Project_Budget'],\n",
              "      dtype='object')"
            ]
          },
          "execution_count": 24,
          "metadata": {},
          "output_type": "execute_result"
        }
      ],
      "source": [
        "df.columns"
      ]
    },
    {
      "cell_type": "code",
      "execution_count": 25,
      "metadata": {
        "colab": {
          "base_uri": "https://localhost:8080/"
        },
        "id": "r-MsXsaNX89-",
        "outputId": "dc9c92a0-ad37-4d72-cadf-67f2069f2588"
      },
      "outputs": [],
      "source": [
        "df = df.drop_duplicates()"
      ]
    },
    {
      "cell_type": "code",
      "execution_count": 26,
      "metadata": {
        "id": "T_kOwH5eYee5"
      },
      "outputs": [],
      "source": [
        "df.fillna(0, inplace=True)"
      ]
    },
    {
      "cell_type": "code",
      "execution_count": 27,
      "metadata": {
        "colab": {
          "base_uri": "https://localhost:8080/"
        },
        "id": "omGkgWaWYprB",
        "outputId": "dd403f47-05ac-4dbf-92a8-c3e342ac3d39"
      },
      "outputs": [
        {
          "name": "stdout",
          "output_type": "stream",
          "text": [
            "<class 'pandas.core.frame.DataFrame'>\n",
            "RangeIndex: 433 entries, 0 to 432\n",
            "Data columns (total 22 columns):\n",
            " #   Column                  Non-Null Count  Dtype \n",
            "---  ------                  --------------  ----- \n",
            " 0   Department              433 non-null    object\n",
            " 1   Project_Name            433 non-null    object\n",
            " 2   Scope_Of_Work           433 non-null    object\n",
            " 3   PM_Department           433 non-null    object\n",
            " 4   Project_Status          433 non-null    object\n",
            " 5   Neighborhood            433 non-null    object\n",
            " 6   Authorization_Existing  433 non-null    int64 \n",
            " 7   Authorization_FY        433 non-null    int64 \n",
            " 8   Authorization_Future    433 non-null    int64 \n",
            " 9    Grant_Existing         433 non-null    int64 \n",
            " 10   Grant_FY               433 non-null    int64 \n",
            " 11   Grant_Future           433 non-null    int64 \n",
            " 12  GO_Expended             433 non-null    int64 \n",
            " 13  Capital_Year_0          433 non-null    int64 \n",
            " 14   CapitalYear_1          433 non-null    int64 \n",
            " 15  Capital_Year_25         433 non-null    int64 \n",
            " 16  Grant_Expended          433 non-null    int64 \n",
            " 17  Grant_Year_0            433 non-null    int64 \n",
            " 18   Grant_Year_1           433 non-null    int64 \n",
            " 19  GrantYear_25            433 non-null    int64 \n",
            " 20  External_Funds          433 non-null    int64 \n",
            " 21  Total_Project_Budget    433 non-null    object\n",
            "dtypes: int64(15), object(7)\n",
            "memory usage: 74.5+ KB\n"
          ]
        }
      ],
      "source": [
        "df.info()"
      ]
    },
    {
      "cell_type": "code",
      "execution_count": 28,
      "metadata": {
        "id": "-wLZIwg7aeOn"
      },
      "outputs": [],
      "source": [
        "df['Total_Project_Budget'] = pd.to_numeric(df['Total_Project_Budget'], errors='coerce')\n",
        "# Handling any new missing values after conversion\n",
        "df['Total_Project_Budget'].fillna(df['Total_Project_Budget'].median(), inplace=True)"
      ]
    },
    {
      "cell_type": "code",
      "execution_count": 29,
      "metadata": {
        "colab": {
          "base_uri": "https://localhost:8080/"
        },
        "id": "YMauIwYxb7Z-",
        "outputId": "608f1b22-14a8-4b87-c00e-79216dcd9288"
      },
      "outputs": [
        {
          "name": "stdout",
          "output_type": "stream",
          "text": [
            "                              Department  \\\n",
            "0  Boston Centers for Youth and Families   \n",
            "1  Boston Centers for Youth and Families   \n",
            "2  Boston Centers for Youth and Families   \n",
            "3  Boston Centers for Youth and Families   \n",
            "4  Boston Centers for Youth and Families   \n",
            "\n",
            "                                 Project_Name  \\\n",
            "0       BCYF Security and Technology Upgrades   \n",
            "1  BCYF Tobin Community Center Retaining Wall   \n",
            "2             BCYF North End Community Center   \n",
            "3                                Pool Repairs   \n",
            "4                        Youth Budget Round 4   \n",
            "\n",
            "                                       Scope_Of_Work  \\\n",
            "0  improvements to technology infrastructure and ...   \n",
            "1  repair or replace the retaining wall adjacent ...   \n",
            "2  develop a design for a new north end community...   \n",
            "3  renovate and upgrade locker rooms and pools in...   \n",
            "4  engage youth across the city to create a capit...   \n",
            "\n",
            "                           PM_Department           Project_Status  \\\n",
            "0  Boston Centers for Youth and Families          To Be Scheduled   \n",
            "1           Public Facilities Department                In Design   \n",
            "2           Public Facilities Department                In Design   \n",
            "3  Boston Centers for Youth and Families           Annual Program   \n",
            "4        Youth Engagement and Employment  Implementation Underway   \n",
            "\n",
            "   Neighborhood  Authorization_Existing  Authorization_FY  \\\n",
            "0      Citywide                  750000           1250000   \n",
            "1  Mission Hill                 1800000                 0   \n",
            "2     North End                 5000000          63000000   \n",
            "3      Citywide                 1300000           1000000   \n",
            "4      Citywide                 1000000                 0   \n",
            "\n",
            "   Authorization_Future   Grant_Existing   ...  GO_Expended  Capital_Year_0  \\\n",
            "0                     0                 0  ...            0               0   \n",
            "1                     0                 0  ...            0          100000   \n",
            "2                     0                 0  ...            0          400000   \n",
            "3                     0                 0  ...       383450          450000   \n",
            "4                     0                 0  ...        17140           25000   \n",
            "\n",
            "    CapitalYear_1   Capital_Year_25  Grant_Expended  Grant_Year_0  \\\n",
            "0           100000          1900000               0             0   \n",
            "1          1500000           200000               0             0   \n",
            "2          3000000         64600000               0             0   \n",
            "3           700000           766550               0             0   \n",
            "4           250000           707860               0             0   \n",
            "\n",
            "    Grant_Year_1   GrantYear_25  External_Funds  Total_Project_Budget  \n",
            "0               0             0               0             2000000.0  \n",
            "1               0             0               0             1800000.0  \n",
            "2               0             0        20000000            88000000.0  \n",
            "3               0             0               0             2300000.0  \n",
            "4               0             0               0             1000000.0  \n",
            "\n",
            "[5 rows x 22 columns]\n"
          ]
        }
      ],
      "source": [
        "from sklearn.preprocessing import LabelEncoder\n",
        "le = LabelEncoder()\n",
        "#encoding categories into numericla values\n",
        "#df['Department'] = le.fit_transform(df['Department'])\n",
        "\n",
        "#for text data processing, if needed, for example, making all text lowercase, removing punctuation, etc.\n",
        "df['Scope_Of_Work'] = df['Scope_Of_Work'].str.lower().str.replace('[^\\w\\s]', '')\n",
        "\n",
        "# Further steps such as handling outliers, feature engineering, etc., can be added as needed.\n",
        "\n",
        "# Check the DataFrame after cleaning\n",
        "print(df.head())"
      ]
    },
    {
      "cell_type": "code",
      "execution_count": 30,
      "metadata": {
        "id": "TkUJf9AccRIh"
      },
      "outputs": [
        {
          "data": {
            "text/html": [
              "<div>\n",
              "<style scoped>\n",
              "    .dataframe tbody tr th:only-of-type {\n",
              "        vertical-align: middle;\n",
              "    }\n",
              "\n",
              "    .dataframe tbody tr th {\n",
              "        vertical-align: top;\n",
              "    }\n",
              "\n",
              "    .dataframe thead th {\n",
              "        text-align: right;\n",
              "    }\n",
              "</style>\n",
              "<table border=\"1\" class=\"dataframe\">\n",
              "  <thead>\n",
              "    <tr style=\"text-align: right;\">\n",
              "      <th></th>\n",
              "      <th>Department</th>\n",
              "      <th>Project_Name</th>\n",
              "      <th>Scope_Of_Work</th>\n",
              "      <th>PM_Department</th>\n",
              "      <th>Project_Status</th>\n",
              "      <th>Neighborhood</th>\n",
              "      <th>Authorization_Existing</th>\n",
              "      <th>Authorization_FY</th>\n",
              "      <th>Authorization_Future</th>\n",
              "      <th>Grant_Existing</th>\n",
              "      <th>...</th>\n",
              "      <th>GO_Expended</th>\n",
              "      <th>Capital_Year_0</th>\n",
              "      <th>CapitalYear_1</th>\n",
              "      <th>Capital_Year_25</th>\n",
              "      <th>Grant_Expended</th>\n",
              "      <th>Grant_Year_0</th>\n",
              "      <th>Grant_Year_1</th>\n",
              "      <th>GrantYear_25</th>\n",
              "      <th>External_Funds</th>\n",
              "      <th>Total_Project_Budget</th>\n",
              "    </tr>\n",
              "  </thead>\n",
              "  <tbody>\n",
              "    <tr>\n",
              "      <th>0</th>\n",
              "      <td>Boston Centers for Youth and Families</td>\n",
              "      <td>BCYF Security and Technology Upgrades</td>\n",
              "      <td>improvements to technology infrastructure and ...</td>\n",
              "      <td>Boston Centers for Youth and Families</td>\n",
              "      <td>To Be Scheduled</td>\n",
              "      <td>Citywide</td>\n",
              "      <td>750000</td>\n",
              "      <td>1250000</td>\n",
              "      <td>0</td>\n",
              "      <td>0</td>\n",
              "      <td>...</td>\n",
              "      <td>0</td>\n",
              "      <td>0</td>\n",
              "      <td>100000</td>\n",
              "      <td>1900000</td>\n",
              "      <td>0</td>\n",
              "      <td>0</td>\n",
              "      <td>0</td>\n",
              "      <td>0</td>\n",
              "      <td>0</td>\n",
              "      <td>2000000.0</td>\n",
              "    </tr>\n",
              "    <tr>\n",
              "      <th>1</th>\n",
              "      <td>Boston Centers for Youth and Families</td>\n",
              "      <td>BCYF Tobin Community Center Retaining Wall</td>\n",
              "      <td>repair or replace the retaining wall adjacent ...</td>\n",
              "      <td>Public Facilities Department</td>\n",
              "      <td>In Design</td>\n",
              "      <td>Mission Hill</td>\n",
              "      <td>1800000</td>\n",
              "      <td>0</td>\n",
              "      <td>0</td>\n",
              "      <td>0</td>\n",
              "      <td>...</td>\n",
              "      <td>0</td>\n",
              "      <td>100000</td>\n",
              "      <td>1500000</td>\n",
              "      <td>200000</td>\n",
              "      <td>0</td>\n",
              "      <td>0</td>\n",
              "      <td>0</td>\n",
              "      <td>0</td>\n",
              "      <td>0</td>\n",
              "      <td>1800000.0</td>\n",
              "    </tr>\n",
              "    <tr>\n",
              "      <th>2</th>\n",
              "      <td>Boston Centers for Youth and Families</td>\n",
              "      <td>BCYF North End Community Center</td>\n",
              "      <td>develop a design for a new north end community...</td>\n",
              "      <td>Public Facilities Department</td>\n",
              "      <td>In Design</td>\n",
              "      <td>North End</td>\n",
              "      <td>5000000</td>\n",
              "      <td>63000000</td>\n",
              "      <td>0</td>\n",
              "      <td>0</td>\n",
              "      <td>...</td>\n",
              "      <td>0</td>\n",
              "      <td>400000</td>\n",
              "      <td>3000000</td>\n",
              "      <td>64600000</td>\n",
              "      <td>0</td>\n",
              "      <td>0</td>\n",
              "      <td>0</td>\n",
              "      <td>0</td>\n",
              "      <td>20000000</td>\n",
              "      <td>88000000.0</td>\n",
              "    </tr>\n",
              "    <tr>\n",
              "      <th>3</th>\n",
              "      <td>Boston Centers for Youth and Families</td>\n",
              "      <td>Pool Repairs</td>\n",
              "      <td>renovate and upgrade locker rooms and pools in...</td>\n",
              "      <td>Boston Centers for Youth and Families</td>\n",
              "      <td>Annual Program</td>\n",
              "      <td>Citywide</td>\n",
              "      <td>1300000</td>\n",
              "      <td>1000000</td>\n",
              "      <td>0</td>\n",
              "      <td>0</td>\n",
              "      <td>...</td>\n",
              "      <td>383450</td>\n",
              "      <td>450000</td>\n",
              "      <td>700000</td>\n",
              "      <td>766550</td>\n",
              "      <td>0</td>\n",
              "      <td>0</td>\n",
              "      <td>0</td>\n",
              "      <td>0</td>\n",
              "      <td>0</td>\n",
              "      <td>2300000.0</td>\n",
              "    </tr>\n",
              "    <tr>\n",
              "      <th>4</th>\n",
              "      <td>Boston Centers for Youth and Families</td>\n",
              "      <td>Youth Budget Round 4</td>\n",
              "      <td>engage youth across the city to create a capit...</td>\n",
              "      <td>Youth Engagement and Employment</td>\n",
              "      <td>Implementation Underway</td>\n",
              "      <td>Citywide</td>\n",
              "      <td>1000000</td>\n",
              "      <td>0</td>\n",
              "      <td>0</td>\n",
              "      <td>0</td>\n",
              "      <td>...</td>\n",
              "      <td>17140</td>\n",
              "      <td>25000</td>\n",
              "      <td>250000</td>\n",
              "      <td>707860</td>\n",
              "      <td>0</td>\n",
              "      <td>0</td>\n",
              "      <td>0</td>\n",
              "      <td>0</td>\n",
              "      <td>0</td>\n",
              "      <td>1000000.0</td>\n",
              "    </tr>\n",
              "  </tbody>\n",
              "</table>\n",
              "<p>5 rows × 22 columns</p>\n",
              "</div>"
            ],
            "text/plain": [
              "                              Department  \\\n",
              "0  Boston Centers for Youth and Families   \n",
              "1  Boston Centers for Youth and Families   \n",
              "2  Boston Centers for Youth and Families   \n",
              "3  Boston Centers for Youth and Families   \n",
              "4  Boston Centers for Youth and Families   \n",
              "\n",
              "                                 Project_Name  \\\n",
              "0       BCYF Security and Technology Upgrades   \n",
              "1  BCYF Tobin Community Center Retaining Wall   \n",
              "2             BCYF North End Community Center   \n",
              "3                                Pool Repairs   \n",
              "4                        Youth Budget Round 4   \n",
              "\n",
              "                                       Scope_Of_Work  \\\n",
              "0  improvements to technology infrastructure and ...   \n",
              "1  repair or replace the retaining wall adjacent ...   \n",
              "2  develop a design for a new north end community...   \n",
              "3  renovate and upgrade locker rooms and pools in...   \n",
              "4  engage youth across the city to create a capit...   \n",
              "\n",
              "                           PM_Department           Project_Status  \\\n",
              "0  Boston Centers for Youth and Families          To Be Scheduled   \n",
              "1           Public Facilities Department                In Design   \n",
              "2           Public Facilities Department                In Design   \n",
              "3  Boston Centers for Youth and Families           Annual Program   \n",
              "4        Youth Engagement and Employment  Implementation Underway   \n",
              "\n",
              "   Neighborhood  Authorization_Existing  Authorization_FY  \\\n",
              "0      Citywide                  750000           1250000   \n",
              "1  Mission Hill                 1800000                 0   \n",
              "2     North End                 5000000          63000000   \n",
              "3      Citywide                 1300000           1000000   \n",
              "4      Citywide                 1000000                 0   \n",
              "\n",
              "   Authorization_Future   Grant_Existing   ...  GO_Expended  Capital_Year_0  \\\n",
              "0                     0                 0  ...            0               0   \n",
              "1                     0                 0  ...            0          100000   \n",
              "2                     0                 0  ...            0          400000   \n",
              "3                     0                 0  ...       383450          450000   \n",
              "4                     0                 0  ...        17140           25000   \n",
              "\n",
              "    CapitalYear_1   Capital_Year_25  Grant_Expended  Grant_Year_0  \\\n",
              "0           100000          1900000               0             0   \n",
              "1          1500000           200000               0             0   \n",
              "2          3000000         64600000               0             0   \n",
              "3           700000           766550               0             0   \n",
              "4           250000           707860               0             0   \n",
              "\n",
              "    Grant_Year_1   GrantYear_25  External_Funds  Total_Project_Budget  \n",
              "0               0             0               0             2000000.0  \n",
              "1               0             0               0             1800000.0  \n",
              "2               0             0        20000000            88000000.0  \n",
              "3               0             0               0             2300000.0  \n",
              "4               0             0               0             1000000.0  \n",
              "\n",
              "[5 rows x 22 columns]"
            ]
          },
          "execution_count": 30,
          "metadata": {},
          "output_type": "execute_result"
        }
      ],
      "source": [
        "df.head()"
      ]
    },
    {
      "cell_type": "code",
      "execution_count": 32,
      "metadata": {},
      "outputs": [
        {
          "name": "stdout",
          "output_type": "stream",
          "text": [
            "20\n",
            "413\n",
            "433\n",
            "17\n"
          ]
        }
      ],
      "source": [
        "print(len(df.PM_Department.value_counts()))\n",
        "print(len(df.Scope_Of_Work.value_counts()))\n",
        "print(len(df.Project_Name.value_counts()))\n",
        "print(len(df.Department.value_counts()))"
      ]
    },
    {
      "cell_type": "code",
      "execution_count": 15,
      "metadata": {},
      "outputs": [
        {
          "name": "stdout",
          "output_type": "stream",
          "text": [
            "413\n"
          ]
        }
      ],
      "source": [
        "aggregation_functions = {'price': 'sum', 'amount': 'sum', 'name': 'first'}\n",
        "df_new = df.groupby(df['id']).aggregate(aggregation_functions)"
      ]
    }
  ],
  "metadata": {
    "colab": {
      "provenance": [],
      "toc_visible": true
    },
    "kernelspec": {
      "display_name": "Python 3",
      "name": "python3"
    },
    "language_info": {
      "codemirror_mode": {
        "name": "ipython",
        "version": 3
      },
      "file_extension": ".py",
      "mimetype": "text/x-python",
      "name": "python",
      "nbconvert_exporter": "python",
      "pygments_lexer": "ipython3",
      "version": "3.10.11"
    }
  },
  "nbformat": 4,
  "nbformat_minor": 0
}
