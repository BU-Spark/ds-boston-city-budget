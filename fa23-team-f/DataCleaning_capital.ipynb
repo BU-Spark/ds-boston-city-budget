{
  "nbformat": 4,
  "nbformat_minor": 0,
  "metadata": {
    "colab": {
      "provenance": [],
      "toc_visible": true
    },
    "kernelspec": {
      "name": "python3",
      "display_name": "Python 3"
    },
    "language_info": {
      "name": "python"
    }
  },
  "cells": [
    {
      "cell_type": "code",
      "execution_count": null,
      "metadata": {
        "colab": {
          "base_uri": "https://localhost:8080/"
        },
        "id": "m2u7V_kHUw_t",
        "outputId": "a0402b16-bab8-44f0-b3f8-bd359c9d5aa5"
      },
      "outputs": [
        {
          "output_type": "stream",
          "name": "stdout",
          "text": [
            "Drive already mounted at /content/drive; to attempt to forcibly remount, call drive.mount(\"/content/drive\", force_remount=True).\n"
          ]
        }
      ],
      "source": [
        "from google.colab import drive\n",
        "drive.mount('/content/drive')"
      ]
    },
    {
      "cell_type": "code",
      "source": [
        "import pandas as pd\n",
        "df = pd.read_csv(\"/content/drive/My Drive/DS/fy24-capital-budget-plan-recommended.csv\")"
      ],
      "metadata": {
        "id": "wq_ftl3VVJuG"
      },
      "execution_count": null,
      "outputs": []
    },
    {
      "cell_type": "code",
      "source": [
        "print(df.shape)"
      ],
      "metadata": {
        "colab": {
          "base_uri": "https://localhost:8080/"
        },
        "id": "RGesVlrDVc09",
        "outputId": "5b2372f2-0936-4e7e-b314-37cb0d6f4b12"
      },
      "execution_count": null,
      "outputs": [
        {
          "output_type": "stream",
          "name": "stdout",
          "text": [
            "(433, 22)\n"
          ]
        }
      ]
    },
    {
      "cell_type": "code",
      "source": [
        "df.columns"
      ],
      "metadata": {
        "id": "ycqHhUwsVgiT",
        "colab": {
          "base_uri": "https://localhost:8080/"
        },
        "outputId": "ca613654-93ef-4a55-8e78-bbb8bf9e5135"
      },
      "execution_count": null,
      "outputs": [
        {
          "output_type": "execute_result",
          "data": {
            "text/plain": [
              "Index(['Department', 'Project_Name', 'Scope_Of_Work', 'PM_Department',\n",
              "       'Project_Status', 'Neighborhood', 'Authorization_Existing',\n",
              "       'Authorization_FY', 'Authorization_Future', ' Grant_Existing ',\n",
              "       ' Grant_FY ', ' Grant_Future ', 'GO_Expended', 'Capital_Year_0',\n",
              "       ' CapitalYear_1 ', 'Capital_Year_25', 'Grant_Expended', 'Grant_Year_0',\n",
              "       ' Grant_Year_1 ', 'GrantYear_25', 'External_Funds',\n",
              "       'Total_Project_Budget'],\n",
              "      dtype='object')"
            ]
          },
          "metadata": {},
          "execution_count": 4
        }
      ]
    },
    {
      "cell_type": "code",
      "source": [
        "df = df.drop_duplicates()"
      ],
      "metadata": {
        "colab": {
          "base_uri": "https://localhost:8080/"
        },
        "id": "r-MsXsaNX89-",
        "outputId": "dc9c92a0-ad37-4d72-cadf-67f2069f2588"
      },
      "execution_count": null,
      "outputs": [
        {
          "output_type": "execute_result",
          "data": {
            "text/plain": [
              "(433, 22)"
            ]
          },
          "metadata": {},
          "execution_count": 7
        }
      ]
    },
    {
      "cell_type": "code",
      "source": [
        "df.fillna(0, inplace=True)"
      ],
      "metadata": {
        "id": "T_kOwH5eYee5"
      },
      "execution_count": null,
      "outputs": []
    },
    {
      "cell_type": "code",
      "source": [
        "df.info()"
      ],
      "metadata": {
        "colab": {
          "base_uri": "https://localhost:8080/"
        },
        "id": "omGkgWaWYprB",
        "outputId": "dd403f47-05ac-4dbf-92a8-c3e342ac3d39"
      },
      "execution_count": null,
      "outputs": [
        {
          "output_type": "stream",
          "name": "stdout",
          "text": [
            "<class 'pandas.core.frame.DataFrame'>\n",
            "Int64Index: 433 entries, 0 to 432\n",
            "Data columns (total 22 columns):\n",
            " #   Column                  Non-Null Count  Dtype \n",
            "---  ------                  --------------  ----- \n",
            " 0   Department              433 non-null    object\n",
            " 1   Project_Name            433 non-null    object\n",
            " 2   Scope_Of_Work           433 non-null    object\n",
            " 3   PM_Department           433 non-null    object\n",
            " 4   Project_Status          433 non-null    object\n",
            " 5   Neighborhood            433 non-null    object\n",
            " 6   Authorization_Existing  433 non-null    int64 \n",
            " 7   Authorization_FY        433 non-null    int64 \n",
            " 8   Authorization_Future    433 non-null    int64 \n",
            " 9    Grant_Existing         433 non-null    int64 \n",
            " 10   Grant_FY               433 non-null    int64 \n",
            " 11   Grant_Future           433 non-null    int64 \n",
            " 12  GO_Expended             433 non-null    int64 \n",
            " 13  Capital_Year_0          433 non-null    int64 \n",
            " 14   CapitalYear_1          433 non-null    int64 \n",
            " 15  Capital_Year_25         433 non-null    int64 \n",
            " 16  Grant_Expended          433 non-null    int64 \n",
            " 17  Grant_Year_0            433 non-null    int64 \n",
            " 18   Grant_Year_1           433 non-null    int64 \n",
            " 19  GrantYear_25            433 non-null    int64 \n",
            " 20  External_Funds          433 non-null    int64 \n",
            " 21  Total_Project_Budget    433 non-null    object\n",
            "dtypes: int64(15), object(7)\n",
            "memory usage: 77.8+ KB\n"
          ]
        }
      ]
    },
    {
      "cell_type": "code",
      "source": [
        "df['Total_Project_Budget'] = pd.to_numeric(df['Total_Project_Budget'], errors='coerce')\n",
        "# Handling any new missing values after conversion\n",
        "df['Total_Project_Budget'].fillna(df['Total_Project_Budget'].median(), inplace=True)"
      ],
      "metadata": {
        "id": "-wLZIwg7aeOn"
      },
      "execution_count": null,
      "outputs": []
    },
    {
      "cell_type": "code",
      "source": [
        "from sklearn.preprocessing import LabelEncoder\n",
        "le = LabelEncoder()\n",
        "#encoding categories into numericla values\n",
        "df['Department'] = le.fit_transform(df['Department'])\n",
        "\n",
        "#for text data processing, if needed, for example, making all text lowercase, removing punctuation, etc.\n",
        "df['Scope_Of_Work'] = df['Scope_Of_Work'].str.lower().str.replace('[^\\w\\s]', '')\n",
        "\n",
        "# Further steps such as handling outliers, feature engineering, etc., can be added as needed.\n",
        "\n",
        "# Check the DataFrame after cleaning\n",
        "print(df.head())"
      ],
      "metadata": {
        "colab": {
          "base_uri": "https://localhost:8080/"
        },
        "id": "YMauIwYxb7Z-",
        "outputId": "608f1b22-14a8-4b87-c00e-79216dcd9288"
      },
      "execution_count": null,
      "outputs": [
        {
          "output_type": "stream",
          "name": "stdout",
          "text": [
            "   Department                                Project_Name  \\\n",
            "0           0       BCYF Security and Technology Upgrades   \n",
            "1           0  BCYF Tobin Community Center Retaining Wall   \n",
            "2           0             BCYF North End Community Center   \n",
            "3           0                                Pool Repairs   \n",
            "4           0                        Youth Budget Round 4   \n",
            "\n",
            "                                       Scope_Of_Work  \\\n",
            "0  improvements to technology infrastructure and ...   \n",
            "1  repair or replace the retaining wall adjacent ...   \n",
            "2  develop a design for a new north end community...   \n",
            "3  renovate and upgrade locker rooms and pools in...   \n",
            "4  engage youth across the city to create a capit...   \n",
            "\n",
            "                           PM_Department           Project_Status  \\\n",
            "0  Boston Centers for Youth and Families          To Be Scheduled   \n",
            "1           Public Facilities Department                In Design   \n",
            "2           Public Facilities Department                In Design   \n",
            "3  Boston Centers for Youth and Families           Annual Program   \n",
            "4        Youth Engagement and Employment  Implementation Underway   \n",
            "\n",
            "   Neighborhood  Authorization_Existing  Authorization_FY  \\\n",
            "0      Citywide                  750000           1250000   \n",
            "1  Mission Hill                 1800000                 0   \n",
            "2     North End                 5000000          63000000   \n",
            "3      Citywide                 1300000           1000000   \n",
            "4      Citywide                 1000000                 0   \n",
            "\n",
            "   Authorization_Future   Grant_Existing   ...  GO_Expended  Capital_Year_0  \\\n",
            "0                     0                 0  ...            0               0   \n",
            "1                     0                 0  ...            0          100000   \n",
            "2                     0                 0  ...            0          400000   \n",
            "3                     0                 0  ...       383450          450000   \n",
            "4                     0                 0  ...        17140           25000   \n",
            "\n",
            "    CapitalYear_1   Capital_Year_25  Grant_Expended  Grant_Year_0  \\\n",
            "0           100000          1900000               0             0   \n",
            "1          1500000           200000               0             0   \n",
            "2          3000000         64600000               0             0   \n",
            "3           700000           766550               0             0   \n",
            "4           250000           707860               0             0   \n",
            "\n",
            "    Grant_Year_1   GrantYear_25  External_Funds  Total_Project_Budget  \n",
            "0               0             0               0               2000000  \n",
            "1               0             0               0               1800000  \n",
            "2               0             0        20000000              88000000  \n",
            "3               0             0               0               2300000  \n",
            "4               0             0               0               1000000  \n",
            "\n",
            "[5 rows x 22 columns]\n"
          ]
        },
        {
          "output_type": "stream",
          "name": "stderr",
          "text": [
            "<ipython-input-10-eb23e1f46d7c>:7: FutureWarning: The default value of regex will change from True to False in a future version.\n",
            "  df['Scope_Of_Work'] = df['Scope_Of_Work'].str.lower().str.replace('[^\\w\\s]', '')\n"
          ]
        }
      ]
    },
    {
      "cell_type": "code",
      "source": [],
      "metadata": {
        "id": "TkUJf9AccRIh"
      },
      "execution_count": null,
      "outputs": []
    }
  ]
}