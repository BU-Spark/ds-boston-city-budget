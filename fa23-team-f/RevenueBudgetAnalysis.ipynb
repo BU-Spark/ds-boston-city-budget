{
  "cells": [
    {
      "cell_type": "markdown",
      "metadata": {
        "id": "5Toaa6IXvf7W"
      },
      "source": [
        "# Data Cleaning For Revenue Budget\n",
        "## Mount and load file"
      ]
    },
    {
      "cell_type": "code",
      "execution_count": 21,
      "metadata": {
        "id": "Ka38jC0YswKj"
      },
      "outputs": [],
      "source": [
        "import pandas as pd\n",
        "import matplotlib.pyplot as plt"
      ]
    },
    {
      "cell_type": "code",
      "execution_count": 22,
      "metadata": {
        "id": "FPjSrmC-sxic"
      },
      "outputs": [],
      "source": [
        "dset = pd.read_csv(\"data/fy24-adopted-revenue-budget.csv\")"
      ]
    },
    {
      "cell_type": "markdown",
      "metadata": {
        "id": "a0WTGi_zvqsb"
      },
      "source": [
        "## Explore dataset info"
      ]
    },
    {
      "cell_type": "code",
      "execution_count": 23,
      "metadata": {
        "colab": {
          "base_uri": "https://localhost:8080/"
        },
        "id": "bPponjD7s0Mw",
        "outputId": "4ad86111-aecd-4881-a702-b89e78032a9b"
      },
      "outputs": [
        {
          "name": "stdout",
          "output_type": "stream",
          "text": [
            "    Revenue Category                     Account  Cabinet  \\\n",
            "0  Property Tax Levy           Real Estate Taxes  Finance   \n",
            "1  Property Tax Levy       Personal Property Tax  Finance   \n",
            "2  Property Tax Levy        Property Tax Overlay  Finance   \n",
            "3            Excises    MV Excise - Current Year  Finance   \n",
            "4            Excises      MV Excise - Prior Year  Finance   \n",
            "5            Excises   MV Excise - 2 Years Prior  Finance   \n",
            "6            Excises   MV Excise - 3 Years Prior  Finance   \n",
            "7            Excises  MV Excise - 4+ Years Prior  Finance   \n",
            "8            Excises                 Boat Excise  Finance   \n",
            "9            Excises            Meals Excise Tax  Finance   \n",
            "\n",
            "             Department    FY21 Actual    FY22 Actual FY23 Appropriation  \\\n",
            "0  Assessing Department  2,490,082,613  2,630,469,593      2,784,133,324   \n",
            "1  Assessing Department    189,939,113    196,499,737        209,010,762   \n",
            "2  Assessing Department     -3,735,387    -33,174,590        -29,845,007   \n",
            "3  Assessing Department     36,012,943     36,227,381         34,000,000   \n",
            "4  Assessing Department     15,202,795     21,692,077         17,500,000   \n",
            "5  Assessing Department      1,859,112      2,042,710          1,500,000   \n",
            "6  Assessing Department        557,497        442,491            400,000   \n",
            "7  Assessing Department        551,209        398,316            175,000   \n",
            "8  Assessing Department            419             30                  0   \n",
            "9   Treasury Department     14,202,801     29,409,214         22,000,000   \n",
            "\n",
            "    FY24 Adopted  Unnamed: 8 Unnamed: 9  \n",
            "0  2,913,736,657         NaN        NaN  \n",
            "1    214,236,031         NaN        NaN  \n",
            "2    -30,000,000         NaN        NaN  \n",
            "3     34,000,000         NaN        NaN  \n",
            "4     18,000,000         NaN        NaN  \n",
            "5      1,530,000         NaN        NaN  \n",
            "6        360,000         NaN        NaN  \n",
            "7        200,000         NaN        NaN  \n",
            "8         30,000         NaN        NaN  \n",
            "9     35,000,000         NaN        NaN  \n"
          ]
        }
      ],
      "source": [
        "print(dset.head(10))\n"
      ]
    },
    {
      "cell_type": "code",
      "execution_count": 24,
      "metadata": {
        "colab": {
          "base_uri": "https://localhost:8080/"
        },
        "id": "Ih0ZnGMrtNuz",
        "outputId": "b859a73a-654c-439e-d45b-c36d670bd838"
      },
      "outputs": [
        {
          "name": "stdout",
          "output_type": "stream",
          "text": [
            "<class 'pandas.core.frame.DataFrame'>\n",
            "RangeIndex: 199 entries, 0 to 198\n",
            "Data columns (total 10 columns):\n",
            " #   Column              Non-Null Count  Dtype  \n",
            "---  ------              --------------  -----  \n",
            " 0   Revenue Category    199 non-null    object \n",
            " 1   Account             199 non-null    object \n",
            " 2   Cabinet             199 non-null    object \n",
            " 3   Department          199 non-null    object \n",
            " 4   FY21 Actual         199 non-null    object \n",
            " 5   FY22 Actual         199 non-null    object \n",
            " 6   FY23 Appropriation  199 non-null    object \n",
            " 7   FY24 Adopted        199 non-null    object \n",
            " 8   Unnamed: 8          0 non-null      float64\n",
            " 9   Unnamed: 9          1 non-null      object \n",
            "dtypes: float64(1), object(9)\n",
            "memory usage: 15.7+ KB\n"
          ]
        }
      ],
      "source": [
        "dset.info()"
      ]
    },
    {
      "cell_type": "markdown",
      "metadata": {
        "id": "oh0H-qKYv5Bs"
      },
      "source": [
        "## Drop columns with NaN values"
      ]
    },
    {
      "cell_type": "code",
      "execution_count": 25,
      "metadata": {
        "colab": {
          "base_uri": "https://localhost:8080/"
        },
        "id": "_mssCRwJt3WO",
        "outputId": "c0015b96-1dd2-49e8-b3b2-90901aba0a56"
      },
      "outputs": [
        {
          "data": {
            "text/plain": [
              "Revenue Category        0\n",
              "Account                 0\n",
              "Cabinet                 0\n",
              "Department              0\n",
              "FY21 Actual             0\n",
              "FY22 Actual             0\n",
              "FY23 Appropriation      0\n",
              "FY24 Adopted            0\n",
              "Unnamed: 8            199\n",
              "Unnamed: 9            198\n",
              "dtype: int64"
            ]
          },
          "execution_count": 25,
          "metadata": {},
          "output_type": "execute_result"
        }
      ],
      "source": [
        "dset.isnull().sum()"
      ]
    },
    {
      "cell_type": "code",
      "execution_count": 26,
      "metadata": {
        "colab": {
          "base_uri": "https://localhost:8080/"
        },
        "id": "Q7Ex3SoQvTL3",
        "outputId": "06b2d9a1-4d95-44bb-d6e9-4eb2a56d4818"
      },
      "outputs": [
        {
          "data": {
            "text/plain": [
              "<bound method NDFrame.head of           Revenue Category                        Account  \\\n",
              "0        Property Tax Levy              Real Estate Taxes   \n",
              "1        Property Tax Levy          Personal Property Tax   \n",
              "2        Property Tax Levy           Property Tax Overlay   \n",
              "3                  Excises       MV Excise - Current Year   \n",
              "4                  Excises         MV Excise - Prior Year   \n",
              "..                     ...                            ...   \n",
              "194        Available Funds    Approp. Cemetery Trust Fund   \n",
              "195        Available Funds         Approp. Parking Meters   \n",
              "196  Non-Recurring Revenue           American Rescue Plan   \n",
              "197  Non-Recurring Revenue           Approp. Fund Balance   \n",
              "198  Non-Recurring Revenue  Approp. Surplus Property Fund   \n",
              "\n",
              "                              Cabinet                     Department  \\\n",
              "0                             Finance           Assessing Department   \n",
              "1                             Finance           Assessing Department   \n",
              "2                             Finance           Assessing Department   \n",
              "3                             Finance           Assessing Department   \n",
              "4                             Finance           Assessing Department   \n",
              "..                                ...                            ...   \n",
              "194  Environment, Energy & Open Space  Parks & Recreation Department   \n",
              "195                           Streets      Transportation Department   \n",
              "196                           Finance            Auditing Department   \n",
              "197                           Finance            Auditing Department   \n",
              "198                           Finance            Treasury Department   \n",
              "\n",
              "       FY21 Actual    FY22 Actual FY23 Appropriation   FY24 Adopted  \n",
              "0    2,490,082,613  2,630,469,593      2,784,133,324  2,913,736,657  \n",
              "1      189,939,113    196,499,737        209,010,762    214,236,031  \n",
              "2       -3,735,387    -33,174,590        -29,845,007    -30,000,000  \n",
              "3       36,012,943     36,227,381         34,000,000     34,000,000  \n",
              "4       15,202,795     21,692,077         17,500,000     18,000,000  \n",
              "..             ...            ...                ...            ...  \n",
              "194              0              0            950,000        950,000  \n",
              "195     20,000,000              0         30,000,000     30,000,000  \n",
              "196              0     55,000,000         40,000,000              0  \n",
              "197     40,000,000              0         40,000,000     40,000,000  \n",
              "198              0              0                  0              0  \n",
              "\n",
              "[199 rows x 8 columns]>"
            ]
          },
          "execution_count": 26,
          "metadata": {},
          "output_type": "execute_result"
        }
      ],
      "source": [
        "dset = dset.dropna(axis=1)\n",
        "dset.head"
      ]
    },
    {
      "cell_type": "code",
      "execution_count": 27,
      "metadata": {
        "colab": {
          "base_uri": "https://localhost:8080/"
        },
        "id": "JIAHxB41v-3O",
        "outputId": "23d744e4-2785-4b67-f127-5e86992a28eb"
      },
      "outputs": [
        {
          "name": "stdout",
          "output_type": "stream",
          "text": [
            "Result of checking if null value exists: False\n"
          ]
        }
      ],
      "source": [
        "null_res = pd.isnull(dset)\n",
        "print(f\"Result of checking if null value exists: {True if True in null_res else False}\")"
      ]
    },
    {
      "cell_type": "markdown",
      "metadata": {
        "id": "fWbYgqBTwfH6"
      },
      "source": [
        "## Remove duplicates, if any"
      ]
    },
    {
      "cell_type": "code",
      "execution_count": 28,
      "metadata": {
        "colab": {
          "base_uri": "https://localhost:8080/"
        },
        "id": "yG6rEbkZwGCP",
        "outputId": "acc46095-dc61-48a0-8fbd-6c1d5c1e72a8"
      },
      "outputs": [
        {
          "name": "stdout",
          "output_type": "stream",
          "text": [
            "<class 'pandas.core.frame.DataFrame'>\n",
            "Int64Index: 199 entries, 0 to 198\n",
            "Data columns (total 8 columns):\n",
            " #   Column              Non-Null Count  Dtype \n",
            "---  ------              --------------  ----- \n",
            " 0   Revenue Category    199 non-null    object\n",
            " 1   Account             199 non-null    object\n",
            " 2   Cabinet             199 non-null    object\n",
            " 3   Department          199 non-null    object\n",
            " 4   FY21 Actual         199 non-null    object\n",
            " 5   FY22 Actual         199 non-null    object\n",
            " 6   FY23 Appropriation  199 non-null    object\n",
            " 7   FY24 Adopted        199 non-null    object\n",
            "dtypes: object(8)\n",
            "memory usage: 14.0+ KB\n",
            "None\n"
          ]
        }
      ],
      "source": [
        "dset_non_dup = dset.drop_duplicates()\n",
        "print(dset_non_dup.info())"
      ]
    },
    {
      "cell_type": "markdown",
      "metadata": {
        "id": "CyHHPe4Oz88j"
      },
      "source": [
        "## Convert Money Data into numerical data"
      ]
    },
    {
      "cell_type": "code",
      "execution_count": 30,
      "metadata": {
        "colab": {
          "base_uri": "https://localhost:8080/",
          "height": 310
        },
        "id": "V-MBnCCvz8Ya",
        "outputId": "6e320553-bd2b-467b-b043-55610d39cdde"
      },
      "outputs": [
        {
          "data": {
            "text/html": [
              "<div>\n",
              "<style scoped>\n",
              "    .dataframe tbody tr th:only-of-type {\n",
              "        vertical-align: middle;\n",
              "    }\n",
              "\n",
              "    .dataframe tbody tr th {\n",
              "        vertical-align: top;\n",
              "    }\n",
              "\n",
              "    .dataframe thead th {\n",
              "        text-align: right;\n",
              "    }\n",
              "</style>\n",
              "<table border=\"1\" class=\"dataframe\">\n",
              "  <thead>\n",
              "    <tr style=\"text-align: right;\">\n",
              "      <th></th>\n",
              "      <th>Revenue Category</th>\n",
              "      <th>Account</th>\n",
              "      <th>Cabinet</th>\n",
              "      <th>Department</th>\n",
              "      <th>FY21 Actual</th>\n",
              "      <th>FY22 Actual</th>\n",
              "      <th>FY23 Appropriation</th>\n",
              "      <th>FY24 Adopted</th>\n",
              "    </tr>\n",
              "  </thead>\n",
              "  <tbody>\n",
              "    <tr>\n",
              "      <th>0</th>\n",
              "      <td>Property Tax Levy</td>\n",
              "      <td>Real Estate Taxes</td>\n",
              "      <td>Finance</td>\n",
              "      <td>Assessing Department</td>\n",
              "      <td>2490082613</td>\n",
              "      <td>2630469593</td>\n",
              "      <td>2784133324</td>\n",
              "      <td>2913736657</td>\n",
              "    </tr>\n",
              "    <tr>\n",
              "      <th>1</th>\n",
              "      <td>Property Tax Levy</td>\n",
              "      <td>Personal Property Tax</td>\n",
              "      <td>Finance</td>\n",
              "      <td>Assessing Department</td>\n",
              "      <td>189939113</td>\n",
              "      <td>196499737</td>\n",
              "      <td>209010762</td>\n",
              "      <td>214236031</td>\n",
              "    </tr>\n",
              "    <tr>\n",
              "      <th>2</th>\n",
              "      <td>Property Tax Levy</td>\n",
              "      <td>Property Tax Overlay</td>\n",
              "      <td>Finance</td>\n",
              "      <td>Assessing Department</td>\n",
              "      <td>-3735387</td>\n",
              "      <td>-33174590</td>\n",
              "      <td>-29845007</td>\n",
              "      <td>-30000000</td>\n",
              "    </tr>\n",
              "    <tr>\n",
              "      <th>3</th>\n",
              "      <td>Excises</td>\n",
              "      <td>MV Excise - Current Year</td>\n",
              "      <td>Finance</td>\n",
              "      <td>Assessing Department</td>\n",
              "      <td>36012943</td>\n",
              "      <td>36227381</td>\n",
              "      <td>34000000</td>\n",
              "      <td>34000000</td>\n",
              "    </tr>\n",
              "    <tr>\n",
              "      <th>4</th>\n",
              "      <td>Excises</td>\n",
              "      <td>MV Excise - Prior Year</td>\n",
              "      <td>Finance</td>\n",
              "      <td>Assessing Department</td>\n",
              "      <td>15202795</td>\n",
              "      <td>21692077</td>\n",
              "      <td>17500000</td>\n",
              "      <td>18000000</td>\n",
              "    </tr>\n",
              "  </tbody>\n",
              "</table>\n",
              "</div>"
            ],
            "text/plain": [
              "    Revenue Category                   Account  Cabinet            Department  \\\n",
              "0  Property Tax Levy         Real Estate Taxes  Finance  Assessing Department   \n",
              "1  Property Tax Levy     Personal Property Tax  Finance  Assessing Department   \n",
              "2  Property Tax Levy      Property Tax Overlay  Finance  Assessing Department   \n",
              "3            Excises  MV Excise - Current Year  Finance  Assessing Department   \n",
              "4            Excises    MV Excise - Prior Year  Finance  Assessing Department   \n",
              "\n",
              "   FY21 Actual  FY22 Actual  FY23 Appropriation  FY24 Adopted  \n",
              "0   2490082613   2630469593          2784133324    2913736657  \n",
              "1    189939113    196499737           209010762     214236031  \n",
              "2     -3735387    -33174590           -29845007     -30000000  \n",
              "3     36012943     36227381            34000000      34000000  \n",
              "4     15202795     21692077            17500000      18000000  "
            ]
          },
          "execution_count": 30,
          "metadata": {},
          "output_type": "execute_result"
        }
      ],
      "source": [
        "money_cols = dset.iloc[:,-4:].columns\n",
        "dset[money_cols] = dset[money_cols].replace(regex=',', value='')\n",
        "dset[money_cols] = dset[money_cols].apply(pd.to_numeric)\n",
        "dset.head()"
      ]
    },
    {
      "cell_type": "code",
      "execution_count": 31,
      "metadata": {
        "colab": {
          "base_uri": "https://localhost:8080/"
        },
        "id": "EXS1toQW2hJ5",
        "outputId": "9e1b69c4-4fde-4ec8-e013-6ef8d9eb8c67"
      },
      "outputs": [
        {
          "data": {
            "text/plain": [
              "557497"
            ]
          },
          "execution_count": 31,
          "metadata": {},
          "output_type": "execute_result"
        }
      ],
      "source": [
        "dset['FY21 Actual'][6]"
      ]
    }
  ],
  "metadata": {
    "colab": {
      "provenance": []
    },
    "kernelspec": {
      "display_name": "Python 3",
      "name": "python3"
    },
    "language_info": {
      "codemirror_mode": {
        "name": "ipython",
        "version": 3
      },
      "file_extension": ".py",
      "mimetype": "text/x-python",
      "name": "python",
      "nbconvert_exporter": "python",
      "pygments_lexer": "ipython3",
      "version": "3.9.16"
    }
  },
  "nbformat": 4,
  "nbformat_minor": 0
}
