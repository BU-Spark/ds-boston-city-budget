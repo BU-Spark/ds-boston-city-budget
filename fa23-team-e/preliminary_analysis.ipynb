{
 "cells": [
  {
   "cell_type": "markdown",
   "metadata": {},
   "source": [
    "# Preliminary Analysis"
   ]
  },
  {
   "cell_type": "code",
   "execution_count": 1,
   "metadata": {},
   "outputs": [],
   "source": [
    "import pandas as pd\n",
    "import matplotlib.pyplot as plt\n",
    "\n",
    "operating_budget = pd.read_csv('data/fy24-adopted-operating-budget.csv')\n",
    "capital_budget = pd.read_csv('data/fy24-capital-budget-plan-recommended.csv')"
   ]
  },
  {
   "cell_type": "markdown",
   "metadata": {},
   "source": [
    "## 1. Data Exploration on Basic Info"
   ]
  },
  {
   "cell_type": "code",
   "execution_count": 2,
   "metadata": {},
   "outputs": [
    {
     "data": {
      "text/html": [
       "<div>\n",
       "<style scoped>\n",
       "    .dataframe tbody tr th:only-of-type {\n",
       "        vertical-align: middle;\n",
       "    }\n",
       "\n",
       "    .dataframe tbody tr th {\n",
       "        vertical-align: top;\n",
       "    }\n",
       "\n",
       "    .dataframe thead th {\n",
       "        text-align: right;\n",
       "    }\n",
       "</style>\n",
       "<table border=\"1\" class=\"dataframe\">\n",
       "  <thead>\n",
       "    <tr style=\"text-align: right;\">\n",
       "      <th></th>\n",
       "      <th>Cabinet</th>\n",
       "      <th>Dept</th>\n",
       "      <th>Program</th>\n",
       "      <th>Expense Category</th>\n",
       "      <th>FY21 Actual Expense</th>\n",
       "      <th>FY22 Actual Expense</th>\n",
       "      <th>FY23 Appropriation</th>\n",
       "      <th>FY24 Adopted</th>\n",
       "    </tr>\n",
       "  </thead>\n",
       "  <tbody>\n",
       "    <tr>\n",
       "      <th>0</th>\n",
       "      <td>Mayor's Cabinet</td>\n",
       "      <td>Mayor's Office</td>\n",
       "      <td>Mayor's Administration</td>\n",
       "      <td>Personnel Services</td>\n",
       "      <td>1820538.46</td>\n",
       "      <td>1624903.69</td>\n",
       "      <td>1584054.209</td>\n",
       "      <td>1921403.81</td>\n",
       "    </tr>\n",
       "    <tr>\n",
       "      <th>1</th>\n",
       "      <td>Mayor's Cabinet</td>\n",
       "      <td>Mayor's Office</td>\n",
       "      <td>Mayor's Administration</td>\n",
       "      <td>Contractual Services</td>\n",
       "      <td>127557.82</td>\n",
       "      <td>284597.9</td>\n",
       "      <td>99314</td>\n",
       "      <td>219633.42</td>\n",
       "    </tr>\n",
       "    <tr>\n",
       "      <th>2</th>\n",
       "      <td>Mayor's Cabinet</td>\n",
       "      <td>Mayor's Office</td>\n",
       "      <td>Mayor's Administration</td>\n",
       "      <td>Supplies &amp; Materials</td>\n",
       "      <td>27318.17</td>\n",
       "      <td>28541.55</td>\n",
       "      <td>44938</td>\n",
       "      <td>55573.65</td>\n",
       "    </tr>\n",
       "    <tr>\n",
       "      <th>3</th>\n",
       "      <td>Mayor's Cabinet</td>\n",
       "      <td>Mayor's Office</td>\n",
       "      <td>Mayor's Administration</td>\n",
       "      <td>Current Charges &amp; Obligations</td>\n",
       "      <td>11365.77</td>\n",
       "      <td>19410.3</td>\n",
       "      <td>29630</td>\n",
       "      <td>16734.29</td>\n",
       "    </tr>\n",
       "    <tr>\n",
       "      <th>4</th>\n",
       "      <td>Mayor's Cabinet</td>\n",
       "      <td>Mayor's Office</td>\n",
       "      <td>Mayor's Administration</td>\n",
       "      <td>Equipment</td>\n",
       "      <td>39040.6</td>\n",
       "      <td>16164.36</td>\n",
       "      <td>24900</td>\n",
       "      <td>36115</td>\n",
       "    </tr>\n",
       "  </tbody>\n",
       "</table>\n",
       "</div>"
      ],
      "text/plain": [
       "           Cabinet            Dept                 Program  \\\n",
       "0  Mayor's Cabinet  Mayor's Office  Mayor's Administration   \n",
       "1  Mayor's Cabinet  Mayor's Office  Mayor's Administration   \n",
       "2  Mayor's Cabinet  Mayor's Office  Mayor's Administration   \n",
       "3  Mayor's Cabinet  Mayor's Office  Mayor's Administration   \n",
       "4  Mayor's Cabinet  Mayor's Office  Mayor's Administration   \n",
       "\n",
       "                Expense Category FY21 Actual Expense FY22 Actual Expense  \\\n",
       "0             Personnel Services          1820538.46          1624903.69   \n",
       "1           Contractual Services           127557.82            284597.9   \n",
       "2           Supplies & Materials            27318.17            28541.55   \n",
       "3  Current Charges & Obligations            11365.77             19410.3   \n",
       "4                      Equipment             39040.6            16164.36   \n",
       "\n",
       "  FY23 Appropriation FY24 Adopted  \n",
       "0        1584054.209   1921403.81  \n",
       "1              99314    219633.42  \n",
       "2              44938     55573.65  \n",
       "3              29630     16734.29  \n",
       "4              24900        36115  "
      ]
     },
     "execution_count": 2,
     "metadata": {},
     "output_type": "execute_result"
    }
   ],
   "source": [
    "operating_budget.head()"
   ]
  },
  {
   "cell_type": "code",
   "execution_count": 3,
   "metadata": {},
   "outputs": [
    {
     "data": {
      "text/html": [
       "<div>\n",
       "<style scoped>\n",
       "    .dataframe tbody tr th:only-of-type {\n",
       "        vertical-align: middle;\n",
       "    }\n",
       "\n",
       "    .dataframe tbody tr th {\n",
       "        vertical-align: top;\n",
       "    }\n",
       "\n",
       "    .dataframe thead th {\n",
       "        text-align: right;\n",
       "    }\n",
       "</style>\n",
       "<table border=\"1\" class=\"dataframe\">\n",
       "  <thead>\n",
       "    <tr style=\"text-align: right;\">\n",
       "      <th></th>\n",
       "      <th>Department</th>\n",
       "      <th>Project_Name</th>\n",
       "      <th>Scope_Of_Work</th>\n",
       "      <th>PM_Department</th>\n",
       "      <th>Project_Status</th>\n",
       "      <th>Neighborhood</th>\n",
       "      <th>Authorization_Existing</th>\n",
       "      <th>Authorization_FY</th>\n",
       "      <th>Authorization_Future</th>\n",
       "      <th>Grant_Existing</th>\n",
       "      <th>...</th>\n",
       "      <th>GO_Expended</th>\n",
       "      <th>Capital_Year_0</th>\n",
       "      <th>CapitalYear_1</th>\n",
       "      <th>Capital_Year_25</th>\n",
       "      <th>Grant_Expended</th>\n",
       "      <th>Grant_Year_0</th>\n",
       "      <th>Grant_Year_1</th>\n",
       "      <th>GrantYear_25</th>\n",
       "      <th>External_Funds</th>\n",
       "      <th>Total_Project_Budget</th>\n",
       "    </tr>\n",
       "  </thead>\n",
       "  <tbody>\n",
       "    <tr>\n",
       "      <th>0</th>\n",
       "      <td>Boston Centers for Youth and Families</td>\n",
       "      <td>BCYF Security and Technology Upgrades</td>\n",
       "      <td>Improvements to technology infrastructure and ...</td>\n",
       "      <td>Boston Centers for Youth and Families</td>\n",
       "      <td>To Be Scheduled</td>\n",
       "      <td>Citywide</td>\n",
       "      <td>750000</td>\n",
       "      <td>1250000</td>\n",
       "      <td>0</td>\n",
       "      <td>0</td>\n",
       "      <td>...</td>\n",
       "      <td>0</td>\n",
       "      <td>0</td>\n",
       "      <td>100000</td>\n",
       "      <td>1900000</td>\n",
       "      <td>0</td>\n",
       "      <td>0</td>\n",
       "      <td>0</td>\n",
       "      <td>0</td>\n",
       "      <td>0</td>\n",
       "      <td>2000000</td>\n",
       "    </tr>\n",
       "    <tr>\n",
       "      <th>1</th>\n",
       "      <td>Boston Centers for Youth and Families</td>\n",
       "      <td>BCYF Tobin Community Center Retaining Wall</td>\n",
       "      <td>Repair or replace the retaining wall adjacent ...</td>\n",
       "      <td>Public Facilities Department</td>\n",
       "      <td>In Design</td>\n",
       "      <td>Mission Hill</td>\n",
       "      <td>1800000</td>\n",
       "      <td>0</td>\n",
       "      <td>0</td>\n",
       "      <td>0</td>\n",
       "      <td>...</td>\n",
       "      <td>0</td>\n",
       "      <td>100000</td>\n",
       "      <td>1500000</td>\n",
       "      <td>200000</td>\n",
       "      <td>0</td>\n",
       "      <td>0</td>\n",
       "      <td>0</td>\n",
       "      <td>0</td>\n",
       "      <td>0</td>\n",
       "      <td>1800000</td>\n",
       "    </tr>\n",
       "    <tr>\n",
       "      <th>2</th>\n",
       "      <td>Boston Centers for Youth and Families</td>\n",
       "      <td>BCYF North End Community Center</td>\n",
       "      <td>Develop a design for a new North End Community...</td>\n",
       "      <td>Public Facilities Department</td>\n",
       "      <td>In Design</td>\n",
       "      <td>North End</td>\n",
       "      <td>5000000</td>\n",
       "      <td>63000000</td>\n",
       "      <td>0</td>\n",
       "      <td>0</td>\n",
       "      <td>...</td>\n",
       "      <td>0</td>\n",
       "      <td>400000</td>\n",
       "      <td>3000000</td>\n",
       "      <td>64600000</td>\n",
       "      <td>0</td>\n",
       "      <td>0</td>\n",
       "      <td>0</td>\n",
       "      <td>0</td>\n",
       "      <td>20000000</td>\n",
       "      <td>88000000</td>\n",
       "    </tr>\n",
       "    <tr>\n",
       "      <th>3</th>\n",
       "      <td>Boston Centers for Youth and Families</td>\n",
       "      <td>Pool Repairs</td>\n",
       "      <td>Renovate and upgrade locker rooms and pools in...</td>\n",
       "      <td>Boston Centers for Youth and Families</td>\n",
       "      <td>Annual Program</td>\n",
       "      <td>Citywide</td>\n",
       "      <td>1300000</td>\n",
       "      <td>1000000</td>\n",
       "      <td>0</td>\n",
       "      <td>0</td>\n",
       "      <td>...</td>\n",
       "      <td>383450</td>\n",
       "      <td>450000</td>\n",
       "      <td>700000</td>\n",
       "      <td>766550</td>\n",
       "      <td>0</td>\n",
       "      <td>0</td>\n",
       "      <td>0</td>\n",
       "      <td>0</td>\n",
       "      <td>0</td>\n",
       "      <td>2300000</td>\n",
       "    </tr>\n",
       "    <tr>\n",
       "      <th>4</th>\n",
       "      <td>Boston Centers for Youth and Families</td>\n",
       "      <td>Youth Budget Round 4</td>\n",
       "      <td>Engage youth across the City to create a capit...</td>\n",
       "      <td>Youth Engagement and Employment</td>\n",
       "      <td>Implementation Underway</td>\n",
       "      <td>Citywide</td>\n",
       "      <td>1000000</td>\n",
       "      <td>0</td>\n",
       "      <td>0</td>\n",
       "      <td>0</td>\n",
       "      <td>...</td>\n",
       "      <td>17140</td>\n",
       "      <td>25000</td>\n",
       "      <td>250000</td>\n",
       "      <td>707860</td>\n",
       "      <td>0</td>\n",
       "      <td>0</td>\n",
       "      <td>0</td>\n",
       "      <td>0</td>\n",
       "      <td>0</td>\n",
       "      <td>1000000</td>\n",
       "    </tr>\n",
       "  </tbody>\n",
       "</table>\n",
       "<p>5 rows × 22 columns</p>\n",
       "</div>"
      ],
      "text/plain": [
       "                              Department  \\\n",
       "0  Boston Centers for Youth and Families   \n",
       "1  Boston Centers for Youth and Families   \n",
       "2  Boston Centers for Youth and Families   \n",
       "3  Boston Centers for Youth and Families   \n",
       "4  Boston Centers for Youth and Families   \n",
       "\n",
       "                                 Project_Name  \\\n",
       "0       BCYF Security and Technology Upgrades   \n",
       "1  BCYF Tobin Community Center Retaining Wall   \n",
       "2             BCYF North End Community Center   \n",
       "3                                Pool Repairs   \n",
       "4                        Youth Budget Round 4   \n",
       "\n",
       "                                       Scope_Of_Work  \\\n",
       "0  Improvements to technology infrastructure and ...   \n",
       "1  Repair or replace the retaining wall adjacent ...   \n",
       "2  Develop a design for a new North End Community...   \n",
       "3  Renovate and upgrade locker rooms and pools in...   \n",
       "4  Engage youth across the City to create a capit...   \n",
       "\n",
       "                           PM_Department           Project_Status  \\\n",
       "0  Boston Centers for Youth and Families          To Be Scheduled   \n",
       "1           Public Facilities Department                In Design   \n",
       "2           Public Facilities Department                In Design   \n",
       "3  Boston Centers for Youth and Families           Annual Program   \n",
       "4        Youth Engagement and Employment  Implementation Underway   \n",
       "\n",
       "   Neighborhood  Authorization_Existing  Authorization_FY  \\\n",
       "0      Citywide                  750000           1250000   \n",
       "1  Mission Hill                 1800000                 0   \n",
       "2     North End                 5000000          63000000   \n",
       "3      Citywide                 1300000           1000000   \n",
       "4      Citywide                 1000000                 0   \n",
       "\n",
       "   Authorization_Future   Grant_Existing   ...  GO_Expended  Capital_Year_0  \\\n",
       "0                     0                 0  ...            0               0   \n",
       "1                     0                 0  ...            0          100000   \n",
       "2                     0                 0  ...            0          400000   \n",
       "3                     0                 0  ...       383450          450000   \n",
       "4                     0                 0  ...        17140           25000   \n",
       "\n",
       "    CapitalYear_1   Capital_Year_25  Grant_Expended  Grant_Year_0  \\\n",
       "0           100000          1900000               0             0   \n",
       "1          1500000           200000               0             0   \n",
       "2          3000000         64600000               0             0   \n",
       "3           700000           766550               0             0   \n",
       "4           250000           707860               0             0   \n",
       "\n",
       "    Grant_Year_1   GrantYear_25  External_Funds  Total_Project_Budget  \n",
       "0               0             0               0               2000000  \n",
       "1               0             0               0               1800000  \n",
       "2               0             0        20000000              88000000  \n",
       "3               0             0               0               2300000  \n",
       "4               0             0               0               1000000  \n",
       "\n",
       "[5 rows x 22 columns]"
      ]
     },
     "execution_count": 3,
     "metadata": {},
     "output_type": "execute_result"
    }
   ],
   "source": [
    "capital_budget.head()"
   ]
  },
  {
   "cell_type": "markdown",
   "metadata": {},
   "source": [
    "#### Check Data Info"
   ]
  },
  {
   "cell_type": "code",
   "execution_count": 4,
   "metadata": {},
   "outputs": [
    {
     "name": "stdout",
     "output_type": "stream",
     "text": [
      "<class 'pandas.core.frame.DataFrame'>\n",
      "RangeIndex: 900 entries, 0 to 899\n",
      "Data columns (total 8 columns):\n",
      " #   Column               Non-Null Count  Dtype \n",
      "---  ------               --------------  ----- \n",
      " 0   Cabinet              900 non-null    object\n",
      " 1   Dept                 900 non-null    object\n",
      " 2   Program              900 non-null    object\n",
      " 3   Expense Category     900 non-null    object\n",
      " 4   FY21 Actual Expense  900 non-null    object\n",
      " 5   FY22 Actual Expense  900 non-null    object\n",
      " 6   FY23 Appropriation   900 non-null    object\n",
      " 7   FY24 Adopted         900 non-null    object\n",
      "dtypes: object(8)\n",
      "memory usage: 56.4+ KB\n"
     ]
    }
   ],
   "source": [
    "operating_budget.info()"
   ]
  },
  {
   "cell_type": "code",
   "execution_count": 5,
   "metadata": {},
   "outputs": [
    {
     "name": "stdout",
     "output_type": "stream",
     "text": [
      "<class 'pandas.core.frame.DataFrame'>\n",
      "RangeIndex: 433 entries, 0 to 432\n",
      "Data columns (total 22 columns):\n",
      " #   Column                  Non-Null Count  Dtype \n",
      "---  ------                  --------------  ----- \n",
      " 0   Department              433 non-null    object\n",
      " 1   Project_Name            433 non-null    object\n",
      " 2   Scope_Of_Work           433 non-null    object\n",
      " 3   PM_Department           433 non-null    object\n",
      " 4   Project_Status          433 non-null    object\n",
      " 5   Neighborhood            433 non-null    object\n",
      " 6   Authorization_Existing  433 non-null    int64 \n",
      " 7   Authorization_FY        433 non-null    int64 \n",
      " 8   Authorization_Future    433 non-null    int64 \n",
      " 9    Grant_Existing         433 non-null    int64 \n",
      " 10   Grant_FY               433 non-null    int64 \n",
      " 11   Grant_Future           433 non-null    int64 \n",
      " 12  GO_Expended             433 non-null    int64 \n",
      " 13  Capital_Year_0          433 non-null    int64 \n",
      " 14   CapitalYear_1          433 non-null    int64 \n",
      " 15  Capital_Year_25         433 non-null    int64 \n",
      " 16  Grant_Expended          433 non-null    int64 \n",
      " 17  Grant_Year_0            433 non-null    int64 \n",
      " 18   Grant_Year_1           433 non-null    int64 \n",
      " 19  GrantYear_25            433 non-null    int64 \n",
      " 20  External_Funds          433 non-null    int64 \n",
      " 21  Total_Project_Budget    433 non-null    object\n",
      "dtypes: int64(15), object(7)\n",
      "memory usage: 74.6+ KB\n"
     ]
    }
   ],
   "source": [
    "capital_budget.info()"
   ]
  },
  {
   "cell_type": "markdown",
   "metadata": {},
   "source": [
    "#### Check Unique Values"
   ]
  },
  {
   "cell_type": "code",
   "execution_count": 6,
   "metadata": {},
   "outputs": [
    {
     "data": {
      "text/plain": [
       "Cabinet                 21\n",
       "Dept                    82\n",
       "Program                220\n",
       "Expense Category         7\n",
       "FY21 Actual Expense    710\n",
       "FY22 Actual Expense    755\n",
       "FY23 Appropriation     698\n",
       "FY24 Adopted           738\n",
       "dtype: int64"
      ]
     },
     "execution_count": 6,
     "metadata": {},
     "output_type": "execute_result"
    }
   ],
   "source": [
    "operating_budget.nunique()"
   ]
  },
  {
   "cell_type": "code",
   "execution_count": 7,
   "metadata": {},
   "outputs": [
    {
     "data": {
      "text/plain": [
       "Department                 17\n",
       "Project_Name              433\n",
       "Scope_Of_Work             413\n",
       "PM_Department              20\n",
       "Project_Status              7\n",
       "Neighborhood               24\n",
       "Authorization_Existing    189\n",
       "Authorization_FY           80\n",
       "Authorization_Future       28\n",
       " Grant_Existing            55\n",
       " Grant_FY                  21\n",
       " Grant_Future               8\n",
       "GO_Expended               124\n",
       "Capital_Year_0             63\n",
       " CapitalYear_1             92\n",
       "Capital_Year_25           243\n",
       "Grant_Expended             37\n",
       "Grant_Year_0               28\n",
       " Grant_Year_1              31\n",
       "GrantYear_25               62\n",
       "External_Funds             20\n",
       "Total_Project_Budget      242\n",
       "dtype: int64"
      ]
     },
     "execution_count": 7,
     "metadata": {},
     "output_type": "execute_result"
    }
   ],
   "source": [
    "capital_budget.nunique()"
   ]
  },
  {
   "cell_type": "markdown",
   "metadata": {},
   "source": [
    "#### Check Missing Values"
   ]
  },
  {
   "cell_type": "code",
   "execution_count": 8,
   "metadata": {},
   "outputs": [
    {
     "data": {
      "text/plain": [
       "Cabinet                0\n",
       "Dept                   0\n",
       "Program                0\n",
       "Expense Category       0\n",
       "FY21 Actual Expense    0\n",
       "FY22 Actual Expense    0\n",
       "FY23 Appropriation     0\n",
       "FY24 Adopted           0\n",
       "dtype: int64"
      ]
     },
     "execution_count": 8,
     "metadata": {},
     "output_type": "execute_result"
    }
   ],
   "source": [
    "operating_budget.isnull().sum()"
   ]
  },
  {
   "cell_type": "code",
   "execution_count": 9,
   "metadata": {},
   "outputs": [
    {
     "data": {
      "text/plain": [
       "Department                0\n",
       "Project_Name              0\n",
       "Scope_Of_Work             0\n",
       "PM_Department             0\n",
       "Project_Status            0\n",
       "Neighborhood              0\n",
       "Authorization_Existing    0\n",
       "Authorization_FY          0\n",
       "Authorization_Future      0\n",
       " Grant_Existing           0\n",
       " Grant_FY                 0\n",
       " Grant_Future             0\n",
       "GO_Expended               0\n",
       "Capital_Year_0            0\n",
       " CapitalYear_1            0\n",
       "Capital_Year_25           0\n",
       "Grant_Expended            0\n",
       "Grant_Year_0              0\n",
       " Grant_Year_1             0\n",
       "GrantYear_25              0\n",
       "External_Funds            0\n",
       "Total_Project_Budget      0\n",
       "dtype: int64"
      ]
     },
     "execution_count": 9,
     "metadata": {},
     "output_type": "execute_result"
    }
   ],
   "source": [
    "capital_budget.isnull().sum()"
   ]
  },
  {
   "cell_type": "markdown",
   "metadata": {},
   "source": [
    "There are Missing values that are marked as strings instead of NA. We need make the integer columns correct."
   ]
  },
  {
   "cell_type": "markdown",
   "metadata": {},
   "source": [
    "#### Change the columns"
   ]
  },
  {
   "cell_type": "code",
   "execution_count": 10,
   "metadata": {},
   "outputs": [
    {
     "name": "stdout",
     "output_type": "stream",
     "text": [
      "<class 'pandas.core.frame.DataFrame'>\n",
      "RangeIndex: 900 entries, 0 to 899\n",
      "Data columns (total 8 columns):\n",
      " #   Column               Non-Null Count  Dtype  \n",
      "---  ------               --------------  -----  \n",
      " 0   Cabinet              900 non-null    object \n",
      " 1   Dept                 900 non-null    object \n",
      " 2   Program              900 non-null    object \n",
      " 3   Expense Category     900 non-null    object \n",
      " 4   FY21 Actual Expense  723 non-null    float64\n",
      " 5   FY22 Actual Expense  759 non-null    float64\n",
      " 6   FY23 Appropriation   785 non-null    float64\n",
      " 7   FY24 Adopted         812 non-null    float64\n",
      "dtypes: float64(4), object(4)\n",
      "memory usage: 56.4+ KB\n"
     ]
    }
   ],
   "source": [
    "operating_budget['FY21 Actual Expense'] = operating_budget['FY21 Actual Expense'].str.replace(',', '')\n",
    "operating_budget['FY21 Actual Expense'] = pd.to_numeric(operating_budget['FY21 Actual Expense'], errors='coerce')\n",
    "\n",
    "operating_budget['FY22 Actual Expense'] = operating_budget['FY22 Actual Expense'].str.replace(',', '')\n",
    "operating_budget['FY22 Actual Expense'] = pd.to_numeric(operating_budget['FY22 Actual Expense'], errors='coerce')\n",
    "\n",
    "operating_budget['FY23 Appropriation'] = operating_budget['FY23 Appropriation'].str.replace(',', '')\n",
    "operating_budget['FY23 Appropriation'] = pd.to_numeric(operating_budget['FY23 Appropriation'], errors='coerce')\n",
    "\n",
    "operating_budget['FY24 Adopted'] = operating_budget['FY24 Adopted'].str.replace(',', '')\n",
    "operating_budget['FY24 Adopted'] = pd.to_numeric(operating_budget['FY24 Adopted'], errors='coerce')\n",
    "\n",
    "operating_budget.info()"
   ]
  },
  {
   "cell_type": "code",
   "execution_count": 11,
   "metadata": {},
   "outputs": [
    {
     "data": {
      "text/plain": [
       "Cabinet                  0\n",
       "Dept                     0\n",
       "Program                  0\n",
       "Expense Category         0\n",
       "FY21 Actual Expense    177\n",
       "FY22 Actual Expense    141\n",
       "FY23 Appropriation     115\n",
       "FY24 Adopted            88\n",
       "dtype: int64"
      ]
     },
     "execution_count": 11,
     "metadata": {},
     "output_type": "execute_result"
    }
   ],
   "source": [
    "operating_budget.isnull().sum()"
   ]
  },
  {
   "cell_type": "code",
   "execution_count": 12,
   "metadata": {},
   "outputs": [
    {
     "data": {
      "text/html": [
       "<div>\n",
       "<style scoped>\n",
       "    .dataframe tbody tr th:only-of-type {\n",
       "        vertical-align: middle;\n",
       "    }\n",
       "\n",
       "    .dataframe tbody tr th {\n",
       "        vertical-align: top;\n",
       "    }\n",
       "\n",
       "    .dataframe thead th {\n",
       "        text-align: right;\n",
       "    }\n",
       "</style>\n",
       "<table border=\"1\" class=\"dataframe\">\n",
       "  <thead>\n",
       "    <tr style=\"text-align: right;\">\n",
       "      <th></th>\n",
       "      <th>Cabinet</th>\n",
       "      <th>Dept</th>\n",
       "      <th>Program</th>\n",
       "      <th>Expense Category</th>\n",
       "      <th>FY21</th>\n",
       "      <th>FY22</th>\n",
       "      <th>FY23</th>\n",
       "      <th>FY24</th>\n",
       "    </tr>\n",
       "  </thead>\n",
       "  <tbody>\n",
       "    <tr>\n",
       "      <th>0</th>\n",
       "      <td>Mayor's Cabinet</td>\n",
       "      <td>Mayor's Office</td>\n",
       "      <td>Mayor's Administration</td>\n",
       "      <td>Personnel Services</td>\n",
       "      <td>1820538.46</td>\n",
       "      <td>1624903.69</td>\n",
       "      <td>1584054.209</td>\n",
       "      <td>1921403.81</td>\n",
       "    </tr>\n",
       "    <tr>\n",
       "      <th>1</th>\n",
       "      <td>Mayor's Cabinet</td>\n",
       "      <td>Mayor's Office</td>\n",
       "      <td>Mayor's Administration</td>\n",
       "      <td>Contractual Services</td>\n",
       "      <td>127557.82</td>\n",
       "      <td>284597.90</td>\n",
       "      <td>99314.000</td>\n",
       "      <td>219633.42</td>\n",
       "    </tr>\n",
       "    <tr>\n",
       "      <th>2</th>\n",
       "      <td>Mayor's Cabinet</td>\n",
       "      <td>Mayor's Office</td>\n",
       "      <td>Mayor's Administration</td>\n",
       "      <td>Supplies &amp; Materials</td>\n",
       "      <td>27318.17</td>\n",
       "      <td>28541.55</td>\n",
       "      <td>44938.000</td>\n",
       "      <td>55573.65</td>\n",
       "    </tr>\n",
       "    <tr>\n",
       "      <th>3</th>\n",
       "      <td>Mayor's Cabinet</td>\n",
       "      <td>Mayor's Office</td>\n",
       "      <td>Mayor's Administration</td>\n",
       "      <td>Current Charges &amp; Obligations</td>\n",
       "      <td>11365.77</td>\n",
       "      <td>19410.30</td>\n",
       "      <td>29630.000</td>\n",
       "      <td>16734.29</td>\n",
       "    </tr>\n",
       "    <tr>\n",
       "      <th>4</th>\n",
       "      <td>Mayor's Cabinet</td>\n",
       "      <td>Mayor's Office</td>\n",
       "      <td>Mayor's Administration</td>\n",
       "      <td>Equipment</td>\n",
       "      <td>39040.60</td>\n",
       "      <td>16164.36</td>\n",
       "      <td>24900.000</td>\n",
       "      <td>36115.00</td>\n",
       "    </tr>\n",
       "  </tbody>\n",
       "</table>\n",
       "</div>"
      ],
      "text/plain": [
       "           Cabinet            Dept                 Program  \\\n",
       "0  Mayor's Cabinet  Mayor's Office  Mayor's Administration   \n",
       "1  Mayor's Cabinet  Mayor's Office  Mayor's Administration   \n",
       "2  Mayor's Cabinet  Mayor's Office  Mayor's Administration   \n",
       "3  Mayor's Cabinet  Mayor's Office  Mayor's Administration   \n",
       "4  Mayor's Cabinet  Mayor's Office  Mayor's Administration   \n",
       "\n",
       "                Expense Category        FY21        FY22         FY23  \\\n",
       "0             Personnel Services  1820538.46  1624903.69  1584054.209   \n",
       "1           Contractual Services   127557.82   284597.90    99314.000   \n",
       "2           Supplies & Materials    27318.17    28541.55    44938.000   \n",
       "3  Current Charges & Obligations    11365.77    19410.30    29630.000   \n",
       "4                      Equipment    39040.60    16164.36    24900.000   \n",
       "\n",
       "         FY24  \n",
       "0  1921403.81  \n",
       "1   219633.42  \n",
       "2    55573.65  \n",
       "3    16734.29  \n",
       "4    36115.00  "
      ]
     },
     "execution_count": 12,
     "metadata": {},
     "output_type": "execute_result"
    }
   ],
   "source": [
    "# rename some columns for easier access\n",
    "operating_budget.rename(columns={'FY21 Actual Expense': 'FY21', 'FY22 Actual Expense': 'FY22', 'FY23 Appropriation': 'FY23', 'FY24 Adopted': 'FY24'}, inplace=True)\n",
    "operating_budget.head()"
   ]
  },
  {
   "cell_type": "code",
   "execution_count": 13,
   "metadata": {},
   "outputs": [],
   "source": [
    "# pd.read_csv('data/fy24-adopted-operating-budget.csv').iloc[889]"
   ]
  },
  {
   "cell_type": "code",
   "execution_count": 14,
   "metadata": {},
   "outputs": [],
   "source": [
    "# operating_budget.iloc[889]"
   ]
  },
  {
   "cell_type": "code",
   "execution_count": 15,
   "metadata": {},
   "outputs": [
    {
     "name": "stdout",
     "output_type": "stream",
     "text": [
      "<class 'pandas.core.frame.DataFrame'>\n",
      "RangeIndex: 433 entries, 0 to 432\n",
      "Data columns (total 22 columns):\n",
      " #   Column                  Non-Null Count  Dtype \n",
      "---  ------                  --------------  ----- \n",
      " 0   Department              433 non-null    object\n",
      " 1   Project_Name            433 non-null    object\n",
      " 2   Scope_Of_Work           433 non-null    object\n",
      " 3   PM_Department           433 non-null    object\n",
      " 4   Project_Status          433 non-null    object\n",
      " 5   Neighborhood            433 non-null    object\n",
      " 6   Authorization_Existing  433 non-null    int64 \n",
      " 7   Authorization_FY        433 non-null    int64 \n",
      " 8   Authorization_Future    433 non-null    int64 \n",
      " 9    Grant_Existing         433 non-null    int64 \n",
      " 10   Grant_FY               433 non-null    int64 \n",
      " 11   Grant_Future           433 non-null    int64 \n",
      " 12  GO_Expended             433 non-null    int64 \n",
      " 13  Capital_Year_0          433 non-null    int64 \n",
      " 14   CapitalYear_1          433 non-null    int64 \n",
      " 15  Capital_Year_25         433 non-null    int64 \n",
      " 16  Grant_Expended          433 non-null    int64 \n",
      " 17  Grant_Year_0            433 non-null    int64 \n",
      " 18   Grant_Year_1           433 non-null    int64 \n",
      " 19  GrantYear_25            433 non-null    int64 \n",
      " 20  External_Funds          433 non-null    int64 \n",
      " 21  Total_Project_Budget    433 non-null    int64 \n",
      "dtypes: int64(16), object(6)\n",
      "memory usage: 74.6+ KB\n"
     ]
    }
   ],
   "source": [
    "capital_budget['Total_Project_Budget'] = capital_budget['Total_Project_Budget'].str.replace(',', '')\n",
    "capital_budget['Total_Project_Budget'] = pd.to_numeric(capital_budget['Total_Project_Budget'], errors='coerce')\n",
    "capital_budget['Total_Project_Budget'] = capital_budget['Total_Project_Budget'].astype('int64')\n",
    "\n",
    "capital_budget.info()"
   ]
  },
  {
   "cell_type": "markdown",
   "metadata": {},
   "source": [
    "#### Adjust/Unify Column Names"
   ]
  },
  {
   "cell_type": "code",
   "execution_count": 16,
   "metadata": {},
   "outputs": [
    {
     "data": {
      "text/plain": [
       "Index(['Department', 'Project_Name', 'Scope_Of_Work', 'PM_Department',\n",
       "       'Project_Status', 'Neighborhood', 'Authorization_Previous',\n",
       "       'Authorization_Current', 'Authorization_Future', 'Grant_Existing',\n",
       "       'Grant_Current', 'Grant_Future', 'Capital_Expended', 'Capital_Year_0',\n",
       "       'Capital_Year_1', 'Capital_Year_2_5', 'Grant_Expended', 'Grant_Year_0',\n",
       "       'Grant_Year_1', 'GrantYear_2_5', 'External_Funds',\n",
       "       'Total_Project_Budget'],\n",
       "      dtype='object')"
      ]
     },
     "execution_count": 16,
     "metadata": {},
     "output_type": "execute_result"
    }
   ],
   "source": [
    "capital_budget.columns = ['Department', 'Project_Name', 'Scope_Of_Work', 'PM_Department',\n",
    "       'Project_Status', 'Neighborhood', 'Authorization_Previous',\n",
    "       'Authorization_Current', 'Authorization_Future', 'Grant_Existing',\n",
    "       'Grant_Current', 'Grant_Future', 'Capital_Expended', 'Capital_Year_0',\n",
    "       'Capital_Year_1', 'Capital_Year_2_5', 'Grant_Expended', 'Grant_Year_0',\n",
    "       'Grant_Year_1', 'GrantYear_2_5', 'External_Funds',\n",
    "       'Total_Project_Budget']\n",
    "capital_budget.columns"
   ]
  },
  {
   "cell_type": "markdown",
   "metadata": {},
   "source": [
    "#### Now save the two datasets for future uses"
   ]
  },
  {
   "cell_type": "code",
   "execution_count": 17,
   "metadata": {},
   "outputs": [],
   "source": [
    "capital_budget.to_csv('data/capital_budget.csv', index=False)\n",
    "operating_budget.to_csv('data/operating_budget.csv', index=False)"
   ]
  },
  {
   "cell_type": "markdown",
   "metadata": {},
   "source": [
    "The questions that we can the most interesting in answering, which is the spending over time, can be examined in time series to further explore the data."
   ]
  }
 ],
 "metadata": {
  "kernelspec": {
   "display_name": "Python 3.11.0 64-bit",
   "language": "python",
   "name": "python3"
  },
  "language_info": {
   "codemirror_mode": {
    "name": "ipython",
    "version": 3
   },
   "file_extension": ".py",
   "mimetype": "text/x-python",
   "name": "python",
   "nbconvert_exporter": "python",
   "pygments_lexer": "ipython3",
   "version": "3.11.4"
  },
  "orig_nbformat": 4,
  "vscode": {
   "interpreter": {
    "hash": "aee8b7b246df8f9039afb4144a1f6fd8d2ca17a180786b69acc140d282b71a49"
   }
  }
 },
 "nbformat": 4,
 "nbformat_minor": 2
}
